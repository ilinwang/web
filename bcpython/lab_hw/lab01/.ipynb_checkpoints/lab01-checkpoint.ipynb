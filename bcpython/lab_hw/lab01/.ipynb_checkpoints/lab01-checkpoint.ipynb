{
 "cells": [
  {
   "cell_type": "markdown",
   "metadata": {},
   "source": [
    "### 最佳五人\n",
    "  \n",
    "根據 seasons_stats.csv，選出 2015 - 2017 三個球季中的最佳五人。  \n",
    "  \n",
    "籃球場上五個位置的判斷標準如下，數值均為越大越好:  \n",
    "* PG (控球後衛): <b><font color='red'>助攻-失誤比 + 抄截-失誤比</font></b>\n",
    "    * 助攻: AST，位在 -6 的欄位\n",
    "    * 抄截: STL，位在 -5 的欄位\n",
    "    * 失誤: TOV，位在 -3 的欄位\n",
    "    * xx-失誤比指的是平均多少次 xx 會出現一次失誤。計算上就是 <font color='red'>xx / TOV</font>\n",
    "* SG (得分後衛): <b><font color='red'>有效命中率 * 100 + 每場平均得分 + 每場平均籃板 * 0.8 + 每場平均助攻 * 0.8</font></b>\n",
    "    * 有效命中率: eFG%，位在 -13 的欄位\n",
    "    * 得分: PTS，位在 -1 的欄位\n",
    "    * 籃板: TRB，位在 -7 的欄位\n",
    "* SF (小前鋒): <b><font color='red'>每場平均籃板 + 每場平均助攻 + 每場平均抄截 + 每場平均阻攻 + 每場平均得分</font></b>\n",
    "    * 阻攻: BLK，位在 -4 的欄位\n",
    "* PF (大前鋒): <b><font color='red'>每場平均籃板 * 1.2 + 每場平均阻攻 + 每場平均得分 + 兩分球命中率 * 20</font></b>\n",
    "    * 兩分球命中率: 2P%，位在 -14 的欄位\n",
    "* C (中鋒): <b><font color='red'>每場平均籃板 * 1.2 + 每場平均抄截 * 1.2 + 每場平均得分 * 1.2 + 每場平均助攻 + 兩分球命中率 * 20</font></b>\n",
    "<br>\n",
    "<br>\n",
    "* 有兩件事必須特別注意\n",
    "    * 有些人專職打一個位置，但也有些人可以打兩個位置，要觀察一下每個人在 Pos 這個欄位的值。比方說，有個人能打 SG-SF，那麼在比這兩個位置的時候，這個人都要放進去比  \n",
    "    * 由於比較的是所有人在這三年的數據，因此可能出現兩個位置的最佳球員是不同球季的同一人的情況\n",
    "<br>    \n",
    "<br>\n",
    "最後，請將各個位置的最佳球員輸出到 best_five.csv 這個檔案裡。需要的欄位有球季 (Season)、姓名 (Name)、位置 (Positioin)、身高 (Height) 和體重 (Weight)。關於球員身高和體重的資料，可以從 players.csv 中找到。  \n",
    "  \n",
    "seasons_stats.csv 裡的資料有字串、整數和浮點數等，運算的時候還要做一堆轉換會很不方便。因此，題目為大家寫好了轉換用的函式，只要照著下面的用法做就可以。首先，請你/妳執行下面這一格:"
   ]
  },
  {
   "cell_type": "code",
   "execution_count": null,
   "metadata": {},
   "outputs": [],
   "source": [
    "def toNum(x):\n",
    "    try:\n",
    "        return int(x)\n",
    "    except ValueError:\n",
    "        try:\n",
    "            return float(x)\n",
    "        except:\n",
    "            return x"
   ]
  },
  {
   "cell_type": "markdown",
   "metadata": {},
   "source": [
    "接著，請執行下面的程式碼來使用轉換的語法。它可以幫助我們把列表中球員資料數字的部分轉換為數字，而字串維持字串。"
   ]
  },
  {
   "cell_type": "code",
   "execution_count": null,
   "metadata": {},
   "outputs": [],
   "source": [
    "'''\n",
    "比方說，我們在切割資料之後得到如下的列表\n",
    "Say we have something like the following list after splitting the players' data\n",
    "'''\n",
    "lst = [['22878', '2015', 'Al-Farouq Aminu', 'SF', '24', 'DAL', '74', '3', '1366', '14.4', '0.504', '0.347'],\n",
    "       ['23737', '2016', 'Gerald Henderson', 'SG', '28', 'POR', '72', '0', '1431', '12.9', '0.526', '0.257'],\n",
    "       ['24511', '2017', 'Kelly Olynyk', 'C', '25', 'BOS', '75', '6', '1538', '15.2', '0.603', '0.378']]\n",
    "\n",
    "print(lst)\n",
    "print()\n",
    "\n",
    "'''\n",
    "下面的語法可以把像上面這種，大列表裡面含有很多個人資料的小列表，僅針對數字部分做處理\n",
    "照抄使用就可以，唯一需要更動的是你/妳列表的名字，也就是這個例子裡面的 lst\n",
    "Using the following statement allows us to covert only the number values in a list of lists\n",
    "Just copy-paste it in your code. The only thing you will need to modify is the name of your list\n",
    "(namely, \"lst\" in this example)\n",
    "'''\n",
    "new_lst = [[toNum(elem) for elem in sub_lst] for sub_lst in lst]\n",
    "print(new_lst)"
   ]
  },
  {
   "cell_type": "markdown",
   "metadata": {},
   "source": [
    "最後，沒意外的話，你/妳應該要得到如下的結果:  \n",
    "  \n",
    "![best_five](lab01-01.jpg)"
   ]
  },
  {
   "cell_type": "code",
   "execution_count": null,
   "metadata": {},
   "outputs": [],
   "source": []
  }
 ],
 "metadata": {
  "kernelspec": {
   "display_name": "Python 3",
   "language": "python",
   "name": "python3"
  },
  "language_info": {
   "codemirror_mode": {
    "name": "ipython",
    "version": 3
   },
   "file_extension": ".py",
   "mimetype": "text/x-python",
   "name": "python",
   "nbconvert_exporter": "python",
   "pygments_lexer": "ipython3",
   "version": "3.7.6"
  },
  "toc": {
   "base_numbering": 1,
   "nav_menu": {},
   "number_sections": true,
   "sideBar": true,
   "skip_h1_title": false,
   "title_cell": "Table of Contents",
   "title_sidebar": "Contents",
   "toc_cell": false,
   "toc_position": {},
   "toc_section_display": true,
   "toc_window_display": false
  }
 },
 "nbformat": 4,
 "nbformat_minor": 2
}
