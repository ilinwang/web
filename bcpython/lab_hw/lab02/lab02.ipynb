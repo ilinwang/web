{
 "cells": [
  {
   "cell_type": "markdown",
   "metadata": {},
   "source": [
    "### 二維列表與函式\n",
    "  \n",
    "在本次實作中，你/妳將需要寫出題目所要求的函式，而這當中的每一個函式都與二維列表有關。在開始之前，有兩個函式提供給大家，這對完成本次實作有一些幫助。  \n",
    "  \n",
    "第一個是 createGrid(height, width) 函式。呼叫此函式將會回傳一個有 height 列 (橫的) width 行 (直的) 的零矩陣(亦即，所有的元素均為零的矩陣)。  \n",
    "  \n",
    "第二個是 printGrid(grid) 函式。這個函式會幫我們把二維列表的中括號去掉，並且排版成漂亮的樣子。請執行下面的程式碼:"
   ]
  },
  {
   "cell_type": "code",
   "execution_count": null,
   "metadata": {},
   "outputs": [],
   "source": [
    "def createGrid(height, width):\n",
    "    grid = []\n",
    "    for i in range(height):\n",
    "        grid += [[0] * width]\n",
    "    return grid\n",
    "\n",
    "def printGrid(grid):\n",
    "    for h in range(len(grid)):\n",
    "        for w in range(len(grid[0])):\n",
    "            print(grid[h][w], end=' ')\n",
    "        print()\n",
    "    print()\n",
    "\n",
    "grid = createGrid(3, 5)\n",
    "printGrid(grid)"
   ]
  },
  {
   "cell_type": "markdown",
   "metadata": {},
   "source": [
    "現在，請利用自己對二維列表的了解和上面的兩個函式，完成下面問題。  \n",
    "  \n",
    "1. 寫出一個叫 modGrid(grid, num) 的函式。這個函式會接收兩個參數: 第一個是二維列表 grid，第二個則是整數 num。執行之後，它會把二維列表中的每一個元素用 num 去取餘數。比方說:  \n",
    "  \n",
    "![modGrid](lab02-01.jpg)"
   ]
  },
  {
   "cell_type": "code",
   "execution_count": null,
   "metadata": {},
   "outputs": [],
   "source": []
  },
  {
   "cell_type": "markdown",
   "metadata": {},
   "source": [
    "我們注意到 modGrid() 並不會回傳任何東西，而是直接去更動傳入的二維列表當中元素的值。這樣有時候會造成一些困擾。\n",
    "\n",
    "2. 寫出一個新版的函式，把它叫做 modGrid_new(grid, num)。這個函式會把傳進去的二維列表保持原樣，並回傳一個計算過後的二維列表。下面是一個範例: (提示: 可以利用 createGrid() 先做出一個一模一樣的二維列表，利用這個複製品來做運算，然後回傳)  \n",
    "  \n",
    "![modGrid_new](lab02-02.jpg)  "
   ]
  },
  {
   "cell_type": "code",
   "execution_count": null,
   "metadata": {},
   "outputs": [],
   "source": []
  },
  {
   "cell_type": "markdown",
   "metadata": {},
   "source": [
    "3. 寫出一個叫 diagonalGrid(height, width) 的函式。這個函式會回傳一個除了對角線是 1，其餘元素均為 0 的二維列表。所謂對角線，是由左上到右下，列 (row) 與行 (column) 位置相同的一條斜線。範例如下: (提示: 可以利用 createGrid() 做出一個零矩陣，再去把需要更動的部分作修改)  \n",
    "  \n",
    "![diagonalGrid](lab02-03.jpg)"
   ]
  },
  {
   "cell_type": "code",
   "execution_count": null,
   "metadata": {},
   "outputs": [],
   "source": []
  },
  {
   "cell_type": "markdown",
   "metadata": {},
   "source": [
    "4. 寫出一個叫 innerGrid(height, width) 的函式。這個函式會回傳一個最外圍的「框」為 0，中間部分為 1 的二維列表。下圖是一個例子: (提示: 可以利用 createGrid() 做出一個零矩陣，再去把需要更動的部分作修改)\n",
    "  \n",
    "![innerGrid](lab02-04.jpg)"
   ]
  },
  {
   "cell_type": "code",
   "execution_count": null,
   "metadata": {},
   "outputs": [],
   "source": []
  },
  {
   "cell_type": "markdown",
   "metadata": {},
   "source": [
    "5.  寫出一個叫 randomGrid(height, width) 的函式。這個函式會回傳一個外圍為 0，中間各個元素由 0 與 1 兩者隨機決定其一的二維列表。比方說: \n",
    "\n",
    "![randomGrid](lab02-05.jpg)"
   ]
  },
  {
   "cell_type": "code",
   "execution_count": null,
   "metadata": {},
   "outputs": [],
   "source": []
  },
  {
   "cell_type": "markdown",
   "metadata": {},
   "source": [
    "6. 如同我們在課堂上提過的，單純的賦值並不會達到複製列表的效果。這件事對於二維列表而言也是如此。舉個例子:  \n",
    "  \n",
    "![copyGrid-01](lab02-06-1.jpg)  \n",
    "  \n",
    "此時，grid2 只是 grid1 的一個「別名」(alias)。  \n",
    "為了避免這個問題，請寫出一個叫 copyGrid(grid) 的函式。這個函式將會回傳一個「真正的」複製品。注意，僅僅使用 grid[:] 是行不通的，它會變成得到所有列 (row) 的別名 (因為我們此時處理的是二維列表而非一維)。那麼，應該怎麼做呢？  \n",
    "  \n",
    "我們可以一樣利用 createGrid() 來先製造一大小相同的二維列表，然後利用迴圈把裡面的元素一個一個複製過去。注意回傳的時候要回傳新做出來的那個。完成之後，就可以得到如下的效果:  \n",
    "  \n",
    "![copyGrid-02](lab02-06-2.jpg)"
   ]
  },
  {
   "cell_type": "code",
   "execution_count": null,
   "metadata": {},
   "outputs": [],
   "source": []
  },
  {
   "cell_type": "markdown",
   "metadata": {},
   "source": [
    "7. 寫出一個叫 invert(grid) 的函式。這個函式會把傳入的二維列表中的 0 和 1 互換，並且不會回傳任何值，像是這樣:  \n",
    "  \n",
    "![invert](lab02-07.jpg)"
   ]
  },
  {
   "cell_type": "code",
   "execution_count": null,
   "metadata": {},
   "outputs": [],
   "source": []
  },
  {
   "cell_type": "markdown",
   "metadata": {},
   "source": [
    "8. 寫出一個叫 has_lr_neighbor(grid) 的函式。這個函式會建立並回傳一個新的二維列表，但是其元素的值由以下規則決定:  \n",
    "    a. 外框的值不會變動  \n",
    "    b. 如果內部某元素的左右鄰居中有一個是 1 或兩者均為 1，那麼在回傳的新二維列表中，它自己會變成 1  \n",
    "    c. 如果內部某元素的左右鄰居都是 0，那麼在回傳的新二維列表中，它自己會變成 0  \n",
    "  \n",
    "舉例來說:  \n",
    "  \n",
    "![has_lr_neighbor](lab02-08.jpg)"
   ]
  },
  {
   "cell_type": "code",
   "execution_count": null,
   "metadata": {},
   "outputs": [],
   "source": []
  },
  {
   "cell_type": "markdown",
   "metadata": {},
   "source": [
    "9. 在數學上，「鄰居」常常指的是<font color='red'>以自己為中心的九宮格，扣除掉自己以外的其他八個位置</font>。寫出一個叫 count_neighbors(row, col, grid) 的函式。這個函式會去計算在指定位置的元素總共有幾個鄰居。而這個位置是由 row (列) 和 col (行) 兩個參數來指定。譬如，count_neighbors(2, 1, grid) 會去計算 grid 中位於 (2, 1) 位置的所有鄰居個數。以下是個執行範例:  \n",
    "  \n",
    "![count_neighbors](lab02-09.jpg)"
   ]
  },
  {
   "cell_type": "code",
   "execution_count": null,
   "metadata": {},
   "outputs": [],
   "source": []
  }
 ],
 "metadata": {
  "kernelspec": {
   "display_name": "Python 3 (ipykernel)",
   "language": "python",
   "name": "python3"
  },
  "language_info": {
   "codemirror_mode": {
    "name": "ipython",
    "version": 3
   },
   "file_extension": ".py",
   "mimetype": "text/x-python",
   "name": "python",
   "nbconvert_exporter": "python",
   "pygments_lexer": "ipython3",
   "version": "3.9.12"
  },
  "toc": {
   "base_numbering": 1,
   "nav_menu": {},
   "number_sections": true,
   "sideBar": true,
   "skip_h1_title": false,
   "title_cell": "Table of Contents",
   "title_sidebar": "Contents",
   "toc_cell": false,
   "toc_position": {},
   "toc_section_display": true,
   "toc_window_display": false
  }
 },
 "nbformat": 4,
 "nbformat_minor": 2
}
