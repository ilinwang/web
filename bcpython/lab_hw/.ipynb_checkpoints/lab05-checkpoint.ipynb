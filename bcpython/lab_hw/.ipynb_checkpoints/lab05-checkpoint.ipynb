{
 "cells": [
  {
   "cell_type": "markdown",
   "metadata": {},
   "source": [
    "(1) 考慮下列字串，並完成指定操作  \n",
    "  \n",
    "> lyric = \"crash through the surface where they can't hurt us\"  \n",
    "  \n",
    "* 利用 split() 方法，把歌詞中的字拆開放進列表中並且輸出\n",
    "* 利用 join() 方法, 把字與字中間的分隔符號改為 '~*~' 然後輸出  \n",
    "  \n",
    "> nums = [2, 4, 6, 8, 10]  \n",
    "  \n",
    "* 利用 map() 與 join() 方法，輸出 2 | 4 | 6 | 8 | 10"
   ]
  },
  {
   "cell_type": "code",
   "execution_count": null,
   "metadata": {},
   "outputs": [],
   "source": []
  },
  {
   "cell_type": "markdown",
   "metadata": {},
   "source": [
    "(2) 讀取 lyrics.txt 這個檔案，並完成下列操作\n",
    "  \n",
    "* 建立名為 lyrics_copy.txt 的檔案，並把 lyrics.txt 的內容複製過去\n",
    "* 在歌詞的行與行之間插入 40 個 '-'\n",
    "* 把歌詞字與字中間的空格改為 '*'"
   ]
  },
  {
   "cell_type": "code",
   "execution_count": null,
   "metadata": {},
   "outputs": [],
   "source": []
  },
  {
   "cell_type": "markdown",
   "metadata": {},
   "source": [
    "(3) 讀取 name_bd.csv 這個檔案，並完成下列操作  \n",
    "  \n",
    "* 將每一列讀取進來之後，利用 split() 拆開成一個一個的元素，放進列表裡然後輸出\n",
    "* 輸出所有人的姓氏 (也就是 lname 這個欄位)\n",
    "* 建立一個新檔案 name_bd_copy.csv，把所有在 name_bd.csv 裡面的東西複製過去。完成之後，在後面加入下列兩人的資料:\n",
    "    * Steve Tyler, born March 26, 1948\n",
    "    * Kajiura Yuki, born August 6, 1965"
   ]
  },
  {
   "cell_type": "code",
   "execution_count": null,
   "metadata": {},
   "outputs": [],
   "source": []
  },
  {
   "cell_type": "markdown",
   "metadata": {},
   "source": [
    "(4) 利用 csv 模組來讀取剛剛寫好的 name_bd_copy.csv 檔案，並完成下列操作\n",
    "  \n",
    "* 輸出所有人的名字 (也就是 fname 這個欄位)\n",
    "* 建立一個新檔案 name_bd_new.csv，把所有在 name_bd_copy.csv 裡面的東西複製過去\n",
    "* 完成之後，在後面加入下列兩人的資料:\n",
    "    * Eddie Van Halen, born January 26, 1955\n",
    "    * Ochi Shiho, born February 25, 1984"
   ]
  },
  {
   "cell_type": "code",
   "execution_count": null,
   "metadata": {},
   "outputs": [],
   "source": []
  }
 ],
 "metadata": {
  "kernelspec": {
   "display_name": "Python 3 (ipykernel)",
   "language": "python",
   "name": "python3"
  },
  "language_info": {
   "codemirror_mode": {
    "name": "ipython",
    "version": 3
   },
   "file_extension": ".py",
   "mimetype": "text/x-python",
   "name": "python",
   "nbconvert_exporter": "python",
   "pygments_lexer": "ipython3",
   "version": "3.9.12"
  }
 },
 "nbformat": 4,
 "nbformat_minor": 2
}
