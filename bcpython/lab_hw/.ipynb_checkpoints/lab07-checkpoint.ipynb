{
 "cells": [
  {
   "cell_type": "markdown",
   "metadata": {},
   "source": [
    " ### 條件判斷\n",
    "(1) 藉由使用者提供的系級，來判斷其個人資訊。所謂的「class xxxx」，是指在西元 xxxx 年會大學畢業。比方說，今年的大四學生就是 class 2019，而今年的大一學生則是 class 2022。  \n",
    "  \n",
    "請輸出和下列範例類似的結果，中英文不限，但判斷式必須正確。  \n",
    "  \n",
    "> Enter your class year: 2017  \n",
    "> You have graduated!  \n",
    "  \n",
    "class 2017 的人，程式會判斷他們已經畢業了。\n",
    "  \n",
    "> Enter your class year: 2022  \n",
    "> You are a current student!  \n",
    "  \n",
    "class 2022 的人，是目前在學的學生。\n",
    "  \n",
    "> Enter your class year: 2035  \n",
    "> You are not in college yet!  \n",
    "  \n",
    "class 2035 的人，現在還沒上大學。\n",
    "  \n",
    "> Enter your class year: 2045  \n",
    "> You have not been born yet!  \n",
    "  \n",
    "class 2045 的人則根本還沒出生。"
   ]
  },
  {
   "cell_type": "code",
   "execution_count": null,
   "metadata": {},
   "outputs": [],
   "source": []
  },
  {
   "cell_type": "markdown",
   "metadata": {},
   "source": [
    "(2) 現在，修改 (1) 的程式，讓它不斷詢問使用者系級資訊，直到使用者輸入了一個該系級的學生尚未出生的年份為止。例如:  \n",
    "\n",
    "> Enter your class year: 2017  \n",
    "> You have graduated!  \n",
    ">  \n",
    "> Enter your class year: 2022  \n",
    "> You are a current student!  \n",
    ">  \n",
    "> Enter your class year: 2045  \n",
    "> You have not been born yet!  \n",
    "> Bye bye!  "
   ]
  },
  {
   "cell_type": "code",
   "execution_count": null,
   "metadata": {},
   "outputs": [],
   "source": []
  },
  {
   "cell_type": "markdown",
   "metadata": {},
   "source": [
    "### 溫度的轉換\n",
    "讓使用者輸入一個溫度，詢問這個溫度是華氏或攝氏；然後，幫使用者轉成另外一個溫度與單位。  \n",
    "此程式需滿足下列事項:  \n",
    "* 使用者輸入溫度單位時，<b><font color='red'>無論大小寫</font></b>的 c 或 f 程式都必須能正確判斷\n",
    "* 轉換前後各取至小數點後兩位，如為整數則需顯示為 $x.00$\n",
    "* 最後顯示給使用者的訊息 (xxx degrees Fahrenheit/Celsius...) 請使用 <b><font color='red'>string formatting</font></b>；只在 print 裡使用逗號隔開不予計分。\n",
    "* 如溫度單位輸入 c 與 f 以外的東西，則顯示 Wrong input\n",
    "  \n",
    "例如:  \n",
    "> Enter temperature: 212  \n",
    "> Enter unit of temperature: f  \n",
    "> 212.00 degrees Fahrenheit is about 100.00 degrees Celsius.  \n",
    "  \n",
    "或是\n",
    "> Enter temperature: 27  \n",
    "> Enter unit of temperature: C  \n",
    "> 27.00 degrees Celsius is about  80.60 degrees Fahrenheit.  \n",
    "  \n",
    "以及  \n",
    "> Enter temperature: 90  \n",
    "> Enter unit of temperature: M  \n",
    "> Wrong input.  \n",
    "  \n",
    "註: 回憶 round 這個內建函式。我們可以藉由放入第二個參數來調整要四捨五入到小數點後的第幾位。比方說:  \n",
    "  \n",
    "> print(round(3.14159, 2))  \n",
    "> 3.14  \n",
    ">  \n",
    "> print(round(3.14159, 3))  \n",
    "> 3.142"
   ]
  },
  {
   "cell_type": "code",
   "execution_count": null,
   "metadata": {},
   "outputs": [],
   "source": []
  },
  {
   "cell_type": "markdown",
   "metadata": {},
   "source": [
    "(2) 現在，修改 (1) 的程式，讓使用者能連續輸入 20 次溫度轉換。此外，如果使用者在 20 次之前想離開程式，可以在輸入<b><font color='red'>溫度</font></b>時按 q 或 Q  \n",
    "舉例來說:  \n",
    "  \n",
    "> Enter temperature (q or Q to quit): 80  \n",
    "> Enter unit of temperature: F  \n",
    "> 80.00 degrees Fahrenheit is about  26.67 degrees Celsius.  \n",
    ">   \n",
    "> Enter temperature (q or Q to quit): 28  \n",
    "> Enter unit of temperature: c  \n",
    "> 28.00 degrees Celsius is about  82.40 degrees Fahrenheit.  \n",
    ">   \n",
    "> Enter temperature (q or Q to quit): Q  "
   ]
  },
  {
   "cell_type": "code",
   "execution_count": null,
   "metadata": {},
   "outputs": [],
   "source": []
  },
  {
   "cell_type": "markdown",
   "metadata": {},
   "source": [
    "### 三角形\n",
    "(1) 讓使用者輸入一個介於 1 到 9 之間的整數，然後印出一個數字三角形。比方說:  \n",
    "  \n",
    "> Enter a number: 5  \n",
    "> 1  \n",
    "> 22  \n",
    "> 333  \n",
    "> 4444  \n",
    "> 55555"
   ]
  },
  {
   "cell_type": "code",
   "execution_count": null,
   "metadata": {},
   "outputs": [],
   "source": []
  },
  {
   "cell_type": "markdown",
   "metadata": {},
   "source": [
    "(2) 現在，修改 (1) 的程式碼，使數字由大到小排序。例如:  \n",
    "  \n",
    "> Enter a number: 5  \n",
    "> 5  \n",
    "> 44  \n",
    "> 333  \n",
    "> 2222  \n",
    "> 11111"
   ]
  },
  {
   "cell_type": "code",
   "execution_count": null,
   "metadata": {},
   "outputs": [],
   "source": []
  }
 ],
 "metadata": {
  "kernelspec": {
   "display_name": "Python 3 (ipykernel)",
   "language": "python",
   "name": "python3"
  },
  "language_info": {
   "codemirror_mode": {
    "name": "ipython",
    "version": 3
   },
   "file_extension": ".py",
   "mimetype": "text/x-python",
   "name": "python",
   "nbconvert_exporter": "python",
   "pygments_lexer": "ipython3",
   "version": "3.9.12"
  },
  "toc": {
   "base_numbering": 1,
   "nav_menu": {},
   "number_sections": true,
   "sideBar": true,
   "skip_h1_title": false,
   "title_cell": "Table of Contents",
   "title_sidebar": "Contents",
   "toc_cell": false,
   "toc_position": {},
   "toc_section_display": true,
   "toc_window_display": false
  }
 },
 "nbformat": 4,
 "nbformat_minor": 2
}
