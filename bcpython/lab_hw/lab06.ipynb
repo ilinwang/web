{
 "cells": [
  {
   "cell_type": "markdown",
   "metadata": {},
   "source": [
    "### 純文字檔的讀寫\n",
    "\n",
    "(1)  \n",
    "類似課堂上的示範，請分析 Tempest 這部劇本中:\n",
    "每個「字母」出現的<font color='red'>次數</font>，並寫入一個叫 tempest_char.txt 的檔案裡"
   ]
  },
  {
   "cell_type": "code",
   "execution_count": null,
   "metadata": {},
   "outputs": [],
   "source": []
  },
  {
   "cell_type": "markdown",
   "metadata": {},
   "source": [
    "(2)  \n",
    "承上，請分析每個字母出現的<font color='red'>頻率</font>，並利用 append 的開啟方式，把資料加在 tempest_char.txt 後面"
   ]
  },
  {
   "cell_type": "code",
   "execution_count": null,
   "metadata": {},
   "outputs": [],
   "source": []
  },
  {
   "cell_type": "markdown",
   "metadata": {},
   "source": [
    "(3)  \n",
    "承上，請將每個字母出現的頻率，寫入一個叫 tempest_char.csv 的檔案裡"
   ]
  },
  {
   "cell_type": "code",
   "execution_count": null,
   "metadata": {},
   "outputs": [],
   "source": []
  },
  {
   "cell_type": "markdown",
   "metadata": {},
   "source": [
    "### CSV 檔的讀寫\n",
    "  \n",
    "(1)  \n",
    "類似課堂上的示範，請分析 1980 年之後出生在加州的球員，身高超過 195 公分的總共有幾個? 並寫入一個叫 players_ht_ca1980.csv 的檔案裡"
   ]
  },
  {
   "cell_type": "code",
   "execution_count": null,
   "metadata": {},
   "outputs": [],
   "source": []
  },
  {
   "cell_type": "markdown",
   "metadata": {},
   "source": [
    "(2)  \n",
    "請找出所有姓 Brown 的球員中最高的那一個。除了目視法之外，方法不拘"
   ]
  },
  {
   "cell_type": "code",
   "execution_count": null,
   "metadata": {},
   "outputs": [],
   "source": []
  }
 ],
 "metadata": {
  "kernelspec": {
   "display_name": "Python 3 (ipykernel)",
   "language": "python",
   "name": "python3"
  },
  "language_info": {
   "codemirror_mode": {
    "name": "ipython",
    "version": 3
   },
   "file_extension": ".py",
   "mimetype": "text/x-python",
   "name": "python",
   "nbconvert_exporter": "python",
   "pygments_lexer": "ipython3",
   "version": "3.9.12"
  }
 },
 "nbformat": 4,
 "nbformat_minor": 2
}
