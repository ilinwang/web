{
 "cells": [
  {
   "cell_type": "markdown",
   "metadata": {},
   "source": [
    "### 自動分組\n",
    "  \n",
    "(1)  \n",
    "stu_name_a.txt 是班上學生的名單。請寫出一個程式，隨機分配給學生一個搭檔，然後，每四對搭檔作為一個小組，將結果寫入 stu_name_pair.txt 這個檔案裡。範例輸出如下:  \n",
    "  \n",
    "![stu_pair_txt](lab04-01.jpg)  \n",
    "  \n",
    "注意:  \n",
    "1. 讀寫中文檔案時，記得使用 with open('xxxx.xxx', 'x', <font color='red'>encoding='UTF-8'</font>) as xxx:\n",
    "2. 學生人數是單數，所以會有一個三人的搭檔；把這個三人搭檔分配到最後一組\n",
    "3. 上圖僅為某次隨機的分配。你/妳的程式應該每次都要產生不一樣的分組結果\n",
    "4. <font color='red'>注意版面</font>。組與組之間要有一個空行，加號的前後各有一個空格，而分隔線的長度是 25。<font color='red'>版面格式不符者會扣分</font>  \n",
    "  \n",
    "本題可以利用 random.shuffle() 來幫助作答。這個函式可以接收一個列表，然後幫我們把次序打亂。執行下面的程式碼來熟悉它的用法"
   ]
  },
  {
   "cell_type": "code",
   "execution_count": null,
   "metadata": {},
   "outputs": [],
   "source": [
    "import random\n",
    "\n",
    "lst = [1, 2, 3, 4, 5, 6, 7, 8, 9, 10]\n",
    "print(lst)\n",
    "random.shuffle(lst)\n",
    "print(lst)"
   ]
  },
  {
   "cell_type": "code",
   "execution_count": null,
   "metadata": {},
   "outputs": [],
   "source": []
  },
  {
   "cell_type": "markdown",
   "metadata": {},
   "source": [
    "(2)  \n",
    "讀取剛剛隨機分配好的 stu_name_pair.txt，把它寫入 stu_name_pair.csv 這個檔案裡。寫入的時候，忽略掉分隔線和加號。範例輸出如下:  \n",
    "  \n",
    "![stu_pair_csv](lab04-02.jpg)  \n",
    "  \n",
    "提示:\n",
    "1. 想在 .csv 檔寫入中文的話，必須使用 with open('xxxx.xxx', 'w', <font color='red'>encoding='UTF-8-sig'</font>, newline='') as xxx: 才能正常顯示\n",
    "2. 對於去掉分隔線或加上空行覺得很苦惱的話，不妨觀察一下資料的<font color='red'>列數</font>。第幾列是不需要的？第幾列是需要寫入的？或許有規則可循"
   ]
  },
  {
   "cell_type": "code",
   "execution_count": null,
   "metadata": {},
   "outputs": [],
   "source": []
  },
  {
   "cell_type": "markdown",
   "metadata": {},
   "source": [
    "(3)  \n",
    "承 (1) 與 (2)，但現在加入 stu_name_b.txt。將兩班學生打散，每六人為一小組，每三組為一大組，最後不足六人的加入最後一組。一樣將結果寫入 stu_name_pair.txt 這個檔案。格式要求與 (1) 相同，但將分隔線長度改為 60。下圖是個範例:  \n",
    "  \n",
    "![stu_pair_txt](lab04-03.jpg)  \n",
    "  \n",
    "然後，將 stu_name_pair.txt 中的資料寫入 stu_name_pair.csv。格式要求與 (2) 相同。例如:  \n",
    "  \n",
    "![stu_pair_csv](lab04-04.jpg)  "
   ]
  },
  {
   "cell_type": "code",
   "execution_count": null,
   "metadata": {},
   "outputs": [],
   "source": []
  }
 ],
 "metadata": {
  "kernelspec": {
   "display_name": "Python 3 (ipykernel)",
   "language": "python",
   "name": "python3"
  },
  "language_info": {
   "codemirror_mode": {
    "name": "ipython",
    "version": 3
   },
   "file_extension": ".py",
   "mimetype": "text/x-python",
   "name": "python",
   "nbconvert_exporter": "python",
   "pygments_lexer": "ipython3",
   "version": "3.9.12"
  },
  "toc": {
   "base_numbering": 1,
   "nav_menu": {},
   "number_sections": true,
   "sideBar": true,
   "skip_h1_title": false,
   "title_cell": "Table of Contents",
   "title_sidebar": "Contents",
   "toc_cell": false,
   "toc_position": {},
   "toc_section_display": true,
   "toc_window_display": false
  }
 },
 "nbformat": 4,
 "nbformat_minor": 2
}
