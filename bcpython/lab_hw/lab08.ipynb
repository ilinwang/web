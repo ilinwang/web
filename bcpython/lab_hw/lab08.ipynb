{
 "cells": [
  {
   "cell_type": "markdown",
   "metadata": {},
   "source": [
    "### CSV → TXT\n",
    "(1)  \n",
    "想要知道資料中所有名人堂球員 (名字後面有星號 $*$) 的名字 ($\\rm{players.csv}$)。將上述資料寫入 $\\rm{hof\\_list.txt}$ (人名去掉星號)，並在螢幕上輸出總人數。 (進階) 加上生涯打了幾個球季 ($\\rm{player\\_data.csv}$)"
   ]
  },
  {
   "cell_type": "code",
   "execution_count": null,
   "metadata": {},
   "outputs": [],
   "source": []
  },
  {
   "cell_type": "markdown",
   "metadata": {},
   "source": [
    "(2)\n",
    "想要知道資料裡面 ($\\rm{player\\_data.csv}$) 的現役球員中的搖擺人 ($\\rm{swingman}$) 名單，並輸出到 $\\rm{wing\\_list.txt}$。文件的開頭列需要$\\rm{Name}$、$\\rm{Height}$、$\\rm{Weight}$ 以及 $\\rm{Years Played}$ 等四個欄位，資料間以逗號隔開。(進階) 球員身高請換算成公分"
   ]
  },
  {
   "cell_type": "code",
   "execution_count": null,
   "metadata": {},
   "outputs": [],
   "source": []
  },
  {
   "cell_type": "markdown",
   "metadata": {},
   "source": [
    "### CSV → CSV\n",
    "  \n",
    "(1)  \n",
    "想要知道出生於 $1970-1980$ 年間，身高 $200$ 公分以上的球員 ($\\rm{players.csv}$) 總共有多少人，並寫入 $\\rm{players\\_height.csv}$"
   ]
  },
  {
   "cell_type": "code",
   "execution_count": null,
   "metadata": {},
   "outputs": [],
   "source": []
  },
  {
   "cell_type": "markdown",
   "metadata": {},
   "source": [
    "(2)  \n",
    "想要知道 $\\rm{Tim\\space Duncan}$ 生涯每個球季的一些數據 ($\\rm{seasons\\_stats.csv}$)，包含籃板、助攻、抄截、阻攻以及得分(均為平均)，並寫入 $\\rm{td.csv}$。開頭列須包含年份、位置、球隊、籃板、助攻、抄截、阻攻以及得分。 (進階) 與 $\\rm{Kevin\\space Garnett}$ 做逐年比較"
   ]
  },
  {
   "cell_type": "code",
   "execution_count": null,
   "metadata": {},
   "outputs": [],
   "source": []
  }
 ],
 "metadata": {
  "kernelspec": {
   "display_name": "Python 3 (ipykernel)",
   "language": "python",
   "name": "python3"
  },
  "language_info": {
   "codemirror_mode": {
    "name": "ipython",
    "version": 3
   },
   "file_extension": ".py",
   "mimetype": "text/x-python",
   "name": "python",
   "nbconvert_exporter": "python",
   "pygments_lexer": "ipython3",
   "version": "3.9.12"
  },
  "toc": {
   "base_numbering": 1,
   "nav_menu": {},
   "number_sections": true,
   "sideBar": true,
   "skip_h1_title": false,
   "title_cell": "Table of Contents",
   "title_sidebar": "Contents",
   "toc_cell": false,
   "toc_position": {},
   "toc_section_display": true,
   "toc_window_display": false
  }
 },
 "nbformat": 4,
 "nbformat_minor": 2
}
