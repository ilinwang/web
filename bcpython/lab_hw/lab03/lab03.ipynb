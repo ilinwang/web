{
 "cells": [
  {
   "cell_type": "markdown",
   "metadata": {},
   "source": [
    "### 字串與函式\n",
    "  \n",
    "在密碼學 (cryptography) 中，凱薩密碼 (Caesar cipher) 是最好理解、也最容易上手的一種加密方式。它的原理是字母位移替換: 也就是說，針對 26 個英文字母，加密者會先決定一個<font color='red'>偏移量</font>作為加密的<font color='red'>金鑰 (key)</font>，然後把原始訊息裡所有的字母做偏移之後，形成最後的密文。偏移量的概念可以下圖表示:  \n",
    "<br>\n",
    "![shift_01](lab03-01.jpg)  \n",
    "<br>\n",
    "假設我們把 A → Z 的方向稱為正 (+) 向，那麼，上圖就是一個 +3 的凱薩加密。而如果偏移之後的值超過了 Z，就會回到 A，所以不會有對應不到的情形。  \n",
    "<br>\n",
    "![shift_02](lab03-02.jpg)  \n",
    "<br>\n",
    "比方說，我們想對「Python」這個字做 +3 的凱薩加密，那麼根據上圖<font color='red'>由上而下</font>的對應，我們知道:  \n",
    "  \n",
    "* 'P' 會變成 'S'\n",
    "* 'y' 會變成 'b'\n",
    "* 't' 會變成 'w'\n",
    "* 'h' 會變成 'k'\n",
    "* 'o' 會變成 'r'\n",
    "* 'n' 會變成 'q'  \n",
    "  \n",
    "所以，「Python」這個字的 +3 凱薩加密結果是「Sbwkrq」。注意大小寫會維持不變，只是偏移。  \n",
    "那麼解密呢？一樣根據上圖，只是此時改用<font color='red'>由下而上</font>的對應，就能得到:  \n",
    "  \n",
    "* 'S' 會變成 'P'\n",
    "* 'b' 會變成 'y'\n",
    "* 'w' 會變成 't'\n",
    "* 'k' 會變成 'h'\n",
    "* 'r' 會變成 'o'\n",
    "* 'q' 會變成 'n'  \n",
    "  \n",
    "換言之，想要破解 +3 的凱薩加密，就是利用 -3 的偏移去轉換。  \n",
    "  \n",
    "然而，計算字母本身的偏移是麻煩的。所幸，任何字元 (所以當然包括英文字母) 的背後，都有相對應的一個序數 (ordinal)。有了序數的幫助，可以讓我們把字母的偏移轉換成數字的加減，也讓凱薩加密變得更容易 (當然破解也是)。  \n",
    "<br>\n",
    "![ASCII table](lab03-03.jpg)\n",
    "<br>\n",
    "上圖是一個序數表，由於<font color='red'>凱薩加密只有字母的變換，所以我們會用到的序數只有</font>  \n",
    "  \n",
    "* <font color='red'>A - Z 的 65 - 90</font>\n",
    "* <font color='red'>a - z 的 97 - 122</font>  \n",
    "  \n",
    "注意大寫和小寫字母的序數是不一樣的。假設我們想對 'A' 做 +3 的凱薩加密，那麼我們的思路應該是:  \n",
    "  \n",
    "* 把 'A' 轉換成它的序數 65  \n",
    "* +3 的偏移。所以 65 + 3 = 68  \n",
    "* 最後，把 68 轉換回它所代表的字母，也就是 'D'  \n",
    "  \n",
    "怎麼把這件事用程式表達呢？我們可以利用 chr() 和 ord() 兩個內建函式。chr() 接收<font color='red'><b>一個</b>序數</font> (所以一定是一個整數)，並且回傳這個序數所代表的字元；而 ord() 則接收<font color='red'><b>一個</b>字元</font>，回傳它的序數值。大家可以執行下面的程式碼來稍微理解用法。"
   ]
  },
  {
   "cell_type": "code",
   "execution_count": null,
   "metadata": {},
   "outputs": [],
   "source": [
    "print(chr(65))\n",
    "print(ord('A'))\n",
    "print()\n",
    "print(chr(65 + 3))\n",
    "print()\n",
    "print(chr(ord('D')))\n",
    "print(ord(chr(68)))"
   ]
  },
  {
   "cell_type": "markdown",
   "metadata": {},
   "source": [
    "此外，有幾個字串專屬的方法，可能會在本次實作對你/妳有幫助。  \n",
    "  \n",
    "* isalpha()\n",
    "    * 如果字串是從 A 到 Z 的大寫或小寫字母，則回傳True\n",
    "    * 如果字串包含任何非字母字元 (包含空格)，則回傳False\n",
    "* islower()\n",
    "    * 如果呼叫它的字串包含至少一個小寫字母而不包含大寫字母，則回傳 True；反之回傳 False\n",
    "* isupper()\n",
    "    * 如果呼叫它的字串包含至少一個大寫字母而不包含小寫字母，則回傳 True；反之回傳 False  \n",
    "  \n",
    "試著執行下面格中的程式碼來熟悉一下用法。"
   ]
  },
  {
   "cell_type": "code",
   "execution_count": null,
   "metadata": {},
   "outputs": [],
   "source": [
    "print('hello'.isalpha())\n",
    "print('h'.isalpha())\n",
    "print('hello world'.isalpha())\n",
    "print('19'.isalpha())\n",
    "print(''.isalpha())"
   ]
  },
  {
   "cell_type": "code",
   "execution_count": null,
   "metadata": {},
   "outputs": [],
   "source": [
    "print('hello'.islower())\n",
    "print('Hello'.islower())\n",
    "print('h'.islower())\n",
    "print('H'.islower())\n",
    "print('hello world'.islower())\n",
    "print('19'.islower())\n",
    "print(''.islower())"
   ]
  },
  {
   "cell_type": "code",
   "execution_count": null,
   "metadata": {},
   "outputs": [],
   "source": [
    "print('HELLO'.isupper())\n",
    "print('Hello'.isupper())\n",
    "print('h'.isupper())\n",
    "print('H'.isupper())\n",
    "print('HELLO WORLD'.isupper())\n",
    "print('19'.isupper())\n",
    "print(''.isupper())"
   ]
  },
  {
   "cell_type": "markdown",
   "metadata": {},
   "source": [
    "(1)  \n",
    "寫出下列指定的函式，來實作出凱薩密碼:  \n",
    "  \n",
    "* getMode()\n",
    "    * 這個函式會詢問使用者要執行的模式是加密 ('encrypt' 或 'e') 或是解密 ('decrypt' 或 'd')，然後回傳使用者的選擇\n",
    "    * 如果輸入的東西並非上面四種，則不斷要求使用者輸入，直到正確\n",
    "* getMessage()\n",
    "    * 這個函式會詢問使用者要拿來加/解密的訊息，並且回傳\n",
    "* getKey()\n",
    "    * 這個函式會詢問使用者要拿來加/解密的金鑰，也就是字母的偏移量，然後回傳\n",
    "    * 看完上面的解說，會發現<font color='red'>凱薩密碼的金鑰其實有個範圍</font>。如果不在這個範圍，或是型態不符，則要求使用者不斷輸入，直到正確\n",
    "* getTranslMsg(mode, message, key)\n",
    "    * 根據使用者選擇的模式，來加/解密訊息，並且回傳\n",
    "* main()\n",
    "    * 用來執行上述所有函式，維持程式主體的整潔\n",
    "  \n",
    "以下是兩個執行範例:  \n",
    "<br>\n",
    "![encryption](lab03-04.jpg)  \n",
    "<br>\n",
    "![decryption](lab03-05.jpg)"
   ]
  },
  {
   "cell_type": "code",
   "execution_count": null,
   "metadata": {},
   "outputs": [],
   "source": []
  },
  {
   "cell_type": "markdown",
   "metadata": {},
   "source": [
    "(2)  \n",
    "前面提過，金鑰 (key) 是掌握解密的關鍵，而凱薩密碼的金鑰範圍很小。因此，藉由電腦的幫助，我們可以輕易地利用暴力破解 (brute force) 法來一口氣把全部的金鑰都試過一遍，所有結果當中唯一有意義的句子，便是我們需要的訊息。  \n",
    "  \n",
    "現在，請你/妳複製上面寫好的 getMode() 和 main() 到下面，並且做出相對應的更動，讓使用者可以輸入 'brute' 或是 'b' 來利用暴力破解訊息。若使用者選擇暴力破解，則程式不再詢問金鑰，而是直接將所有結果列出。以下是個範例:  \n",
    "<br>\n",
    "![brute force](lab03-06.jpg)  \n",
    "<br>\n",
    "顯然，這個訊息使用了 13 這隻金鑰來做加密。  \n",
    "  \n",
    "最後，請你/妳使用暴力破解法來解開下面這個訊息:  \n",
    "  \n",
    "> Vlr al klq cfka qeb exmmv ifcb. Vlr jxhb fq."
   ]
  },
  {
   "cell_type": "code",
   "execution_count": null,
   "metadata": {},
   "outputs": [],
   "source": []
  }
 ],
 "metadata": {
  "kernelspec": {
   "display_name": "Python 3 (ipykernel)",
   "language": "python",
   "name": "python3"
  },
  "language_info": {
   "codemirror_mode": {
    "name": "ipython",
    "version": 3
   },
   "file_extension": ".py",
   "mimetype": "text/x-python",
   "name": "python",
   "nbconvert_exporter": "python",
   "pygments_lexer": "ipython3",
   "version": "3.9.12"
  },
  "toc": {
   "base_numbering": 1,
   "nav_menu": {},
   "number_sections": true,
   "sideBar": true,
   "skip_h1_title": false,
   "title_cell": "Table of Contents",
   "title_sidebar": "Contents",
   "toc_cell": false,
   "toc_position": {},
   "toc_section_display": true,
   "toc_window_display": false
  }
 },
 "nbformat": 4,
 "nbformat_minor": 2
}
