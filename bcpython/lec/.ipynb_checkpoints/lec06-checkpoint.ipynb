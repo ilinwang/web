{
 "cells": [
  {
   "cell_type": "markdown",
   "id": "cce43d39",
   "metadata": {
    "slideshow": {
     "slide_type": "subslide"
    }
   },
   "source": [
    "### 猜數字\n",
    "首先，詢問使用者名稱。接著隨機生成一個介於 $1$ 到 $1000$ 之間的整數，然後與使用者進行互動。程式會提醒使用者剛剛輸入的數太高或太低；一旦猜中，程式就結束，並且告訴使用者總共猜了多少次"
   ]
  },
  {
   "cell_type": "code",
   "execution_count": null,
   "id": "6a5350d3",
   "metadata": {
    "slideshow": {
     "slide_type": "fragment"
    }
   },
   "outputs": [],
   "source": []
  },
  {
   "cell_type": "markdown",
   "id": "3c708bf5",
   "metadata": {
    "slideshow": {
     "slide_type": "subslide"
    }
   },
   "source": [
    "### 求平均\n",
    "寫出一個程式，讓使用者不斷輸入數字(整數或浮點數均可)，直到他/她輸入「Done」或「done」跳出為止。然後，印出所有數字的平均值"
   ]
  },
  {
   "cell_type": "code",
   "execution_count": null,
   "id": "f92d2a2c",
   "metadata": {
    "slideshow": {
     "slide_type": "fragment"
    }
   },
   "outputs": [],
   "source": []
  },
  {
   "cell_type": "markdown",
   "id": "df4392cd",
   "metadata": {
    "slideshow": {
     "slide_type": "subslide"
    }
   },
   "source": [
    "### 巢狀迴圈\n",
    "* 迴圈裡面還有(一個以上的)迴圈\n",
    "* 通常指的是 $\\rm{for}$ 迴圈\n",
    "* 執行時的順序大致如下\n",
    "    1. 深入至最裡層\n",
    "    2. 最裡層迴圈全部執行完畢後，往前退至次裡層\n",
    "    3. 執行完畢之後再往前退回一層\n",
    "    4. 退至最外層\n",
    "    5. 不斷執行 $\\rm{1\\sim 4}$，直到全部的迴圈都執行結束"
   ]
  },
  {
   "cell_type": "code",
   "execution_count": null,
   "id": "2b72a688",
   "metadata": {
    "slideshow": {
     "slide_type": "fragment"
    }
   },
   "outputs": [],
   "source": [
    "for i in range(10):\n",
    "    print(f'目前的i是{i}')\n",
    "    for j in range(10):\n",
    "        print(f'\\t目前的j是{j}')\n",
    "#         for k in range(10):\n",
    "#             print(f'\\t\\t目前的k是{k}')"
   ]
  },
  {
   "cell_type": "markdown",
   "id": "dcae25cf",
   "metadata": {
    "slideshow": {
     "slide_type": "subslide"
    }
   },
   "source": [
    "### 九九乘法表\n",
    "利用巢狀迴圈輸出九九乘法表"
   ]
  },
  {
   "cell_type": "code",
   "execution_count": null,
   "id": "dd0aa19e",
   "metadata": {
    "slideshow": {
     "slide_type": "fragment"
    }
   },
   "outputs": [],
   "source": []
  },
  {
   "cell_type": "markdown",
   "id": "26d051b9",
   "metadata": {
    "slideshow": {
     "slide_type": "subslide"
    }
   },
   "source": [
    "### 產生亂數\n",
    "讓使用者輸入 a、b，然後得到並印出介於 [a, b] 之間的 c。接著，再讓使用者輸入 d、e，最後印出 c 個介於 [d, e] 之間的隨機整數"
   ]
  },
  {
   "cell_type": "code",
   "execution_count": null,
   "id": "a6268857",
   "metadata": {
    "slideshow": {
     "slide_type": "fragment"
    }
   },
   "outputs": [],
   "source": []
  },
  {
   "cell_type": "markdown",
   "id": "575e0c0a",
   "metadata": {
    "slideshow": {
     "slide_type": "subslide"
    }
   },
   "source": [
    "### 隨機字串\n",
    "讓使用者輸入一個整數 k，然後輸出長度為 k，並包含英文大小寫與數字的隨機字串。"
   ]
  },
  {
   "cell_type": "code",
   "execution_count": null,
   "id": "145fdc56",
   "metadata": {
    "slideshow": {
     "slide_type": "fragment"
    }
   },
   "outputs": [],
   "source": []
  },
  {
   "cell_type": "markdown",
   "id": "58459d18",
   "metadata": {
    "slideshow": {
     "slide_type": "subslide"
    }
   },
   "source": [
    "### 猜拳\n",
    "讓使用者輸入 rock、paper、scissors 三者之一出拳，接著讓程式隨機由三者挑選一個出拳，比較勝負。如使用者贏，印出「You win!」；使用者輸，印出「You lose...」；平手則印出「Draw」。"
   ]
  },
  {
   "cell_type": "code",
   "execution_count": null,
   "id": "490ffce4",
   "metadata": {
    "slideshow": {
     "slide_type": "fragment"
    }
   },
   "outputs": [],
   "source": []
  },
  {
   "cell_type": "markdown",
   "id": "d057acd9",
   "metadata": {
    "slideshow": {
     "slide_type": "subslide"
    }
   },
   "source": [
    "* 承上，假設電腦有出拳偏好：45% 的機率出石頭，15% 的機率出布，40% 的機率出剪刀。如何改寫猜拳程式？"
   ]
  },
  {
   "cell_type": "code",
   "execution_count": null,
   "id": "eba5f278",
   "metadata": {
    "slideshow": {
     "slide_type": "fragment"
    }
   },
   "outputs": [],
   "source": []
  },
  {
   "cell_type": "markdown",
   "id": "96419ab0",
   "metadata": {
    "slideshow": {
     "slide_type": "subslide"
    }
   },
   "source": [
    "* 模擬 a、b 兩人無出拳偏好，隨機猜拳 1000 次，然後計算 a 的勝率。注意此時已經不需要在意兩人平手或 a 猜輸的情況。(Hint：使用 for 迴圈，用一個變數來累計勝場，最後除以 1000)"
   ]
  },
  {
   "cell_type": "code",
   "execution_count": null,
   "id": "46ad0f55",
   "metadata": {
    "slideshow": {
     "slide_type": "fragment"
    }
   },
   "outputs": [],
   "source": []
  }
 ],
 "metadata": {
  "kernelspec": {
   "display_name": "Python 3 (ipykernel)",
   "language": "python",
   "name": "python3"
  },
  "language_info": {
   "codemirror_mode": {
    "name": "ipython",
    "version": 3
   },
   "file_extension": ".py",
   "mimetype": "text/x-python",
   "name": "python",
   "nbconvert_exporter": "python",
   "pygments_lexer": "ipython3",
   "version": "3.9.12"
  },
  "toc": {
   "base_numbering": 1,
   "nav_menu": {},
   "number_sections": true,
   "sideBar": true,
   "skip_h1_title": false,
   "title_cell": "Table of Contents",
   "title_sidebar": "Contents",
   "toc_cell": false,
   "toc_position": {},
   "toc_section_display": true,
   "toc_window_display": false
  },
  "varInspector": {
   "cols": {
    "lenName": 16,
    "lenType": 16,
    "lenVar": 40
   },
   "kernels_config": {
    "python": {
     "delete_cmd_postfix": "",
     "delete_cmd_prefix": "del ",
     "library": "var_list.py",
     "varRefreshCmd": "print(var_dic_list())"
    },
    "r": {
     "delete_cmd_postfix": ") ",
     "delete_cmd_prefix": "rm(",
     "library": "var_list.r",
     "varRefreshCmd": "cat(var_dic_list()) "
    }
   },
   "types_to_exclude": [
    "module",
    "function",
    "builtin_function_or_method",
    "instance",
    "_Feature"
   ],
   "window_display": false
  }
 },
 "nbformat": 4,
 "nbformat_minor": 5
}
