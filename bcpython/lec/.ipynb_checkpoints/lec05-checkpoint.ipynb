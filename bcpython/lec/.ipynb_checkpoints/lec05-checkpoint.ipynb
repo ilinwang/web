{
 "cells": [
  {
   "cell_type": "markdown",
   "metadata": {
    "slideshow": {
     "slide_type": "subslide"
    }
   },
   "source": [
    "### 利用賦值做「值」的交換"
   ]
  },
  {
   "cell_type": "code",
   "execution_count": null,
   "metadata": {
    "slideshow": {
     "slide_type": "fragment"
    }
   },
   "outputs": [],
   "source": [
    "girl_1 = 'Kelly'\n",
    "girl_2 = 'Anne'\n",
    "\n",
    "girl_1 = girl_2 # 這一步之後，girl_1 和 girl_2 各是什麼?\n",
    "girl_2 = girl_1\n",
    "\n",
    "print(girl_1)\n",
    "print(girl_2)"
   ]
  },
  {
   "cell_type": "markdown",
   "metadata": {
    "slideshow": {
     "slide_type": "subslide"
    }
   },
   "source": [
    "* 由於賦值之後原先的值會立刻被蓋掉，因此若想做交換，我們將需要一個「暫存區」"
   ]
  },
  {
   "cell_type": "code",
   "execution_count": null,
   "metadata": {
    "slideshow": {
     "slide_type": "fragment"
    }
   },
   "outputs": [],
   "source": [
    "girl_1 = 'Kelly'\n",
    "girl_2 = 'Anne'\n",
    "\n",
    "tmp = girl_1 # 把 girl_1 的值複製一份暫存\n",
    "girl_1 = girl_2 # 把 girl_2 的值賦給 girl_1\n",
    "girl_2 = tmp # 把剛剛複製起來暫存的值賦給 girl_2\n",
    "\n",
    "print(girl_1)\n",
    "print(girl_2)"
   ]
  },
  {
   "cell_type": "markdown",
   "metadata": {
    "slideshow": {
     "slide_type": "subslide"
    }
   },
   "source": [
    "* 有沒有更好的方式來做交換？"
   ]
  },
  {
   "cell_type": "code",
   "execution_count": null,
   "metadata": {
    "slideshow": {
     "slide_type": "fragment"
    }
   },
   "outputs": [],
   "source": []
  },
  {
   "cell_type": "markdown",
   "metadata": {
    "slideshow": {
     "slide_type": "subslide"
    }
   },
   "source": [
    "### 要求使用者輸入\n",
    "<br>\n",
    "\n",
    "* 提示使用者用鍵盤輸入一些變數的值，是非常常用的功能\n",
    "* Python 提供 input() 這個$\\rm\\color{orange}{內建函式}$ (function) 承接使用者輸入的東西\n",
    "    * 所有的內建函式可參閱 [這裡](https://docs.python.org/3/library/functions.html)\n",
    "    * $\\rm\\color{orange}{內建函式的名稱一定是系統保留字，不可做為變數名稱!}$\n",
    "* 當它被呼叫的時候，整個程式會暫停，並等待使用者輸入\n",
    "    * $\\rm\\color{orange}{呼叫}$函式的意思就是在程式裡打出函式的名字加上小括號\n",
    "* 當使用者按下 enter 之後\n",
    "    1. 程式會從剛剛暫停的地方繼續執行，並且\n",
    "    2. 把使用者輸入的東西當作$\\rm\\color{orange}{字串}$回傳 (return)\n",
    "    3. 回傳使用者輸入的內容，代表 input() 會產生一個值\n",
    "    4. 我們可以用一個變數去跟 input() 回傳的值產生關聯，方便之後重複使用\n"
   ]
  },
  {
   "cell_type": "code",
   "execution_count": null,
   "metadata": {
    "slideshow": {
     "slide_type": "subslide"
    }
   },
   "outputs": [],
   "source": [
    "input # 這不是呼叫函式，這是函式的名字\n",
    "# input() #這才是呼叫函式\n",
    "# print(input()) # 這是把使用者輸入的值印出來"
   ]
  },
  {
   "cell_type": "markdown",
   "metadata": {
    "slideshow": {
     "slide_type": "subslide"
    }
   },
   "source": [
    "* 取得使用者的輸入資訊之前，提示使用者現在應該輸入什麼也是一件重要的事\n",
    "* 可以在 input 後的小括號內寫入一個字串來當作輸入時的提示\n",
    "    * 呼叫函式時小括號中所放的東西稱為$\\rm\\color{orange}{引數}$ (argument)"
   ]
  },
  {
   "cell_type": "code",
   "execution_count": null,
   "metadata": {
    "slideshow": {
     "slide_type": "fragment"
    }
   },
   "outputs": [],
   "source": [
    "name = input('What is your name?\\n')\n",
    "print(name)"
   ]
  },
  {
   "cell_type": "markdown",
   "metadata": {
    "slideshow": {
     "slide_type": "subslide"
    }
   },
   "source": [
    "* 「\\n」是$\\rm\\color{orange}{一個}$特殊字元，代表 $\\rm\\color{orange}{newline}$，所以上面輸入的名字會出現在新的一行"
   ]
  },
  {
   "cell_type": "code",
   "execution_count": null,
   "metadata": {
    "slideshow": {
     "slide_type": "fragment"
    }
   },
   "outputs": [],
   "source": [
    "age = int(input('Enter your age:\\n'))\n",
    "print('You will be', age + 1, 'years old next year.')"
   ]
  },
  {
   "cell_type": "markdown",
   "metadata": {
    "slideshow": {
     "slide_type": "subslide"
    }
   },
   "source": [
    "* 輸出的時候，常常會在文字的中間塞進數字或是變數\n",
    "* 如果只用逗號來分隔，其實是一件麻煩又容易出錯的事\n",
    "* 我們可以利用 $\\rm\\color{orange}{f\\space字串}$ (formatted string literals) 來增加程式的可讀性\n",
    "    1. 輸出時，我們在字串的最前面加上 $\\rm\\color{orange}{f}$ 或 $\\rm\\color{orange}{F}$\n",
    "    2. 按照正常寫作的方式打字，遇到變數就用大括號($\\color{orange}{\\{\\}}$)包起來"
   ]
  },
  {
   "cell_type": "code",
   "execution_count": null,
   "metadata": {
    "slideshow": {
     "slide_type": "fragment"
    }
   },
   "outputs": [],
   "source": [
    "name = input('Enter your name: ')\n",
    "a = int(input('Enter a: '))\n",
    "b = int(input('Enter b: '))\n",
    "c = int(input('Enter c: '))\n",
    "print('Hi', name+'!', 'Your favorite numbers are', a, ',', b, ', and', c, '.')"
   ]
  },
  {
   "cell_type": "markdown",
   "metadata": {
    "slideshow": {
     "slide_type": "subslide"
    }
   },
   "source": [
    "### 模組的匯入\n",
    "<br>\n",
    "\n",
    "* $\\rm{import}$ 是 $\\rm{Python}$ 最常用到的關鍵字之一，其意義為匯(導)入某模組\n",
    "* 使用 $\\rm{import}$ 時，務必寫在所有程式之前，養成良好寫作習慣\n",
    "* $\\rm{random}$ 則是最常用到的模組之一，裡面包含許多關於「隨機」的函式\n",
    "* 匯入 $\\rm{random}$ 模組之後，就可以使用此模組下的 $\\rm{randint()}$ 函式\n",
    "    * 呼叫的方式是 $\\rm{random.randint(頭,\\space尾)}$\n",
    "    * 會隨機產生介於頭尾之間的一個$\\color{orange}{整數}$\n",
    "    * $\\color{orange}{頭尾都算!}$\n",
    "* $\\rm{randint()}$ 會產生一個值，所以可以放到 $\\rm{print()}$ 裡，也可以把這個值賦給變數"
   ]
  },
  {
   "cell_type": "code",
   "execution_count": null,
   "metadata": {
    "slideshow": {
     "slide_type": "fragment"
    }
   },
   "outputs": [],
   "source": [
    "import random\n",
    "\n",
    "for i in range(100):\n",
    "    print(random.randint(0, 20))"
   ]
  },
  {
   "cell_type": "markdown",
   "metadata": {
    "slideshow": {
     "slide_type": "subslide"
    }
   },
   "source": [
    "* $\\rm{choice()}$ 函式則可以幫我們隨機取出一個循序結構中的值\n",
    "    * 呼叫的方式是 $\\rm{random.choice(循序結構)}$\n",
    "    * 字串、串列、$\\rm{range()}$ 都是循序結構\n",
    "* 官方說明文件可參閱 [這裡](https://docs.python.org/3/library/random.html#functions-for-sequences)"
   ]
  },
  {
   "cell_type": "code",
   "execution_count": null,
   "metadata": {
    "slideshow": {
     "slide_type": "fragment"
    }
   },
   "outputs": [],
   "source": [
    "import random\n",
    "\n",
    "for i in range(10):\n",
    "    print(random.choice([1, 2, 3, 4, 5]))\n",
    "#     print(random.choice('abcdefghijklmnopqrstuvwxyz'))\n",
    "#     print(random.choice(range(50)))"
   ]
  },
  {
   "cell_type": "markdown",
   "metadata": {
    "slideshow": {
     "slide_type": "subslide"
    }
   },
   "source": [
    "### 常用的隨機模組內函式\n",
    "<br>\n",
    "\n",
    "* 「取後放回」與「取後不放回」是常常被執行的兩種關於隨機的動作\n",
    "* 取後放回的例子\n",
    "    * DNA 隨機組合\n",
    "    * 集字遊戲\n",
    "* 取後不放回的例子\n",
    "    * 樂透\n",
    "    * 撲克牌"
   ]
  },
  {
   "cell_type": "markdown",
   "metadata": {
    "slideshow": {
     "slide_type": "subslide"
    }
   },
   "source": [
    "* $\\rm{choice\\color{orange}{s}}$() 函式可以幫我們隨機取出一個循序結構中的$\\color{orange}{多個}$值\n",
    "    * 呼叫的方式是 $\\rm{random.choices(循序結構,\\space k=想取的次數)}$\n",
    "    * 注意此時程式會預設循序結構內的所有元素，其出現機率相等"
   ]
  },
  {
   "cell_type": "code",
   "execution_count": null,
   "metadata": {
    "slideshow": {
     "slide_type": "subslide"
    }
   },
   "outputs": [],
   "source": [
    "import random\n",
    "\n",
    "balls = ['red', 'blue', 'green']\n",
    "print(random.choices(balls, k=20))"
   ]
  },
  {
   "cell_type": "markdown",
   "metadata": {
    "slideshow": {
     "slide_type": "subslide"
    }
   },
   "source": [
    "* 若 $\\rm{choices()}$ 中的循序結構個數或出現機率不等，可補進一個串列補充說明\n",
    "    * 此時語法為 $\\rm{random.choices(循序結構,\\space個數或機率,\\space k=x)}$\n",
    "    * 取複數個元素時，給出的結果都是一個$\\color{orange}{串列}$"
   ]
  },
  {
   "cell_type": "code",
   "execution_count": null,
   "metadata": {
    "slideshow": {
     "slide_type": "fragment"
    }
   },
   "outputs": [],
   "source": [
    "import random\n",
    "\n",
    "balls = ['red', 'blue', 'green']\n",
    "print(random.choices(balls, k=20))\n",
    "\n",
    "# amount = [50, 20, 30] # 指定球的數量\n",
    "# print(random.choices(balls, amount, k=20))\n",
    "\n",
    "nums = [33, 52, 99, 8, 21]\n",
    "prob = [0.1, 0.25, 0.15, 0.2, 0.3] # 指定個別數字出現的機率\n",
    "print(random.choices(nums, prob, k=20))"
   ]
  },
  {
   "cell_type": "markdown",
   "metadata": {
    "slideshow": {
     "slide_type": "subslide"
    }
   },
   "source": [
    "### 迴圈的控制\n",
    "<br>\n",
    "\n",
    "* 當資料量很多、或是我們所希望的條件已經達成的時候，可以利用下面兩個關鍵字來做微控迴圈的執行\n",
    "* 這三個關鍵字常與 if 連用\n",
    "    * $\\rm\\color{orange}{break}$：用來逃脫$\\rm\\color{orange}{最近的}$迴圈\n",
    "    * $\\rm\\color{orange}{continue}$：($\\rm\\color{orange}{最近的}$迴圈的) 這一次不算，繼續往下做"
   ]
  },
  {
   "cell_type": "markdown",
   "metadata": {
    "slideshow": {
     "slide_type": "subslide"
    }
   },
   "source": [
    "#### 利用 break 來逃脫迴圈"
   ]
  },
  {
   "cell_type": "code",
   "execution_count": null,
   "metadata": {
    "slideshow": {
     "slide_type": "fragment"
    }
   },
   "outputs": [],
   "source": [
    "count = 0\n",
    "for char in 'Pneumonoultramicroscopicsilicovolcanoconiosis':\n",
    "    count += 1\n",
    "    if char == 'v':\n",
    "        break\n",
    "    print(char)\n",
    "#     count += 1\n",
    "    \n",
    "print('\\nThe loop was executed', count, 'times.')"
   ]
  },
  {
   "cell_type": "markdown",
   "metadata": {
    "slideshow": {
     "slide_type": "subslide"
    }
   },
   "source": [
    "#### 利用 continue 來跳過這次內容"
   ]
  },
  {
   "cell_type": "code",
   "execution_count": null,
   "metadata": {
    "slideshow": {
     "slide_type": "fragment"
    }
   },
   "outputs": [],
   "source": [
    "count = 0\n",
    "for char in 'Pneumonoultramicroscopicsilicovolcanoconiosis':\n",
    "    count += 1\n",
    "    if char == 'o':\n",
    "        continue\n",
    "    print(char)\n",
    "#     count += 1\n",
    "    \n",
    "print('\\nThe loop was executed', count, 'times.')"
   ]
  },
  {
   "cell_type": "markdown",
   "metadata": {
    "slideshow": {
     "slide_type": "subslide"
    }
   },
   "source": [
    "#### 無窮迴圈的應用"
   ]
  },
  {
   "cell_type": "code",
   "execution_count": null,
   "metadata": {
    "slideshow": {
     "slide_type": "fragment"
    }
   },
   "outputs": [],
   "source": [
    "# 會停嗎?\n",
    "n = 10\n",
    "while True:\n",
    "    print(n)\n",
    "    n = n - 1\n",
    "print('Done!')"
   ]
  },
  {
   "cell_type": "markdown",
   "metadata": {
    "slideshow": {
     "slide_type": "subslide"
    }
   },
   "source": [
    "* 「while True：」開頭就是最典型的無窮迴圈寫法 (為什麼?)\n",
    "* 當寫出這樣的開頭，務必確保裡面有可以讓它停止的條件\n",
    "    * break 是無窮迴圈的好朋友\n",
    "* 適合用來讓使用者一直輸入資訊，直到輸入特定文字之後跳出"
   ]
  },
  {
   "cell_type": "code",
   "execution_count": null,
   "metadata": {
    "slideshow": {
     "slide_type": "fragment"
    }
   },
   "outputs": [],
   "source": [
    "print('Enter something you want to say, \"done\" to quit:') # 注意單雙引號的用法\n",
    "while True:\n",
    "    line = input('>> ')\n",
    "    if line == 'done':\n",
    "        break\n",
    "    print(line)\n",
    "print('Done!')"
   ]
  }
 ],
 "metadata": {
  "kernelspec": {
   "display_name": "Python 3 (ipykernel)",
   "language": "python",
   "name": "python3"
  },
  "language_info": {
   "codemirror_mode": {
    "name": "ipython",
    "version": 3
   },
   "file_extension": ".py",
   "mimetype": "text/x-python",
   "name": "python",
   "nbconvert_exporter": "python",
   "pygments_lexer": "ipython3",
   "version": "3.9.12"
  },
  "toc": {
   "base_numbering": 1,
   "nav_menu": {},
   "number_sections": true,
   "sideBar": true,
   "skip_h1_title": false,
   "title_cell": "Table of Contents",
   "title_sidebar": "Contents",
   "toc_cell": false,
   "toc_position": {},
   "toc_section_display": true,
   "toc_window_display": false
  },
  "varInspector": {
   "cols": {
    "lenName": 16,
    "lenType": 16,
    "lenVar": 40
   },
   "kernels_config": {
    "python": {
     "delete_cmd_postfix": "",
     "delete_cmd_prefix": "del ",
     "library": "var_list.py",
     "varRefreshCmd": "print(var_dic_list())"
    },
    "r": {
     "delete_cmd_postfix": ") ",
     "delete_cmd_prefix": "rm(",
     "library": "var_list.r",
     "varRefreshCmd": "cat(var_dic_list()) "
    }
   },
   "types_to_exclude": [
    "module",
    "function",
    "builtin_function_or_method",
    "instance",
    "_Feature"
   ],
   "window_display": false
  }
 },
 "nbformat": 4,
 "nbformat_minor": 2
}
