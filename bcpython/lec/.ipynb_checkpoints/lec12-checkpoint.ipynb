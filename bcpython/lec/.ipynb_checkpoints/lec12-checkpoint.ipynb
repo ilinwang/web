{
 "cells": [
  {
   "cell_type": "markdown",
   "id": "0c3f8684",
   "metadata": {
    "slideshow": {
     "slide_type": "subslide"
    }
   },
   "source": [
    "### $\\rm{pandas}$ 的基礎\n",
    "<br>\n",
    "  \n",
    "* $\\rm{pandas}$ 是專門用來處理、分析資料的 $\\rm{Python}$ 套件\n",
    "* 我們直接進入實際應用，因此暫時略過一些重要的先備知識\n",
    "    * $\\rm\\color{orange}{NumPy}$ 套件\n",
    "    * $\\rm\\color{orange}{pandas}$ 套件下的 $\\rm\\color{orange}{Series}$ 物件格式與其操作\n",
    "* 若往後對資料分析有興趣而想要自修，建議先對上述套件與模組有一定的熟悉度"
   ]
  },
  {
   "cell_type": "markdown",
   "id": "87aaa5e6",
   "metadata": {
    "slideshow": {
     "slide_type": "subslide"
    }
   },
   "source": [
    "#### 使用 $\\rm{pandas}$ 套件\n",
    "<br>\n",
    "  \n",
    "* $\\rm{pandas}$ 套件已內含在 $\\rm{Anaonda}$ 中，使用時不需額外安裝\n",
    "* 使用時和隨機模組相同，需要先使用 $\\rm\\color{orange}{import}$ 指令匯入\n",
    "  \n",
    "        import pandas as pd\n",
    "  \n",
    "* $\\rm{import}$ ... $\\rm{as}$ ... 的語法和開啟檔案類似，上述語句的意思是在程式中提到 $\\rm{pandas}$ 時，都以 $\\rm{pd}$ 作為代稱\n",
    "* 注意，不同於開啟檔案時可以隨意指定代稱，套件的代稱都是約定成俗的用法，不可隨意更動"
   ]
  },
  {
   "cell_type": "markdown",
   "id": "28e7d9b5",
   "metadata": {
    "slideshow": {
     "slide_type": "subslide"
    }
   },
   "source": [
    "#### 讀取 $\\rm{CSV}$ 檔\n",
    "<br>\n",
    "  \n",
    "* 這邊我們讀取 $\\rm{fruits.csv}$ 來做示範\n",
    "  \n",
    "        df = pd.read_csv('fruits.csv')\n",
    "  \n",
    "* $\\rm\\color{orange}{read\\_csv()}$ 是 $\\rm{pandas}$ 中用於讀取 $\\rm{csv}$ 檔等純文字格式的函式。把欲讀取的檔案放在同一個目錄下，完整檔名以字串置於小括號內即可\n",
    "* 以 $\\rm\\color{orange}{read\\_csv()}$ 讀取完的檔案，會被轉換成 pandas 下的 $\\rm\\color{orange}{DataFrame}$ 格式，因此在這邊我們把讀取完後的檔案命名為 $\\rm{df}$"
   ]
  },
  {
   "cell_type": "code",
   "execution_count": 1,
   "id": "598579b9",
   "metadata": {
    "ExecuteTime": {
     "end_time": "2021-06-08T05:50:58.068898Z",
     "start_time": "2021-06-08T05:50:57.725641Z"
    },
    "scrolled": true,
    "slideshow": {
     "slide_type": "subslide"
    }
   },
   "outputs": [
    {
     "name": "stdout",
     "output_type": "stream",
     "text": [
      "       fruits  year  time\n",
      "0       apple  2001     1\n",
      "1      orange  2002     4\n",
      "2      banana  2001     3\n",
      "3  strawberry  2008     6\n",
      "4        kiwi  2006     3\n"
     ]
    }
   ],
   "source": [
    "import pandas as pd\n",
    "\n",
    "df = pd.read_csv('fruits.csv')\n",
    "print(df)"
   ]
  },
  {
   "cell_type": "markdown",
   "id": "46d31570",
   "metadata": {
    "slideshow": {
     "slide_type": "subslide"
    }
   },
   "source": [
    "#### 索引值與欄位名稱\n",
    "<br>\n",
    "  \n",
    "* 這就是一個典型 $\\rm{DataFrame}$ 輸出的結果\n",
    "* $\\rm{pandas}$ 會幫 $\\rm{DataFrame}$ 自動加上從 $\\rm{0}$ 開始的索引值 ($\\rm\\color{orange}{index}$) 編號\n",
    "* 上方的 $\\rm{fruits}$、$\\rm{year}$ 和 $\\rm{time}$ 則為欄位 ($\\rm\\color{orange}{columns}$) 名稱\n",
    "* 索引值和欄位名稱都可以使用以下的語法來修改\n",
    "  \n",
    "        DataFrame名稱.index = [索引值1, 索引值2, ...]\n",
    "        DataFrame名稱.columns = [欄位名1, 欄位名2, ...]\n",
    "  "
   ]
  },
  {
   "cell_type": "code",
   "execution_count": 3,
   "id": "3efdb8b1",
   "metadata": {
    "ExecuteTime": {
     "end_time": "2021-06-08T06:16:07.937389Z",
     "start_time": "2021-06-08T06:16:07.923462Z"
    },
    "slideshow": {
     "slide_type": "subslide"
    }
   },
   "outputs": [
    {
     "name": "stdout",
     "output_type": "stream",
     "text": [
      "       fruits  year  time\n",
      "1       apple  2001     1\n",
      "2      orange  2002     4\n",
      "3      banana  2001     3\n",
      "4  strawberry  2008     6\n",
      "5        kiwi  2006     3\n",
      "\n",
      "       fruits  year  time\n",
      "C       apple  2001     1\n",
      "D      orange  2002     4\n",
      "E      banana  2001     3\n",
      "F  strawberry  2008     6\n",
      "G        kiwi  2006     3\n"
     ]
    }
   ],
   "source": [
    "# 索引值可更改為數字或文字，但必須置於串列中\n",
    "df.index = [1, 2, 3, 4, 5] # 直接以賦值方式更改索引值\n",
    "print(df)\n",
    "print()\n",
    "idx = ['C', 'D', 'E', 'F', 'G'] # 也可以先建立串列再賦值\n",
    "df.index = idx\n",
    "print(df)"
   ]
  },
  {
   "cell_type": "code",
   "execution_count": 4,
   "id": "a1d25902",
   "metadata": {
    "ExecuteTime": {
     "end_time": "2021-06-08T06:17:04.575780Z",
     "start_time": "2021-06-08T06:17:04.560788Z"
    },
    "slideshow": {
     "slide_type": "subslide"
    }
   },
   "outputs": [
    {
     "name": "stdout",
     "output_type": "stream",
     "text": [
      "           FR    YR  TM\n",
      "C       apple  2001   1\n",
      "D      orange  2002   4\n",
      "E      banana  2001   3\n",
      "F  strawberry  2008   6\n",
      "G        kiwi  2006   3\n"
     ]
    }
   ],
   "source": [
    "# 欄位名稱可以用相同方式做修改\n",
    "df.columns = ['FR', 'YR', 'TM']\n",
    "print(df)"
   ]
  },
  {
   "cell_type": "markdown",
   "id": "6ad1777f",
   "metadata": {
    "slideshow": {
     "slide_type": "subslide"
    }
   },
   "source": [
    "#### 加入新的欄位\n",
    "<br>\n",
    "  \n",
    "* 新增欄位十分容易，只需要套用下列語法\n",
    "  \n",
    "        DataFrame名稱[新欄位名稱] = [第0列內容, 第1列內容, 第2列內容, ...]\n",
    "  \n",
    "* 操作上十分類似 $\\rm{Excel}$ 的電子試算表 ($\\rm{spreadsheet}$) 格式"
   ]
  },
  {
   "cell_type": "code",
   "execution_count": 6,
   "id": "f845de8a",
   "metadata": {
    "ExecuteTime": {
     "end_time": "2021-06-08T06:23:35.275897Z",
     "start_time": "2021-06-08T06:23:35.249969Z"
    },
    "slideshow": {
     "slide_type": "subslide"
    }
   },
   "outputs": [
    {
     "name": "stdout",
     "output_type": "stream",
     "text": [
      "       fruits  year  time\n",
      "0       apple  2001     1\n",
      "1      orange  2002     4\n",
      "2      banana  2001     3\n",
      "3  strawberry  2008     6\n",
      "4        kiwi  2006     3\n",
      "\n",
      "       fruits  year  time  price\n",
      "0       apple  2001     1    150\n",
      "1      orange  2002     4    120\n",
      "2      banana  2001     3    100\n",
      "3  strawberry  2008     6    300\n",
      "4        kiwi  2006     3    150\n"
     ]
    }
   ],
   "source": [
    "df = pd.read_csv('fruits.csv')\n",
    "print(df)\n",
    "print()\n",
    "df['price'] = [150, 120, 100, 300, 150] # 新增 price 欄位\n",
    "print(df)"
   ]
  },
  {
   "cell_type": "markdown",
   "id": "2df832e9",
   "metadata": {
    "slideshow": {
     "slide_type": "subslide"
    }
   },
   "source": [
    "#### 取出 $\\rm{DataFrame}$ 當中的元素\n",
    "<br>\n",
    "  \n",
    "* 可以使用以下兩種語法來取出指定範圍的內容\n",
    "  \n",
    "        DataFrame名稱.loc[索引名稱的串列, 欄位名稱的串列]\n",
    "        DataFrame名稱.iloc[索引編號的串列, 欄位編號的串列]\n",
    "  \n",
    "* 兩者都是先指定列 ($\\rm{row}$) 再指定欄 ($\\rm{column}$)，然後取出交集部分的資料"
   ]
  },
  {
   "cell_type": "code",
   "execution_count": 8,
   "id": "38556886",
   "metadata": {
    "ExecuteTime": {
     "end_time": "2021-06-08T06:28:24.268046Z",
     "start_time": "2021-06-08T06:28:24.253088Z"
    },
    "slideshow": {
     "slide_type": "subslide"
    }
   },
   "outputs": [
    {
     "name": "stdout",
     "output_type": "stream",
     "text": [
      "       fruits  year  time  price\n",
      "0       apple  2001     1    150\n",
      "1      orange  2002     4    120\n",
      "2      banana  2001     3    100\n",
      "3  strawberry  2008     6    300\n",
      "4        kiwi  2006     3    150\n",
      "\n",
      "   year  price\n",
      "1  2002    120\n",
      "2  2001    100\n"
     ]
    }
   ],
   "source": [
    "# 使用 loc 選取資料\n",
    "print(df)\n",
    "print()\n",
    "df1 = df.loc[[1, 2], ['year', 'price']] # 把選取完的結果放到 df1 裡，注意是雙層串列\n",
    "print(df1)"
   ]
  },
  {
   "cell_type": "code",
   "execution_count": 10,
   "id": "78a8f171",
   "metadata": {
    "ExecuteTime": {
     "end_time": "2021-06-08T06:35:57.052114Z",
     "start_time": "2021-06-08T06:35:57.041144Z"
    },
    "slideshow": {
     "slide_type": "subslide"
    }
   },
   "outputs": [
    {
     "name": "stdout",
     "output_type": "stream",
     "text": [
      "       fruits  year  time  price\n",
      "C       apple  2001     1    150\n",
      "D      orange  2002     4    120\n",
      "E      banana  2001     3    100\n",
      "F  strawberry  2008     6    300\n",
      "G        kiwi  2006     3    150\n",
      "\n",
      "       fruits  time\n",
      "E      banana     3\n",
      "F  strawberry     6\n"
     ]
    }
   ],
   "source": [
    "# 使用 iloc 選取資料\n",
    "df.index = ['C', 'D', 'E', 'F', 'G']\n",
    "print(df)\n",
    "print()\n",
    "df2 = df.iloc[[2, 3], [0, 2]] # 把選取完的結果放到 df2 裡，注意是雙層串列\n",
    "print(df2)"
   ]
  },
  {
   "cell_type": "markdown",
   "id": "e65c5da6",
   "metadata": {
    "slideshow": {
     "slide_type": "subslide"
    }
   },
   "source": [
    "#### 刪除 $\\rm{DataFrame}$ 的列或行\n",
    "<br>\n",
    "  \n",
    "* 可以使用以下語法來刪除指定的列或行，但須注意「$\\color{orange}{軸}$ ($\\rm\\color{orange}{axis}$)」的方向\n",
    "  \n",
    "        DataFrame名稱.drop(索引名稱, axis=0)\n",
    "        DataFrame名稱.drop(欄位名稱, axis=1)\n",
    "  \n",
    "* 軸向如同之前在二維串列提過的，$\\rm\\color{orange}{axis=0}$ 代表由上往下，$\\rm\\color{orange}{axis=1}$ 則代表由左至右"
   ]
  },
  {
   "cell_type": "code",
   "execution_count": 16,
   "id": "92e58eab",
   "metadata": {
    "ExecuteTime": {
     "end_time": "2021-06-08T06:55:23.810604Z",
     "start_time": "2021-06-08T06:55:23.787664Z"
    },
    "slideshow": {
     "slide_type": "subslide"
    }
   },
   "outputs": [
    {
     "name": "stdout",
     "output_type": "stream",
     "text": [
      "       fruits  year  time\n",
      "0       apple  2001     1\n",
      "1      orange  2002     4\n",
      "2      banana  2001     3\n",
      "3  strawberry  2008     6\n",
      "4        kiwi  2006     3\n",
      "\n",
      "       fruits  year  time\n",
      "0       apple  2001     1\n",
      "1      orange  2002     4\n",
      "3  strawberry  2008     6\n",
      "4        kiwi  2006     3\n",
      "\n",
      "       fruits  time\n",
      "0       apple     1\n",
      "1      orange     4\n",
      "2      banana     3\n",
      "3  strawberry     6\n",
      "4        kiwi     3\n"
     ]
    }
   ],
   "source": [
    "df = pd.read_csv('fruits.csv')\n",
    "print(df)\n",
    "print()\n",
    "df1 = df.drop(2, axis=0)\n",
    "print(df1)\n",
    "print()\n",
    "df2 = df.drop('year', axis=1)\n",
    "print(df2)"
   ]
  },
  {
   "cell_type": "markdown",
   "id": "0955f463",
   "metadata": {
    "slideshow": {
     "slide_type": "subslide"
    }
   },
   "source": [
    "* 練習將 $\\rm{fruits2.csv}$ 匯入成 DataFrame，刪除偶數列後，再將「strawberry」欄位刪除"
   ]
  },
  {
   "cell_type": "code",
   "execution_count": 18,
   "id": "57255836",
   "metadata": {
    "ExecuteTime": {
     "end_time": "2021-06-08T06:58:49.348181Z",
     "start_time": "2021-06-08T06:58:49.326239Z"
    },
    "slideshow": {
     "slide_type": "subslide"
    }
   },
   "outputs": [
    {
     "name": "stdout",
     "output_type": "stream",
     "text": [
      "   apple  orange  banana  strawberry  kiwi\n",
      "0      2      10       7           5     8\n",
      "1      4       7       2           2     2\n",
      "2      6       3       8           6    10\n",
      "3      2       2      10          10     3\n",
      "4      3       7       4           7     1\n",
      "5      5      10       7           5     1\n",
      "6      7       8      10           1     9\n",
      "7      8       4       4           2     1\n",
      "8      9       7       2          10     8\n",
      "9      1       9      10           9     5\n",
      "\n",
      "   apple  orange  banana  strawberry  kiwi\n",
      "1      4       7       2           2     2\n",
      "3      2       2      10          10     3\n",
      "5      5      10       7           5     1\n",
      "7      8       4       4           2     1\n",
      "9      1       9      10           9     5\n",
      "\n",
      "   apple  orange  banana  kiwi\n",
      "1      4       7       2     2\n",
      "3      2       2      10     3\n",
      "5      5      10       7     1\n",
      "7      8       4       4     1\n",
      "9      1       9      10     5\n"
     ]
    }
   ],
   "source": [
    "import pandas as pd\n",
    "\n",
    "df = pd.read_csv('fruits2.csv')\n",
    "print(df)\n",
    "print()\n",
    "df1 = df.drop([0, 2, 4, 6, 8], axis=0)\n",
    "print(df1)\n",
    "print()\n",
    "df2 = df1.drop(['strawberry'], axis=1)\n",
    "print(df2)"
   ]
  },
  {
   "cell_type": "markdown",
   "id": "3b4228fb",
   "metadata": {
    "slideshow": {
     "slide_type": "subslide"
    }
   },
   "source": [
    "#### 將欄位值依大小排序\n",
    "<br>\n",
    "  \n",
    "* 想針對某欄位的值來做排序，可以套用以下語法\n",
    "  \n",
    "        DataFrame名稱.sort_values(by='欄位名稱', ascending=True)\n",
    "  \n",
    "* $\\rm\\color{orange}{ascending=True}$ 是預設值 (可不寫)，表示由小到大排列，改成 $\\rm\\color{orange}{False}$ 就會由大到小排列"
   ]
  },
  {
   "cell_type": "code",
   "execution_count": 25,
   "id": "ab123694",
   "metadata": {
    "ExecuteTime": {
     "end_time": "2021-06-08T07:18:15.842574Z",
     "start_time": "2021-06-08T07:18:15.805122Z"
    },
    "slideshow": {
     "slide_type": "subslide"
    }
   },
   "outputs": [
    {
     "name": "stdout",
     "output_type": "stream",
     "text": [
      "       fruits  year  time\n",
      "0       apple  2001     1\n",
      "1      orange  2002     4\n",
      "2      banana  2001     3\n",
      "3  strawberry  2008     6\n",
      "4        kiwi  2006     3\n",
      "\n",
      "       fruits  year  time\n",
      "3  strawberry  2008     6\n",
      "4        kiwi  2006     3\n",
      "1      orange  2002     4\n",
      "0       apple  2001     1\n",
      "2      banana  2001     3\n",
      "\n",
      "       fruits  year  time\n",
      "3  strawberry  2008     6\n",
      "1      orange  2002     4\n",
      "4        kiwi  2006     3\n",
      "2      banana  2001     3\n",
      "0       apple  2001     1\n"
     ]
    }
   ],
   "source": [
    "df = pd.read_csv('fruits.csv')\n",
    "print(df)\n",
    "print()\n",
    "df1 = df.sort_values(by='year', ascending=False)\n",
    "print(df1)\n",
    "print()\n",
    "# 先依 time 做排序，如果 time 相同再依 year 做排序，是實務上很常用到的功能\n",
    "df2 = df.sort_values(by=['time', 'year'], ascending=False)\n",
    "print(df2)"
   ]
  },
  {
   "cell_type": "markdown",
   "id": "5fd577a9",
   "metadata": {
    "slideshow": {
     "slide_type": "subslide"
    }
   },
   "source": [
    "#### 從 $\\rm{DataFrame}$  篩選出想要的資料\n",
    "<br>\n",
    "  \n",
    "* 可以傳入條件式到 $\\rm{DataFrame}$ 中，藉此留下條件判斷為 $\\rm\\color{orange}{True}$ 的資料\n",
    "  \n",
    "        DataFrame名稱[索引 or 欄位的條件式]"
   ]
  },
  {
   "cell_type": "code",
   "execution_count": 30,
   "id": "feb8b587",
   "metadata": {
    "ExecuteTime": {
     "end_time": "2021-06-08T07:30:48.484117Z",
     "start_time": "2021-06-08T07:30:48.467200Z"
    },
    "slideshow": {
     "slide_type": "subslide"
    }
   },
   "outputs": [
    {
     "name": "stdout",
     "output_type": "stream",
     "text": [
      "   apple  orange  banana  strawberry  kiwi\n",
      "0      2      10       7           5     8\n",
      "1      4       7       2           2     2\n",
      "2      6       3       8           6    10\n",
      "3      2       2      10          10     3\n",
      "4      3       7       4           7     1\n",
      "5      5      10       7           5     1\n",
      "6      7       8      10           1     9\n",
      "7      8       4       4           2     1\n",
      "8      9       7       2          10     8\n",
      "9      1       9      10           9     5\n",
      "\n",
      "   apple  orange  banana  strawberry  kiwi\n",
      "2      6       3       8           6    10\n",
      "5      5      10       7           5     1\n",
      "6      7       8      10           1     9\n",
      "7      8       4       4           2     1\n",
      "8      9       7       2          10     8\n",
      "\n",
      "   apple  orange  banana  strawberry  kiwi\n",
      "2      6       3       8           6    10\n",
      "6      7       8      10           1     9\n",
      "8      9       7       2          10     8\n"
     ]
    }
   ],
   "source": [
    "df = pd.read_csv('fruits2.csv')\n",
    "print(df)\n",
    "print()\n",
    "# df1 = df[df.index % 2 == 0]\n",
    "# print(df1)\n",
    "# print()\n",
    "df2 = df[df['apple'] >= 5]\n",
    "print(df2)\n",
    "print()\n",
    "df3 = df[(df['apple'] >= 5) & (df['kiwi'] >= 5)] # 同時符合兩個篩選條件\n",
    "print(df3)"
   ]
  },
  {
   "cell_type": "markdown",
   "id": "9d48fc34",
   "metadata": {},
   "source": [
    "#### (Optional) 快速取得各種基本統計數據\n",
    "<br>\n",
    "  \n",
    "* 對於第一次接觸的資料，有許多統計指標可以幫助我們快速看出其大致的樣貌\n",
    "* $\\rm{pandas}$ 提供了 $\\rm\\color{orange}{describe()}$ 方法來做到這件事"
   ]
  },
  {
   "cell_type": "code",
   "execution_count": 31,
   "id": "5f9d67ea",
   "metadata": {
    "ExecuteTime": {
     "end_time": "2021-06-08T07:34:01.632002Z",
     "start_time": "2021-06-08T07:34:01.604113Z"
    }
   },
   "outputs": [
    {
     "name": "stdout",
     "output_type": "stream",
     "text": [
      "   apple  orange  banana  strawberry  kiwi\n",
      "0      2      10       7           5     8\n",
      "1      4       7       2           2     2\n",
      "2      6       3       8           6    10\n",
      "3      2       2      10          10     3\n",
      "4      3       7       4           7     1\n",
      "5      5      10       7           5     1\n",
      "6      7       8      10           1     9\n",
      "7      8       4       4           2     1\n",
      "8      9       7       2          10     8\n",
      "9      1       9      10           9     5\n",
      "\n",
      "           apple     orange     banana  strawberry       kiwi\n",
      "count  10.000000  10.000000  10.000000      10.000  10.000000\n",
      "mean    4.700000   6.700000   6.400000       5.700   4.800000\n",
      "std     2.750757   2.830391   3.204164       3.335   3.645393\n",
      "min     1.000000   2.000000   2.000000       1.000   1.000000\n",
      "25%     2.250000   4.750000   4.000000       2.750   1.250000\n",
      "50%     4.500000   7.000000   7.000000       5.500   4.000000\n",
      "75%     6.750000   8.750000   9.500000       8.500   8.000000\n",
      "max     9.000000  10.000000  10.000000      10.000  10.000000\n"
     ]
    }
   ],
   "source": [
    "df = pd.read_csv('fruits2.csv')\n",
    "print(df)\n",
    "print()\n",
    "print(df.describe())"
   ]
  },
  {
   "cell_type": "markdown",
   "id": "5c401e3a",
   "metadata": {
    "slideshow": {
     "slide_type": "subslide"
    }
   },
   "source": [
    "* 輸出 $\\rm{names.txt}$ 中，所有姓 $\\rm{Patterson}$ 的人名和他們的 $\\rm{email}$"
   ]
  },
  {
   "cell_type": "code",
   "execution_count": 33,
   "id": "ad20f0db",
   "metadata": {
    "ExecuteTime": {
     "end_time": "2021-06-08T07:40:01.176523Z",
     "start_time": "2021-06-08T07:40:01.152576Z"
    },
    "slideshow": {
     "slide_type": "subslide"
    }
   },
   "outputs": [
    {
     "name": "stdout",
     "output_type": "stream",
     "text": [
      "   first_name  last_name                           email\n",
      "13        Tom  Patterson     tompatterson@bogusemail.com\n",
      "16     Maggie  Patterson  maggiepatterson@bogusemail.com\n",
      "19      Steve  Patterson   stevepatterson@bogusemail.com\n",
      "26        Sam  Patterson     sampatterson@bogusemail.com\n",
      "31       Neil  Patterson    neilpatterson@bogusemail.com\n",
      "39       Mary  Patterson    marypatterson@bogusemail.com\n"
     ]
    }
   ],
   "source": [
    "df = pd.read_csv('names.txt')\n",
    "print(df[df['last_name'] == 'Patterson'])"
   ]
  },
  {
   "cell_type": "markdown",
   "id": "2bda4fb5",
   "metadata": {
    "slideshow": {
     "slide_type": "subslide"
    }
   },
   "source": [
    "#### 加上標頭列\n",
    "<br>\n",
    "\n",
    "* 找出 $\\rm{CA.txt}$ 中，$\\rm{2001}$ 年最熱門的男女孩名字"
   ]
  },
  {
   "cell_type": "code",
   "execution_count": 3,
   "id": "3fe49592",
   "metadata": {
    "ExecuteTime": {
     "end_time": "2021-06-08T08:01:04.611513Z",
     "start_time": "2021-06-08T08:01:04.141197Z"
    },
    "scrolled": true,
    "slideshow": {
     "slide_type": "subslide"
    }
   },
   "outputs": [
    {
     "name": "stdout",
     "output_type": "stream",
     "text": [
      "       State Sex  Year    Name  Number\n",
      "337520    CA   M  2001  Daniel    4165\n"
     ]
    }
   ],
   "source": [
    "import pandas as pd\n",
    "df = pd.read_csv('CA.txt', header=None)\n",
    "df.columns = ['State', 'Sex', 'Year', 'Name', 'Number']\n",
    "# print(df.head())\n",
    "df1 = df[(df['Year'] == 2001) & (df['Sex'] == 'M')]\n",
    "print(df1.head(1))"
   ]
  },
  {
   "cell_type": "markdown",
   "id": "6686c3f6",
   "metadata": {
    "slideshow": {
     "slide_type": "subslide"
    }
   },
   "source": [
    "#### 取頭尾列\n",
    "<br>\n",
    "\n",
    "* 當資料量很大，不太可能全部顯示出來時，可以使用 $\\rm\\color{orange}{head()}$ 與 $\\rm\\color{orange}{tail()}$ 來顯示局部內容\n",
    "* 預設值為 $\\rm{5}$ 列，可在小括號內填入想顯示的列數"
   ]
  },
  {
   "cell_type": "code",
   "execution_count": 10,
   "id": "dc329d91",
   "metadata": {
    "ExecuteTime": {
     "end_time": "2021-06-08T08:10:11.991154Z",
     "start_time": "2021-06-08T08:10:11.945640Z"
    },
    "slideshow": {
     "slide_type": "subslide"
    }
   },
   "outputs": [
    {
     "name": "stdout",
     "output_type": "stream",
     "text": [
      "       State Sex  Year   Name  Number\n",
      "152806    CA   F  2001  Emily    2928\n",
      "156596    CA   F  2002  Emily    3020\n",
      "160457    CA   F  2003  Emily    3416\n",
      "164364    CA   F  2004  Emily    3416\n",
      "168390    CA   F  2005  Emily    3283\n",
      "172489    CA   F  2006  Emily    3104\n",
      "176697    CA   F  2007  Emily    2964\n",
      "180980    CA   F  2008  Emily    2781\n",
      "185228    CA   F  2009  Emily    2540\n",
      "189420    CA   F  2010  Emily    2392\n",
      "49386\n"
     ]
    }
   ],
   "source": [
    "emily = df[(df['Name'] == 'Emily') & (df['Year'] <= 2020) & (df['Year'] >= 2001)]\n",
    "print(emily.head(10))\n",
    "print(emily['Number'].sum())"
   ]
  },
  {
   "cell_type": "code",
   "execution_count": null,
   "id": "33acbbda",
   "metadata": {},
   "outputs": [],
   "source": []
  }
 ],
 "metadata": {
  "kernelspec": {
   "display_name": "Python 3 (ipykernel)",
   "language": "python",
   "name": "python3"
  },
  "language_info": {
   "codemirror_mode": {
    "name": "ipython",
    "version": 3
   },
   "file_extension": ".py",
   "mimetype": "text/x-python",
   "name": "python",
   "nbconvert_exporter": "python",
   "pygments_lexer": "ipython3",
   "version": "3.9.12"
  },
  "toc": {
   "base_numbering": 1,
   "nav_menu": {},
   "number_sections": true,
   "sideBar": true,
   "skip_h1_title": false,
   "title_cell": "Table of Contents",
   "title_sidebar": "Contents",
   "toc_cell": false,
   "toc_position": {},
   "toc_section_display": true,
   "toc_window_display": false
  },
  "varInspector": {
   "cols": {
    "lenName": 16,
    "lenType": 16,
    "lenVar": 40
   },
   "kernels_config": {
    "python": {
     "delete_cmd_postfix": "",
     "delete_cmd_prefix": "del ",
     "library": "var_list.py",
     "varRefreshCmd": "print(var_dic_list())"
    },
    "r": {
     "delete_cmd_postfix": ") ",
     "delete_cmd_prefix": "rm(",
     "library": "var_list.r",
     "varRefreshCmd": "cat(var_dic_list()) "
    }
   },
   "position": {
    "height": "446.5px",
    "left": "576px",
    "right": "20px",
    "top": "69px",
    "width": "622px"
   },
   "types_to_exclude": [
    "module",
    "function",
    "builtin_function_or_method",
    "instance",
    "_Feature"
   ],
   "window_display": false
  }
 },
 "nbformat": 4,
 "nbformat_minor": 5
}
