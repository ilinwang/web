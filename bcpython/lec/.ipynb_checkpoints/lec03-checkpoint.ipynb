{
 "cells": [
  {
   "cell_type": "markdown",
   "metadata": {
    "slideshow": {
     "slide_type": "subslide"
    }
   },
   "source": [
    "### 串列的運算\n",
    "<br>\n",
    "  \n",
    "* 加號「$+$」和字串一樣，會把兩個串列合併成一個"
   ]
  },
  {
   "cell_type": "code",
   "execution_count": null,
   "metadata": {
    "ExecuteTime": {
     "end_time": "2020-05-15T07:45:17.748780Z",
     "start_time": "2020-05-15T07:45:17.737553Z"
    },
    "slideshow": {
     "slide_type": "fragment"
    }
   },
   "outputs": [],
   "source": [
    "a = [1, 2, 3]\n",
    "b = [4, 5, 6]\n",
    "print(a + b)"
   ]
  },
  {
   "cell_type": "markdown",
   "metadata": {
    "slideshow": {
     "slide_type": "subslide"
    }
   },
   "source": [
    "* 乘號「$\\ast$」也和字串一樣，會複製多份相同的串列，然後合併成一個"
   ]
  },
  {
   "cell_type": "code",
   "execution_count": null,
   "metadata": {
    "ExecuteTime": {
     "end_time": "2020-05-15T07:47:58.183038Z",
     "start_time": "2020-05-15T07:47:58.180017Z"
    },
    "slideshow": {
     "slide_type": "fragment"
    }
   },
   "outputs": [],
   "source": [
    "a = [0]\n",
    "b = [1, 2, 3]\n",
    "print(a * 5)\n",
    "print(b * 3)"
   ]
  },
  {
   "cell_type": "markdown",
   "metadata": {
    "slideshow": {
     "slide_type": "subslide"
    }
   },
   "source": [
    "### 刪除串列中的元素\n",
    "<br>\n",
    "  \n",
    "* 一旦串列中的元素被刪除，在其之後的元素將$\\rm\\color{orange}{自動向前遞補}$\n",
    "* 如果已經知道該元素的索引值，我們可以使用 $\\rm\\color{orange}{pop()}$\n",
    "* $\\rm{pop()}$ 可以幫我們保留被刪除的那個值\n",
    "* 如果 $\\rm{pop()}$ 中沒有給索引值，它會預設把最後一個元素刪除"
   ]
  },
  {
   "cell_type": "code",
   "execution_count": null,
   "metadata": {
    "slideshow": {
     "slide_type": "fragment"
    }
   },
   "outputs": [],
   "source": [
    "chars = ['a', 'b', 'c']\n",
    "x = chars.pop(1)\n",
    "print(chars)\n",
    "print(x)\n",
    "# chars = ['a', 'b', 'c']\n",
    "# x = chars.pop()\n",
    "# print(chars)\n",
    "# print(x)\n",
    "# chars = ['a', 'b', 'c', 'd', 'e']\n",
    "# x = chars.pop(2)\n",
    "# x = chars.pop(2)\n",
    "# print(chars)\n",
    "# print(x)"
   ]
  },
  {
   "cell_type": "markdown",
   "metadata": {
    "slideshow": {
     "slide_type": "subslide"
    }
   },
   "source": [
    "* 如果不需要保留被刪除的值，我們可以用 $\\rm\\color{orange}{del}$\n",
    "* 注意 $\\rm{del}$ 的使用語法\n",
    "* 想刪除多於一個元素的話，可以利用 $\\rm{del}$ 搭配切片"
   ]
  },
  {
   "cell_type": "code",
   "execution_count": null,
   "metadata": {
    "slideshow": {
     "slide_type": "fragment"
    }
   },
   "outputs": [],
   "source": [
    "chars = ['a', 'b', 'c']\n",
    "del chars[1]\n",
    "print(chars)\n",
    "# chars = ['a', 'b', 'c', 'd', 'e', 'f']\n",
    "# del chars[1:5]\n",
    "# print(chars)\n",
    "# chars = ['a', 'b', 'c', 'd', 'e', 'f']\n",
    "# del chars[3]\n",
    "# # print(chars)\n",
    "# del chars[4]\n",
    "# print(chars)"
   ]
  },
  {
   "cell_type": "code",
   "execution_count": null,
   "metadata": {
    "slideshow": {
     "slide_type": "subslide"
    }
   },
   "outputs": [],
   "source": [
    "chars = ['a', 'b', 'c', 'd', 'e', 'f']\n",
    "# 方法一\n",
    "del chars[3:5]\n",
    "# 方法二\n",
    "# del chars[3]\n",
    "# del chars[3]\n",
    "print(chars)"
   ]
  },
  {
   "cell_type": "markdown",
   "metadata": {
    "slideshow": {
     "slide_type": "subslide"
    }
   },
   "source": [
    "* 如果只知道想刪除元素的值，而不知道該元素的索引值，可以使用 $\\rm\\color{orange}{remove()}$"
   ]
  },
  {
   "cell_type": "code",
   "execution_count": null,
   "metadata": {
    "slideshow": {
     "slide_type": "fragment"
    }
   },
   "outputs": [],
   "source": [
    "char = ['a', 'b', 'c']\n",
    "char.remove('b')\n",
    "print(char)"
   ]
  },
  {
   "cell_type": "markdown",
   "metadata": {
    "slideshow": {
     "slide_type": "subslide"
    }
   },
   "source": [
    "### 「複製」的陷阱\n",
    "<br>\n",
    "\n",
    "* 針對單純的數字或字串，拷貝之後去改變複製品的值並不會有問題"
   ]
  },
  {
   "cell_type": "code",
   "execution_count": null,
   "metadata": {
    "slideshow": {
     "slide_type": "fragment"
    }
   },
   "outputs": [],
   "source": [
    "a = 5\n",
    "copy_of_a = a\n",
    "print(a, copy_of_a)\n",
    "copy_of_a = 7\n",
    "print(a, copy_of_a)\n",
    "# print()\n",
    "# b = 'this is a string'\n",
    "# copy_of_b = b\n",
    "# print(b, copy_of_b)\n",
    "# copy_of_b = 'hello world'\n",
    "# print(b, copy_of_b)"
   ]
  },
  {
   "cell_type": "markdown",
   "metadata": {
    "slideshow": {
     "slide_type": "subslide"
    }
   },
   "source": [
    "* 但如果複製的標的物是串列，上面的做法就會出問題"
   ]
  },
  {
   "cell_type": "code",
   "execution_count": null,
   "metadata": {
    "slideshow": {
     "slide_type": "fragment"
    }
   },
   "outputs": [],
   "source": [
    "x = ['a', 'b', 'c']\n",
    "y = x\n",
    "y[1] = 'z'\n",
    "print(y)\n",
    "# print(x)"
   ]
  },
  {
   "cell_type": "markdown",
   "metadata": {
    "slideshow": {
     "slide_type": "subslide"
    }
   },
   "source": [
    "* 前面提過，賦值是把$\\rm\\color{orange}{一個}$值和$\\rm\\color{orange}{一個}$變數做連結\n",
    "* 而串列是一個被「打包」起來的值，因此賦值時，給的是最外面的大包裝\n",
    "* 單純使用變數名稱做賦值的話\n",
    "    * 因為賦值只能是一對一的對應，可是大包裝中可能有很多值\n",
    "    * 既然無法複製大包裝中所有的東西，所以只能把大包裝的$\\rm\\color{orange}{位置}$告訴對方\n",
    "* 以本例而言，$\\rm{x}$ 和 $\\rm{y}$ 在經過賦值後，指的是同一個串列的位置\n",
    "* 既然是同一個串列，那麼任何一方對其操作，另外一方都會受到影響"
   ]
  },
  {
   "cell_type": "markdown",
   "metadata": {
    "slideshow": {
     "slide_type": "subslide"
    }
   },
   "source": [
    "![Name of List](lec03_01.jpg)"
   ]
  },
  {
   "cell_type": "markdown",
   "metadata": {
    "slideshow": {
     "slide_type": "subslide"
    }
   },
   "source": [
    "![Name of List](lec03_02.jpg)"
   ]
  },
  {
   "cell_type": "markdown",
   "metadata": {
    "slideshow": {
     "slide_type": "subslide"
    }
   },
   "source": [
    "![Name of List](lec03_03.jpg)"
   ]
  },
  {
   "cell_type": "markdown",
   "metadata": {
    "slideshow": {
     "slide_type": "subslide"
    }
   },
   "source": [
    "* 因此，若想做出某串列的一個獨立複製品，除了複製最外層的大包裝，當中的每一個內容物也都需要一個一個拿出來複製\n",
    "* 一般而言，會採用下列兩種方式之一來完整複製一個串列\n",
    "    1. 利用函式直接產生新的個體 ($\\color{orange}{暫時不推薦}$)\n",
    "    2. 如上面解釋過的，針對串列中的每一個元素都進行複製"
   ]
  },
  {
   "cell_type": "code",
   "execution_count": null,
   "metadata": {
    "slideshow": {
     "slide_type": "subslide"
    }
   },
   "outputs": [],
   "source": [
    "# 使用 list() 產生新個體\n",
    "x = ['a', 'b', 'c']\n",
    "y = list(x)\n",
    "y[1] = 'z'\n",
    "print(y)\n",
    "print(x)"
   ]
  },
  {
   "cell_type": "code",
   "execution_count": null,
   "metadata": {
    "slideshow": {
     "slide_type": "subslide"
    }
   },
   "outputs": [],
   "source": [
    "# 每個元素逐一複製\n",
    "x = ['a', 'b', 'c']\n",
    "y = x[:]\n",
    "y[1] = 'z'\n",
    "print(y)\n",
    "print(x)"
   ]
  },
  {
   "cell_type": "markdown",
   "metadata": {
    "slideshow": {
     "slide_type": "subslide"
    }
   },
   "source": [
    "![Name of List](lec03_04.jpg)"
   ]
  },
  {
   "cell_type": "markdown",
   "metadata": {
    "slideshow": {
     "slide_type": "subslide"
    }
   },
   "source": [
    "![Name of List](lec03_05.jpg)"
   ]
  },
  {
   "cell_type": "markdown",
   "metadata": {
    "slideshow": {
     "slide_type": "subslide"
    }
   },
   "source": [
    "### 流程控制：決定在某(些)情況下，是否要做某(些)事\n",
    "<br>\n",
    "\n",
    "#### 只有一個執行選項的情況\n",
    "* $\\rm\\color{orange}{如果發生\\space A，就做\\space X}$\n",
    "    * 「如果 A 這件事是真的，請執行以下的事 (X)」\n",
    "    * 也就是說，如果 A 不為真，就不會執行 X\n",
    "    * 因此，後半句話的位階比前半句要低一些\n",
    "    * Python 的語法結構中使用$\\rm\\color{orange}{縮排}$ (indentation) 來代表位階上的關係\n",
    "        * 即便上下邏輯和單一語句上沒有問題，只要在該縮排的時候沒縮，就是一種語法錯誤\n",
    "        * $\\rm\\color{orange}{使用\\space tab\\space 鍵來縮排，不要按\\space 4\\space 下空白鍵!}$"
   ]
  },
  {
   "cell_type": "markdown",
   "metadata": {
    "slideshow": {
     "slide_type": "subslide"
    }
   },
   "source": [
    "![if_logic](lec03_06.jpg)"
   ]
  },
  {
   "cell_type": "code",
   "execution_count": null,
   "metadata": {
    "slideshow": {
     "slide_type": "subslide"
    }
   },
   "outputs": [],
   "source": [
    "# 注意冒號和縮排\n",
    "if x > 0:\n",
    "    print('x is positive')"
   ]
  },
  {
   "cell_type": "markdown",
   "metadata": {
    "slideshow": {
     "slide_type": "fragment"
    }
   },
   "source": [
    "* if 的後面要接一個條件判斷，然後是一個$\\rm\\color{orange}{冒號}$\n",
    "* 如果 Python 判斷這件事為真，那麼就會執行縮排裡面我們要求它做的事\n",
    "* 若為假，則會跳過所有縮排內容，什麼事情都不會發生"
   ]
  },
  {
   "cell_type": "markdown",
   "metadata": {
    "slideshow": {
     "slide_type": "subslide"
    }
   },
   "source": [
    "#### 有兩個執行選項的情況\n",
    "<br>\n",
    "\n",
    "* $\\rm\\color{orange}{如果發生\\space A，就做\\space X；否則就做\\space Y}$\n",
    "* 「如果某數可以被 2 整除，它就是偶數；否則它是奇數」"
   ]
  },
  {
   "cell_type": "markdown",
   "metadata": {
    "slideshow": {
     "slide_type": "subslide"
    }
   },
   "source": [
    "![if-else_logic](lec03_07.jpg)"
   ]
  },
  {
   "cell_type": "code",
   "execution_count": null,
   "metadata": {
    "slideshow": {
     "slide_type": "subslide"
    }
   },
   "outputs": [],
   "source": [
    "if x % 2 == 0:\n",
    "    print('x is even')\n",
    "else:\n",
    "    print('x is odd')"
   ]
  },
  {
   "cell_type": "markdown",
   "metadata": {
    "slideshow": {
     "slide_type": "subslide"
    }
   },
   "source": [
    "#### 有三個以上執行選項的情況\n",
    "<br>\n",
    "\n",
    "![if-elif-else_logic](lec03_08.jpg)"
   ]
  },
  {
   "cell_type": "markdown",
   "metadata": {
    "slideshow": {
     "slide_type": "subslide"
    }
   },
   "source": [
    "#### Python 中的 if 結構需要注意的地方\n",
    "1. 開頭只能是 $\\rm{if}$，而且$\\rm\\color{orange}{整個結構只能有一個}$ $\\rm{if}$\n",
    "2. $\\rm{elif}$ 沒有使用數量上的限制，不一定要有\n",
    "3. $\\rm{else}$ 不一定要有，但如果用了只能放結尾，而且$\\rm\\color{orange}{整個結構只能有一個}$ $\\rm{else}$\n",
    "    * 注意 $\\rm{else}$ 後面不可再接任何判斷式\n",
    "4. 綜上所述，什麼樣的結構是合法的?\n",
    "    * 只有 $\\rm{if}$，其他什麼都沒有\n",
    "    * $\\rm{if\\space+}$ 一個以上的 $\\rm{elif}$，最後沒有 $\\rm{else}$\n",
    "    * $\\rm{if\\space+}$ 一個以上的 $\\rm{elif\\space+\\space else}$\n",
    "    * $\\rm{if\\space+\\space else}$，中間沒有 $\\rm{elif}$\n",
    "<br>\n",
    "\n",
    "#### elif 和 else 的差別\n",
    "* elif 表示「如果以上所有判斷結果都為假，而現在這個為真的話，就執行這個縮排裡的事」\n",
    "* else 表示「如果以上所有判斷結果都為假，就執行這個縮排裡的事」\n",
    "    * 使用 else 時，特別注意我們是否已經把$\\rm\\color{orange}{所有可能情況}$都考慮進去了"
   ]
  },
  {
   "cell_type": "code",
   "execution_count": null,
   "metadata": {
    "slideshow": {
     "slide_type": "subslide"
    }
   },
   "outputs": [],
   "source": [
    "gpa = 2.7\n",
    "\n",
    "if gpa >= 3.5:\n",
    "    print('great')\n",
    "# 大於等於 3.0，但小於 3.5\n",
    "    print('good')\n",
    "# 大於等於 2.5，但小於 3.0\n",
    "    print('okay')\n",
    "# 小於2.5的其他所有情況都包含在內\n",
    "#     print('soso')"
   ]
  },
  {
   "cell_type": "markdown",
   "metadata": {
    "slideshow": {
     "slide_type": "subslide"
    }
   },
   "source": [
    "#### 巢狀結構\n",
    "<br>\n",
    "\n",
    "* 就是 if、elif 或 else 所包含的縮排裡面，又接連使用 if 或 elif\n",
    "* 有時候可能會造成可讀性降低"
   ]
  },
  {
   "cell_type": "markdown",
   "metadata": {
    "slideshow": {
     "slide_type": "fragment"
    }
   },
   "source": [
    "![nested-if_logic](lec03_09.jpg)"
   ]
  },
  {
   "cell_type": "code",
   "execution_count": null,
   "metadata": {
    "slideshow": {
     "slide_type": "subslide"
    }
   },
   "outputs": [],
   "source": [
    "if x == y:\n",
    "    print('x and y are equal')\n",
    "else:\n",
    "    if x < y:\n",
    "        print('x is less than y')\n",
    "    else:\n",
    "        print('x is greater than y')"
   ]
  },
  {
   "cell_type": "markdown",
   "metadata": {},
   "source": [
    "### and、or 和 in 在流程控制中的作用\n",
    "<br>\n",
    "\n",
    "* $\\rm{and}$ 表示「$\\rm\\color{orange}{且}$」：所連接的條件都必須為真，結果方為真\n",
    "* $\\rm{or}$ 表示「$\\rm\\color{orange}{或}$」：所連接的條件只要有一者為真，結果即為真\n",
    "* $\\rm{in}$ 用來確認前者是否$\\rm\\color{orange}{包含於}$後者\n",
    "* 當 $\\rm{if}$ 結構的判斷式只有一個變數，代表什麼意思?\n",
    "    * 首先，$\\rm{if}$ 後面必然是接一個條件判斷，這是它的定義\n",
    "    * 也就是說，我們要去判斷這個變數是真是假\n",
    "    * 準則是什麼?"
   ]
  },
  {
   "cell_type": "code",
   "execution_count": null,
   "metadata": {},
   "outputs": [],
   "source": [
    "x = 0\n",
    "y = 5\n",
    "\n",
    "if x:\n",
    "    print('yes')\n",
    "\n",
    "# if y:\n",
    "#     print('yes')\n",
    "\n",
    "# if x or y:\n",
    "#     print('yes')\n",
    "\n",
    "# if x and y:\n",
    "#     print('yes')\n",
    "\n",
    "# if 'end' in 'friend':\n",
    "#     print('yes')\n",
    "\n",
    "# if 'engineering' in ['FCU', 2022, 'IESM']:\n",
    "#     print('yes')"
   ]
  },
  {
   "cell_type": "code",
   "execution_count": null,
   "metadata": {},
   "outputs": [],
   "source": []
  }
 ],
 "metadata": {
  "kernelspec": {
   "display_name": "Python 3 (ipykernel)",
   "language": "python",
   "name": "python3"
  },
  "language_info": {
   "codemirror_mode": {
    "name": "ipython",
    "version": 3
   },
   "file_extension": ".py",
   "mimetype": "text/x-python",
   "name": "python",
   "nbconvert_exporter": "python",
   "pygments_lexer": "ipython3",
   "version": "3.9.12"
  },
  "toc": {
   "base_numbering": 1,
   "nav_menu": {},
   "number_sections": true,
   "sideBar": true,
   "skip_h1_title": false,
   "title_cell": "Table of Contents",
   "title_sidebar": "Contents",
   "toc_cell": false,
   "toc_position": {},
   "toc_section_display": true,
   "toc_window_display": false
  },
  "varInspector": {
   "cols": {
    "lenName": 16,
    "lenType": 16,
    "lenVar": 40
   },
   "kernels_config": {
    "python": {
     "delete_cmd_postfix": "",
     "delete_cmd_prefix": "del ",
     "library": "var_list.py",
     "varRefreshCmd": "print(var_dic_list())"
    },
    "r": {
     "delete_cmd_postfix": ") ",
     "delete_cmd_prefix": "rm(",
     "library": "var_list.r",
     "varRefreshCmd": "cat(var_dic_list()) "
    }
   },
   "types_to_exclude": [
    "module",
    "function",
    "builtin_function_or_method",
    "instance",
    "_Feature"
   ],
   "window_display": false
  }
 },
 "nbformat": 4,
 "nbformat_minor": 2
}
