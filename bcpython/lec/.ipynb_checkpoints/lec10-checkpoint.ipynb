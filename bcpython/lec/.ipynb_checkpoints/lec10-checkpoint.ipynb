{
 "cells": [
  {
   "cell_type": "markdown",
   "id": "9ae514ab",
   "metadata": {
    "slideshow": {
     "slide_type": "subslide"
    }
   },
   "source": [
    "### 檔案的寫入\n",
    "<br>\n",
    "  \n",
    "* 根據題目要求決定所需要的資料 $\\Longrightarrow$ 合併成一行 $\\Longrightarrow$ 加上分行符號 $\\Longrightarrow$ 一行一行寫入\n",
    "* 假設我們想把下面串列中的每個數都除以 $\\rm{3.14}$ 之後，寫入一個叫 $\\rm{num.txt}$ 的檔案\n",
    "  \n",
    "        t = [21, 12, 72, 55, 20, 53, 26, 45, 1, 36]\n",
    "  \n",
    "* 要求的檔案內容格式為\n",
    "  \n",
    "        Round 1: xxx  \n",
    "        Round 2: xxx  \n",
    "        ...\n",
    "  \n",
    "* 可先回想 $\\rm{print()}$ 輸出於螢幕上的寫法，再做適當更動"
   ]
  },
  {
   "cell_type": "code",
   "execution_count": 1,
   "id": "9cffae9d",
   "metadata": {
    "ExecuteTime": {
     "end_time": "2022-06-07T05:33:22.384420Z",
     "start_time": "2022-06-07T05:33:22.376443Z"
    },
    "slideshow": {
     "slide_type": "fragment"
    }
   },
   "outputs": [],
   "source": [
    "t = [21, 12, 72, 55, 20, 53, 26, 45, 1, 36]\n",
    "with open('num.txt', 'w') as file:\n",
    "    for i in range(len(t)):\n",
    "        file.write('Round ' + str(i+1) + ': ' + str(t[i]/3.14) + '\\n')"
   ]
  },
  {
   "cell_type": "markdown",
   "id": "2779bea2",
   "metadata": {
    "slideshow": {
     "slide_type": "subslide"
    }
   },
   "source": [
    "* 建立一個含有 $\\rm{25}$ 個介於 $\\rm{1\\sim1000}$ 之間的亂數的串列。然後，把串列中的五個元素為一列，逐列寫入一個叫 $\\rm{rnd\\_num.txt}$ 的檔案中"
   ]
  },
  {
   "cell_type": "code",
   "execution_count": 4,
   "id": "895f8af9",
   "metadata": {
    "ExecuteTime": {
     "end_time": "2022-06-07T05:43:10.676641Z",
     "start_time": "2022-06-07T05:43:10.658684Z"
    },
    "slideshow": {
     "slide_type": "fragment"
    }
   },
   "outputs": [],
   "source": [
    "import random\n",
    "\n",
    "t = random.choices(range(1, 1001), k=25)\n",
    "s = ''\n",
    "count = 0\n",
    "with open('rnd_num.txt', 'w') as file:\n",
    "    for num in t:\n",
    "        s += str(num) + ' '\n",
    "        count += 1\n",
    "        if count % 5 == 0:\n",
    "            file.write(s + '\\n')\n",
    "            s = ''"
   ]
  },
  {
   "cell_type": "markdown",
   "id": "0355d993",
   "metadata": {
    "slideshow": {
     "slide_type": "subslide"
    }
   },
   "source": [
    "### 觀察檔案\n",
    "<br>\n",
    "  \n",
    "* 並非所有資料檔都以空格隔開；用文字編輯器打開檔案觀察，是動手寫程式之前一定要做的事\n",
    "* $\\rm{names.txt}$ 是某種典型的資料檔格式，假設我們現在想要輸出所有人的 $\\rm{email}$\n",
    "* 第一列我們稱為標頭 $\\rm{(header)}$ 列，用來告訴我們每一欄所儲存的資料所代表的意義\n",
    "* 輸出的時候不想要標頭列，該怎麼做？"
   ]
  },
  {
   "cell_type": "code",
   "execution_count": 7,
   "id": "ba984e1a",
   "metadata": {
    "ExecuteTime": {
     "end_time": "2022-06-07T05:53:37.702315Z",
     "start_time": "2022-06-07T05:53:37.690384Z"
    },
    "slideshow": {
     "slide_type": "fragment"
    }
   },
   "outputs": [
    {
     "name": "stdout",
     "output_type": "stream",
     "text": [
      "maryjacobs@bogusemail.com\n",
      "davesmith@bogusemail.com\n",
      "janestuart@bogusemail.com\n",
      "tomwright@bogusemail.com\n",
      "steverobinson@bogusemail.com\n",
      "nicolejacobs@bogusemail.com\n",
      "janewright@bogusemail.com\n",
      "janedoe@bogusemail.com\n",
      "kurtwright@bogusemail.com\n",
      "kurtrobinson@bogusemail.com\n",
      "janejenkins@bogusemail.com\n",
      "neilrobinson@bogusemail.com\n",
      "tompatterson@bogusemail.com\n",
      "samjenkins@bogusemail.com\n",
      "stevestuart@bogusemail.com\n",
      "maggiepatterson@bogusemail.com\n",
      "maggiestuart@bogusemail.com\n",
      "janedoe@bogusemail.com\n",
      "stevepatterson@bogusemail.com\n",
      "davesmith@bogusemail.com\n",
      "samwilks@bogusemail.com\n",
      "kurtjefferson@bogusemail.com\n",
      "samstuart@bogusemail.com\n",
      "janestuart@bogusemail.com\n",
      "davedavis@bogusemail.com\n",
      "sampatterson@bogusemail.com\n",
      "tomjefferson@bogusemail.com\n",
      "janestuart@bogusemail.com\n",
      "maggiejefferson@bogusemail.com\n",
      "marywilks@bogusemail.com\n",
      "neilpatterson@bogusemail.com\n",
      "coreydavis@bogusemail.com\n",
      "stevejacobs@bogusemail.com\n",
      "janejenkins@bogusemail.com\n",
      "johnjacobs@bogusemail.com\n",
      "neilsmith@bogusemail.com\n",
      "coreywilks@bogusemail.com\n",
      "coreysmith@bogusemail.com\n",
      "marypatterson@bogusemail.com\n",
      "janestuart@bogusemail.com\n",
      "travisarnold@bogusemail.com\n",
      "johnrobinson@bogusemail.com\n",
      "travisarnold@bogusemail.com\n"
     ]
    }
   ],
   "source": [
    "with open('names.txt', 'r') as file:\n",
    "    next(file)\n",
    "    for line in file:\n",
    "        data = line.strip().split(',')\n",
    "        print(data[2])"
   ]
  },
  {
   "cell_type": "markdown",
   "id": "297157ba",
   "metadata": {
    "slideshow": {
     "slide_type": "subslide"
    }
   },
   "source": [
    "* 輸出所有姓 $\\rm{Patterson}$ 的人名 (不含逗號) 和他們的 $\\rm{email}$\n",
    "* 輸出所有名字以 $\\rm{M}$ 為開頭的人"
   ]
  },
  {
   "cell_type": "code",
   "execution_count": 9,
   "id": "a571f4b1",
   "metadata": {
    "ExecuteTime": {
     "end_time": "2022-06-07T06:24:43.045645Z",
     "start_time": "2022-06-07T06:24:43.038722Z"
    },
    "slideshow": {
     "slide_type": "fragment"
    }
   },
   "outputs": [
    {
     "name": "stdout",
     "output_type": "stream",
     "text": [
      "Mary Smith-Robinson\n",
      "Maggie Patterson\n",
      "Maggie Stuart\n",
      "Maggie Jefferson\n",
      "Mary Wilks\n",
      "Mary Patterson\n"
     ]
    }
   ],
   "source": [
    "# with open('names.txt', 'r') as file:\n",
    "#     for line in file:\n",
    "#         data = line.strip().split(',')\n",
    "#         if data[1] == 'Patterson':\n",
    "#             print(f'{data[0]} {data[1]} {data[2]}')\n",
    "\n",
    "with open('names.txt', 'r') as file:\n",
    "    for line in file:\n",
    "        data = line.strip().split(',')\n",
    "        if data[0][0] == 'M':\n",
    "            print(f'{data[0]} {data[1]}')"
   ]
  },
  {
   "cell_type": "markdown",
   "id": "b537427b",
   "metadata": {
    "slideshow": {
     "slide_type": "subslide"
    }
   },
   "source": [
    "### 逗號分隔值 (Comma-separated Values, CSV)\n",
    "<br>\n",
    "  \n",
    "* 如果整份檔案中，同列資料的不同欄位均以逗號分開，它就符合了 $\\rm{CSV}$ 的格式規範\n",
    "* $\\rm{CSV}$ 是一種標準化的資料格式；幾乎所有的資料庫和程式語言都支援它的操作\n",
    "* 其最大的優勢在於，它同時是電子試算表 (也就是 $\\rm{excel}$ 檔案) 的通用格式\n",
    "* 我們可以讓符合 $\\rm{CSV}$ 規範的純文字檔，透過更改副檔名的方式直接以 $\\rm{excel}$ 開啟"
   ]
  },
  {
   "cell_type": "markdown",
   "id": "af84f4cc",
   "metadata": {
    "slideshow": {
     "slide_type": "subslide"
    }
   },
   "source": [
    "* $\\rm{CA.txt}$ 是 $\\rm{1910-2020}$ 年間，加州男女新生兒姓名的統計資料\n",
    "* 該怎麼找出 $\\rm{2004}$ 年最熱門的男女孩名字?"
   ]
  },
  {
   "cell_type": "code",
   "execution_count": 10,
   "id": "77173a33",
   "metadata": {
    "ExecuteTime": {
     "end_time": "2022-06-07T06:44:35.225329Z",
     "start_time": "2022-06-07T06:44:34.943441Z"
    },
    "slideshow": {
     "slide_type": "fragment"
    }
   },
   "outputs": [
    {
     "name": "stdout",
     "output_type": "stream",
     "text": [
      "Emily 3416\n",
      "Daniel 4170\n"
     ]
    }
   ],
   "source": [
    "flag_f = 0\n",
    "flag_m = 0\n",
    "with open('CA.txt', 'r') as file:\n",
    "    for line in file:\n",
    "        data = line.strip().split(',')\n",
    "        if data[2] == '2004':\n",
    "            if data[1] == 'F' and flag_f != 1:\n",
    "                print(f'{data[3]} {data[4]}')\n",
    "                flag_f = 1\n",
    "            if data[1] == 'M' and flag_m != 1:\n",
    "                print(f'{data[3]} {data[4]}')\n",
    "                flag_m = 1"
   ]
  },
  {
   "cell_type": "markdown",
   "id": "ca7e3efd",
   "metadata": {
    "slideshow": {
     "slide_type": "subslide"
    }
   },
   "source": [
    "找出 $\\rm{2002}$ 年在加州出生的男孩中第 $\\color{orange}3$ 熱門的名字，並求出  \n",
    "<br>\n",
    "* 該名字佔當年出生男孩的比例\n",
    "* 該名字佔當年所有新生兒的比例\n",
    "  \n",
    "<br>\n",
    "為了求得比例，我們將會需要那些數據？"
   ]
  },
  {
   "cell_type": "code",
   "execution_count": 11,
   "id": "7fff7ba3",
   "metadata": {
    "ExecuteTime": {
     "end_time": "2022-06-07T06:56:47.624348Z",
     "start_time": "2022-06-07T06:56:47.329216Z"
    },
    "slideshow": {
     "slide_type": "fragment"
    }
   },
   "outputs": [
    {
     "name": "stdout",
     "output_type": "stream",
     "text": [
      "Andrew 0.014513930271095403 0.007603245705000054\n"
     ]
    }
   ],
   "source": [
    "male_name = []\n",
    "male_num = []\n",
    "total_num = []\n",
    "with open('CA.txt', 'r') as file:\n",
    "    for line in file:\n",
    "        data = line.strip().split(',')\n",
    "        if data[2] == '2002':\n",
    "            total_num.append(int(data[4]))\n",
    "            if data[1] == 'M':\n",
    "                male_name.append(data[3])\n",
    "                male_num.append(int(data[4]))\n",
    "    print(f'{male_name[2]} {male_num[2]/sum(male_num)} {male_num[2]/sum(total_num)}')"
   ]
  },
  {
   "cell_type": "markdown",
   "id": "63804cb9",
   "metadata": {
    "slideshow": {
     "slide_type": "subslide"
    }
   },
   "source": [
    "### $\\rm{pandas}$ 的基礎\n",
    "<br>\n",
    "  \n",
    "* $\\rm{pandas}$ 是專門用來處理、分析資料的 $\\rm{Python}$ 套件\n",
    "* 我們直接進入實際應用，因此暫時略過一些重要的先備知識\n",
    "    * $\\rm\\color{orange}{NumPy}$ 套件\n",
    "    * $\\rm\\color{orange}{pandas}$ 套件下的 $\\rm\\color{orange}{Series}$ 物件格式與其操作\n",
    "* 若往後對資料分析有興趣而想要自修，建議先對上述套件與模組有一定的熟悉度"
   ]
  },
  {
   "cell_type": "markdown",
   "id": "0b71a1cd",
   "metadata": {
    "slideshow": {
     "slide_type": "subslide"
    }
   },
   "source": [
    "#### 使用 $\\rm{pandas}$ 套件\n",
    "<br>\n",
    "  \n",
    "* $\\rm{pandas}$ 套件已內含在 $\\rm{Anaonda}$ 中，使用時不需額外安裝\n",
    "* 使用時和隨機模組相同，需要先使用 $\\rm\\color{orange}{import}$ 指令匯入\n",
    "  \n",
    "        import pandas as pd\n",
    "  \n",
    "* $\\rm{import}$ ... $\\rm{as}$ ... 的語法和開啟檔案類似，上述語句的意思是在程式中提到 $\\rm{pandas}$ 時，都以 $\\rm{pd}$ 作為別名\n",
    "* 注意，不同於開啟檔案時可以隨意指定別名，套件的別名都是約定俗成的用法，不可隨意更動"
   ]
  },
  {
   "cell_type": "markdown",
   "id": "1450ab8a",
   "metadata": {
    "slideshow": {
     "slide_type": "subslide"
    }
   },
   "source": [
    "#### 讀取 $\\rm{CSV}$ 檔\n",
    "<br>\n",
    "  \n",
    "* 這邊我們讀取 $\\rm{fruits.csv}$ 來做示範\n",
    "  \n",
    "        df = pd.read_csv('fruits.csv')\n",
    "  \n",
    "* $\\rm\\color{orange}{read\\_csv()}$ 是 $\\rm{pandas}$ 中用於讀取 $\\rm{csv}$ 檔等純文字格式的函式。把欲讀取的檔案放在同一個目錄下，完整檔名以字串置於小括號內即可\n",
    "* 以 $\\rm\\color{orange}{read\\_csv()}$ 讀取完的檔案，會被轉換成 pandas 下的 $\\rm\\color{orange}{DataFrame}$ 格式，因此在這邊我們把讀取完後的檔案命名為 $\\rm{df}$"
   ]
  },
  {
   "cell_type": "code",
   "execution_count": 14,
   "id": "fb927752",
   "metadata": {
    "ExecuteTime": {
     "end_time": "2022-06-07T07:23:34.489049Z",
     "start_time": "2022-06-07T07:23:34.473131Z"
    },
    "scrolled": true,
    "slideshow": {
     "slide_type": "subslide"
    }
   },
   "outputs": [
    {
     "name": "stdout",
     "output_type": "stream",
     "text": [
      "       fruits  year  time\n",
      "0       apple  2001     1\n",
      "1      orange  2002     4\n",
      "2      banana  2001     3\n",
      "3  strawberry  2008     6\n",
      "4        kiwi  2006     3\n"
     ]
    }
   ],
   "source": [
    "import pandas as pd\n",
    "\n",
    "df = pd.read_csv('fruits.csv')\n",
    "print(df)"
   ]
  },
  {
   "cell_type": "markdown",
   "id": "e9b4c496",
   "metadata": {
    "slideshow": {
     "slide_type": "subslide"
    }
   },
   "source": [
    "#### 索引值與欄位名稱\n",
    "<br>\n",
    "  \n",
    "* 這就是一個典型 $\\rm{DataFrame}$ 輸出的結果\n",
    "* $\\rm{pandas}$ 會幫 $\\rm{DataFrame}$ 自動加上從 $\\rm{0}$ 開始的索引值 ($\\rm\\color{orange}{index}$) 編號\n",
    "* 上方的 $\\rm{fruits}$、$\\rm{year}$ 和 $\\rm{time}$ 則為欄位 ($\\rm\\color{orange}{columns}$) 名稱\n",
    "* 索引值和欄位名稱都可以使用以下的語法來修改\n",
    "  \n",
    "        DataFrame名稱.index = [索引值1, 索引值2, ...]\n",
    "        DataFrame名稱.columns = [欄位名1, 欄位名2, ...]\n",
    "  "
   ]
  },
  {
   "cell_type": "code",
   "execution_count": 15,
   "id": "83441d85",
   "metadata": {
    "ExecuteTime": {
     "end_time": "2022-06-07T07:25:06.676632Z",
     "start_time": "2022-06-07T07:25:06.654673Z"
    },
    "slideshow": {
     "slide_type": "subslide"
    }
   },
   "outputs": [
    {
     "name": "stdout",
     "output_type": "stream",
     "text": [
      "       fruits  year  time\n",
      "1       apple  2001     1\n",
      "2      orange  2002     4\n",
      "3      banana  2001     3\n",
      "4  strawberry  2008     6\n",
      "5        kiwi  2006     3\n",
      "\n",
      "       fruits  year  time\n",
      "C       apple  2001     1\n",
      "D      orange  2002     4\n",
      "E      banana  2001     3\n",
      "F  strawberry  2008     6\n",
      "G        kiwi  2006     3\n"
     ]
    }
   ],
   "source": [
    "# 索引值可更改為數字或文字，但必須置於串列中\n",
    "df.index = [1, 2, 3, 4, 5] # 直接以賦值方式更改索引值\n",
    "print(df)\n",
    "print()\n",
    "idx = ['C', 'D', 'E', 'F', 'G'] # 也可以先建立串列再賦值\n",
    "df.index = idx\n",
    "print(df)"
   ]
  },
  {
   "cell_type": "code",
   "execution_count": 16,
   "id": "1d2a940d",
   "metadata": {
    "ExecuteTime": {
     "end_time": "2022-06-07T07:27:18.531242Z",
     "start_time": "2022-06-07T07:27:18.523264Z"
    },
    "slideshow": {
     "slide_type": "subslide"
    }
   },
   "outputs": [
    {
     "name": "stdout",
     "output_type": "stream",
     "text": [
      "           FR    YR  TM\n",
      "C       apple  2001   1\n",
      "D      orange  2002   4\n",
      "E      banana  2001   3\n",
      "F  strawberry  2008   6\n",
      "G        kiwi  2006   3\n"
     ]
    }
   ],
   "source": [
    "# 欄位名稱可以用相同方式做修改\n",
    "df.columns = ['FR', 'YR', 'TM']\n",
    "print(df)"
   ]
  },
  {
   "cell_type": "markdown",
   "id": "89f4b462",
   "metadata": {
    "slideshow": {
     "slide_type": "subslide"
    }
   },
   "source": [
    "#### 加入新的欄位\n",
    "<br>\n",
    "  \n",
    "* 新增欄位十分容易，只需要套用下列語法\n",
    "  \n",
    "        DataFrame名稱[新欄位名稱] = [第0列內容, 第1列內容, 第2列內容, ...]\n",
    "  \n",
    "* 操作上十分類似 $\\rm{Excel}$ 的電子試算表 ($\\rm{spreadsheet}$) 格式"
   ]
  },
  {
   "cell_type": "code",
   "execution_count": 17,
   "id": "ae34b9df",
   "metadata": {
    "ExecuteTime": {
     "end_time": "2022-06-07T07:28:54.149410Z",
     "start_time": "2022-06-07T07:28:54.121485Z"
    },
    "slideshow": {
     "slide_type": "subslide"
    }
   },
   "outputs": [
    {
     "name": "stdout",
     "output_type": "stream",
     "text": [
      "       fruits  year  time\n",
      "0       apple  2001     1\n",
      "1      orange  2002     4\n",
      "2      banana  2001     3\n",
      "3  strawberry  2008     6\n",
      "4        kiwi  2006     3\n",
      "\n",
      "       fruits  year  time  price\n",
      "0       apple  2001     1    150\n",
      "1      orange  2002     4    120\n",
      "2      banana  2001     3    100\n",
      "3  strawberry  2008     6    300\n",
      "4        kiwi  2006     3    150\n"
     ]
    }
   ],
   "source": [
    "df = pd.read_csv('fruits.csv')\n",
    "print(df)\n",
    "print()\n",
    "df['price'] = [150, 120, 100, 300, 150] # 新增 price 欄位\n",
    "print(df)"
   ]
  },
  {
   "cell_type": "markdown",
   "id": "89254db3",
   "metadata": {
    "slideshow": {
     "slide_type": "subslide"
    }
   },
   "source": [
    "#### 取出 $\\rm{DataFrame}$ 當中的元素\n",
    "<br>\n",
    "  \n",
    "* 可以使用以下兩種語法來取出指定範圍的內容\n",
    "  \n",
    "        DataFrame名稱.loc[索引名稱的串列, 欄位名稱的串列]\n",
    "        DataFrame名稱.iloc[索引編號的串列, 欄位編號的串列]\n",
    "  \n",
    "* 兩者都是先指定列 ($\\rm{row}$) 再指定欄 ($\\rm{column}$)，然後取出交集部分的資料"
   ]
  },
  {
   "cell_type": "code",
   "execution_count": 18,
   "id": "2e704951",
   "metadata": {
    "ExecuteTime": {
     "end_time": "2022-06-07T07:30:22.019599Z",
     "start_time": "2022-06-07T07:30:21.995663Z"
    },
    "slideshow": {
     "slide_type": "subslide"
    }
   },
   "outputs": [
    {
     "name": "stdout",
     "output_type": "stream",
     "text": [
      "       fruits  year  time  price\n",
      "0       apple  2001     1    150\n",
      "1      orange  2002     4    120\n",
      "2      banana  2001     3    100\n",
      "3  strawberry  2008     6    300\n",
      "4        kiwi  2006     3    150\n",
      "\n",
      "   year  time\n",
      "1  2002     4\n",
      "2  2001     3\n"
     ]
    }
   ],
   "source": [
    "# 使用 loc 選取資料\n",
    "print(df)\n",
    "print()\n",
    "df1 = df.loc[[1, 2], ['year', 'time']] # 把選取完的結果放到 df1 裡，注意是雙層串列\n",
    "print(df1)"
   ]
  },
  {
   "cell_type": "code",
   "execution_count": 19,
   "id": "f39b82fd",
   "metadata": {
    "ExecuteTime": {
     "end_time": "2022-06-07T07:32:37.461003Z",
     "start_time": "2022-06-07T07:32:37.441060Z"
    },
    "slideshow": {
     "slide_type": "subslide"
    }
   },
   "outputs": [
    {
     "name": "stdout",
     "output_type": "stream",
     "text": [
      "       fruits  year  time  price\n",
      "C       apple  2001     1    150\n",
      "D      orange  2002     4    120\n",
      "E      banana  2001     3    100\n",
      "F  strawberry  2008     6    300\n",
      "G        kiwi  2006     3    150\n",
      "\n",
      "       fruits  time\n",
      "E      banana     3\n",
      "F  strawberry     6\n"
     ]
    }
   ],
   "source": [
    "# 使用 iloc 選取資料\n",
    "df.index = ['C', 'D', 'E', 'F', 'G']\n",
    "print(df)\n",
    "print()\n",
    "df2 = df.iloc[[2, 3], [0, 2]] # 把選取完的結果放到 df2 裡，注意是雙層串列\n",
    "print(df2)"
   ]
  },
  {
   "cell_type": "markdown",
   "id": "fdba964b",
   "metadata": {
    "slideshow": {
     "slide_type": "subslide"
    }
   },
   "source": [
    "#### 刪除 $\\rm{DataFrame}$ 的列或行\n",
    "<br>\n",
    "  \n",
    "* 可以使用以下語法來刪除指定的列或行，但須注意「$\\color{orange}{軸}$ ($\\rm\\color{orange}{axis}$)」的方向\n",
    "  \n",
    "        DataFrame名稱.drop(索引名稱, axis=0)\n",
    "        DataFrame名稱.drop(欄位名稱, axis=1)\n",
    "  \n",
    "* 關於軸向，$\\rm\\color{orange}{axis=0}$ 代表由上往下，$\\rm\\color{orange}{axis=1}$ 則代表由左至右"
   ]
  },
  {
   "cell_type": "code",
   "execution_count": 22,
   "id": "c306727e",
   "metadata": {
    "ExecuteTime": {
     "end_time": "2022-06-07T07:47:22.424808Z",
     "start_time": "2022-06-07T07:47:22.394888Z"
    },
    "slideshow": {
     "slide_type": "subslide"
    }
   },
   "outputs": [
    {
     "name": "stdout",
     "output_type": "stream",
     "text": [
      "       fruits  year  time\n",
      "0       apple  2001     1\n",
      "1      orange  2002     4\n",
      "2      banana  2001     3\n",
      "3  strawberry  2008     6\n",
      "4        kiwi  2006     3\n",
      "\n",
      "       fruits  year  time\n",
      "0       apple  2001     1\n",
      "1      orange  2002     4\n",
      "3  strawberry  2008     6\n",
      "4        kiwi  2006     3\n",
      "\n",
      "       fruits  time\n",
      "0       apple     1\n",
      "1      orange     4\n",
      "2      banana     3\n",
      "3  strawberry     6\n",
      "4        kiwi     3\n"
     ]
    }
   ],
   "source": [
    "df = pd.read_csv('fruits.csv')\n",
    "print(df)\n",
    "print()\n",
    "df1 = df.drop(2, axis=0)\n",
    "print(df1)\n",
    "print()\n",
    "df2 = df.drop(['year'], axis=1)\n",
    "print(df2)"
   ]
  },
  {
   "cell_type": "markdown",
   "id": "427f524a",
   "metadata": {
    "slideshow": {
     "slide_type": "subslide"
    }
   },
   "source": [
    "* 練習將 $\\rm{fruits2.csv}$ 匯入成 DataFrame，刪除偶數列後，再將「strawberry」欄位刪除"
   ]
  },
  {
   "cell_type": "code",
   "execution_count": 21,
   "id": "eaee4f2f",
   "metadata": {
    "ExecuteTime": {
     "end_time": "2022-06-07T07:45:02.629781Z",
     "start_time": "2022-06-07T07:45:02.609870Z"
    },
    "slideshow": {
     "slide_type": "subslide"
    }
   },
   "outputs": [
    {
     "name": "stdout",
     "output_type": "stream",
     "text": [
      "   apple  orange  banana  strawberry  kiwi\n",
      "0      2      10       7           5     8\n",
      "1      4       7       2           2     2\n",
      "2      6       3       8           6    10\n",
      "3      2       2      10          10     3\n",
      "4      3       7       4           7     1\n",
      "5      5      10       7           5     1\n",
      "6      7       8      10           1     9\n",
      "7      8       4       4           2     1\n",
      "8      9       7       2          10     8\n",
      "9      1       9      10           9     5\n",
      "\n",
      "   apple  orange  banana  strawberry  kiwi\n",
      "1      4       7       2           2     2\n",
      "3      2       2      10          10     3\n",
      "5      5      10       7           5     1\n",
      "7      8       4       4           2     1\n",
      "9      1       9      10           9     5\n",
      "\n",
      "   apple  orange  banana  kiwi\n",
      "1      4       7       2     2\n",
      "3      2       2      10     3\n",
      "5      5      10       7     1\n",
      "7      8       4       4     1\n",
      "9      1       9      10     5\n"
     ]
    }
   ],
   "source": [
    "import pandas as pd\n",
    "\n",
    "df = pd.read_csv('fruits2.csv')\n",
    "print(df)\n",
    "print()\n",
    "df1 = df.drop([0, 2, 4, 6, 8], axis=0)\n",
    "print(df1)\n",
    "print()\n",
    "df2 = df1.drop(['strawberry'], axis=1) # 不要忘記中括號\n",
    "print(df2)"
   ]
  },
  {
   "cell_type": "markdown",
   "id": "060d7870",
   "metadata": {
    "slideshow": {
     "slide_type": "subslide"
    }
   },
   "source": [
    "#### 將欄位值依大小排序\n",
    "<br>\n",
    "  \n",
    "* 想針對某欄位的值來做排序，可以套用以下語法\n",
    "  \n",
    "        DataFrame名稱.sort_values(by='欄位名稱', ascending=True)\n",
    "  \n",
    "* $\\rm\\color{orange}{ascending=True}$ 是預設值 (可不寫)，表示由小到大排列，改成 $\\rm\\color{orange}{False}$ 就會由大到小排列"
   ]
  },
  {
   "cell_type": "code",
   "execution_count": 23,
   "id": "a55857a0",
   "metadata": {
    "ExecuteTime": {
     "end_time": "2022-06-07T07:48:40.552594Z",
     "start_time": "2022-06-07T07:48:40.532647Z"
    },
    "slideshow": {
     "slide_type": "subslide"
    }
   },
   "outputs": [
    {
     "name": "stdout",
     "output_type": "stream",
     "text": [
      "       fruits  year  time\n",
      "0       apple  2001     1\n",
      "1      orange  2002     4\n",
      "2      banana  2001     3\n",
      "3  strawberry  2008     6\n",
      "4        kiwi  2006     3\n",
      "\n",
      "       fruits  year  time\n",
      "3  strawberry  2008     6\n",
      "4        kiwi  2006     3\n",
      "1      orange  2002     4\n",
      "0       apple  2001     1\n",
      "2      banana  2001     3\n",
      "\n",
      "       fruits  year  time\n",
      "3  strawberry  2008     6\n",
      "1      orange  2002     4\n",
      "4        kiwi  2006     3\n",
      "2      banana  2001     3\n",
      "0       apple  2001     1\n"
     ]
    }
   ],
   "source": [
    "df = pd.read_csv('fruits.csv')\n",
    "print(df)\n",
    "print()\n",
    "df1 = df.sort_values(by='year', ascending=False)\n",
    "print(df1)\n",
    "print()\n",
    "# 先依 time 做排序，如果 time 相同再依 year 做排序，是實務上很常用到的功能\n",
    "df2 = df.sort_values(by=['time', 'year'], ascending=False)\n",
    "print(df2)"
   ]
  },
  {
   "cell_type": "markdown",
   "id": "d46db16e",
   "metadata": {
    "slideshow": {
     "slide_type": "subslide"
    }
   },
   "source": [
    "#### 從 $\\rm{DataFrame}$  篩選出想要的資料\n",
    "<br>\n",
    "  \n",
    "* 可以傳入條件式到 $\\rm{DataFrame}$ 中，藉此留下條件判斷為 $\\rm\\color{orange}{True}$ 的資料\n",
    "  \n",
    "        DataFrame名稱[索引 or 欄位的條件式]"
   ]
  },
  {
   "cell_type": "code",
   "execution_count": 26,
   "id": "357142a6",
   "metadata": {
    "ExecuteTime": {
     "end_time": "2022-06-07T07:56:55.576023Z",
     "start_time": "2022-06-07T07:56:55.550658Z"
    },
    "slideshow": {
     "slide_type": "subslide"
    }
   },
   "outputs": [
    {
     "name": "stdout",
     "output_type": "stream",
     "text": [
      "   apple  orange  banana  strawberry  kiwi\n",
      "0      2      10       7           5     8\n",
      "1      4       7       2           2     2\n",
      "2      6       3       8           6    10\n",
      "3      2       2      10          10     3\n",
      "4      3       7       4           7     1\n",
      "5      5      10       7           5     1\n",
      "6      7       8      10           1     9\n",
      "7      8       4       4           2     1\n",
      "8      9       7       2          10     8\n",
      "9      1       9      10           9     5\n",
      "\n",
      "   apple  orange  banana  strawberry  kiwi\n",
      "2      6       3       8           6    10\n",
      "6      7       8      10           1     9\n",
      "8      9       7       2          10     8\n"
     ]
    }
   ],
   "source": [
    "df = pd.read_csv('fruits2.csv')\n",
    "print(df)\n",
    "print()\n",
    "# df1 = df[df.index % 2 == 0]\n",
    "# print(df1)\n",
    "# print()\n",
    "# df2 = df[df['apple'] >= 5]\n",
    "# print(df2)\n",
    "# print()\n",
    "df3 = df[(df['apple'] >= 5) & (df['kiwi'] >= 5)] # 同時符合兩個篩選條件，個別條件務必放在小括號中\n",
    "print(df3)"
   ]
  },
  {
   "cell_type": "markdown",
   "id": "4e43f43e",
   "metadata": {},
   "source": [
    "#### (Optional) 快速取得各種基本統計數據\n",
    "<br>\n",
    "  \n",
    "* 對於第一次接觸的資料，有許多統計指標可以幫助我們快速看出其大致的樣貌\n",
    "* $\\rm{pandas}$ 提供了 $\\rm\\color{orange}{describe()}$ 方法來做到這件事"
   ]
  },
  {
   "cell_type": "code",
   "execution_count": 27,
   "id": "830ac367",
   "metadata": {
    "ExecuteTime": {
     "end_time": "2022-06-07T07:57:57.382762Z",
     "start_time": "2022-06-07T07:57:57.346858Z"
    }
   },
   "outputs": [
    {
     "name": "stdout",
     "output_type": "stream",
     "text": [
      "   apple  orange  banana  strawberry  kiwi\n",
      "0      2      10       7           5     8\n",
      "1      4       7       2           2     2\n",
      "2      6       3       8           6    10\n",
      "3      2       2      10          10     3\n",
      "4      3       7       4           7     1\n",
      "5      5      10       7           5     1\n",
      "6      7       8      10           1     9\n",
      "7      8       4       4           2     1\n",
      "8      9       7       2          10     8\n",
      "9      1       9      10           9     5\n",
      "\n",
      "           apple     orange     banana  strawberry       kiwi\n",
      "count  10.000000  10.000000  10.000000      10.000  10.000000\n",
      "mean    4.700000   6.700000   6.400000       5.700   4.800000\n",
      "std     2.750757   2.830391   3.204164       3.335   3.645393\n",
      "min     1.000000   2.000000   2.000000       1.000   1.000000\n",
      "25%     2.250000   4.750000   4.000000       2.750   1.250000\n",
      "50%     4.500000   7.000000   7.000000       5.500   4.000000\n",
      "75%     6.750000   8.750000   9.500000       8.500   8.000000\n",
      "max     9.000000  10.000000  10.000000      10.000  10.000000\n"
     ]
    }
   ],
   "source": [
    "df = pd.read_csv('fruits2.csv')\n",
    "print(df)\n",
    "print()\n",
    "print(df.describe())"
   ]
  },
  {
   "cell_type": "markdown",
   "id": "a68b9627",
   "metadata": {
    "slideshow": {
     "slide_type": "subslide"
    }
   },
   "source": [
    "* 輸出 $\\rm{names.txt}$ 中，所有姓 $\\rm{Patterson}$ 的人名和他們的 $\\rm{email}$"
   ]
  },
  {
   "cell_type": "code",
   "execution_count": 29,
   "id": "51aadbf2",
   "metadata": {
    "ExecuteTime": {
     "end_time": "2022-06-07T08:00:46.683728Z",
     "start_time": "2022-06-07T08:00:46.660830Z"
    },
    "slideshow": {
     "slide_type": "subslide"
    }
   },
   "outputs": [
    {
     "name": "stdout",
     "output_type": "stream",
     "text": [
      "   first_name  last_name                           email\n",
      "13        Tom  Patterson     tompatterson@bogusemail.com\n",
      "16     Maggie  Patterson  maggiepatterson@bogusemail.com\n",
      "19      Steve  Patterson   stevepatterson@bogusemail.com\n",
      "26        Sam  Patterson     sampatterson@bogusemail.com\n",
      "31       Neil  Patterson    neilpatterson@bogusemail.com\n",
      "39       Mary  Patterson    marypatterson@bogusemail.com\n"
     ]
    }
   ],
   "source": [
    "df = pd.read_csv('names.txt')\n",
    "# print(df)\n",
    "print(df[df['last_name'] == 'Patterson'])"
   ]
  },
  {
   "cell_type": "markdown",
   "id": "f5edcd59",
   "metadata": {
    "slideshow": {
     "slide_type": "subslide"
    }
   },
   "source": [
    "#### 加上標頭列\n",
    "<br>\n",
    "\n",
    "* 找出 $\\rm{CA.txt}$ 中，$\\rm{2001}$ 年最熱門的男女孩名字"
   ]
  },
  {
   "cell_type": "code",
   "execution_count": 37,
   "id": "83664a88",
   "metadata": {
    "ExecuteTime": {
     "end_time": "2022-06-07T08:06:28.190016Z",
     "start_time": "2022-06-07T08:06:27.946533Z"
    },
    "scrolled": true,
    "slideshow": {
     "slide_type": "subslide"
    }
   },
   "outputs": [
    {
     "name": "stdout",
     "output_type": "stream",
     "text": [
      "       State Sex  Year    Name  Number\n",
      "337520    CA   M  2001  Daniel    4165\n"
     ]
    }
   ],
   "source": [
    "import pandas as pd\n",
    "df = pd.read_csv('CA.txt', header=None)\n",
    "df.columns = ['State', 'Sex', 'Year', 'Name', 'Number']\n",
    "# print(df.head())\n",
    "df1 = df[(df['Year'] == 2001) & (df['Sex'] == 'M')]\n",
    "print(df1.head(1))"
   ]
  },
  {
   "cell_type": "markdown",
   "id": "25bb307d",
   "metadata": {
    "slideshow": {
     "slide_type": "subslide"
    }
   },
   "source": [
    "#### 取頭尾列\n",
    "<br>\n",
    "\n",
    "* 當資料量很大，不太可能全部顯示出來時，可以使用 $\\rm\\color{orange}{head()}$ 與 $\\rm\\color{orange}{tail()}$ 來顯示局部內容\n",
    "* 預設值為 $\\rm{5}$ 列，可在小括號內填入想顯示的列數"
   ]
  },
  {
   "cell_type": "code",
   "execution_count": 42,
   "id": "c8297780",
   "metadata": {
    "ExecuteTime": {
     "end_time": "2022-06-07T08:08:41.111433Z",
     "start_time": "2022-06-07T08:08:41.063611Z"
    },
    "slideshow": {
     "slide_type": "subslide"
    }
   },
   "outputs": [
    {
     "name": "stdout",
     "output_type": "stream",
     "text": [
      "49386\n"
     ]
    }
   ],
   "source": [
    "emily = df[(df['Name'] == 'Emily') & (df['Year'] <= 2020) & (df['Year'] >= 2001)]\n",
    "# print(emily.head(10))\n",
    "print(emily['Number'].sum())"
   ]
  },
  {
   "cell_type": "code",
   "execution_count": null,
   "id": "7216cf98",
   "metadata": {},
   "outputs": [],
   "source": []
  }
 ],
 "metadata": {
  "kernelspec": {
   "display_name": "Python 3 (ipykernel)",
   "language": "python",
   "name": "python3"
  },
  "language_info": {
   "codemirror_mode": {
    "name": "ipython",
    "version": 3
   },
   "file_extension": ".py",
   "mimetype": "text/x-python",
   "name": "python",
   "nbconvert_exporter": "python",
   "pygments_lexer": "ipython3",
   "version": "3.9.12"
  },
  "toc": {
   "base_numbering": 1,
   "nav_menu": {},
   "number_sections": true,
   "sideBar": true,
   "skip_h1_title": false,
   "title_cell": "Table of Contents",
   "title_sidebar": "Contents",
   "toc_cell": false,
   "toc_position": {},
   "toc_section_display": true,
   "toc_window_display": false
  },
  "varInspector": {
   "cols": {
    "lenName": 16,
    "lenType": 16,
    "lenVar": 40
   },
   "kernels_config": {
    "python": {
     "delete_cmd_postfix": "",
     "delete_cmd_prefix": "del ",
     "library": "var_list.py",
     "varRefreshCmd": "print(var_dic_list())"
    },
    "r": {
     "delete_cmd_postfix": ") ",
     "delete_cmd_prefix": "rm(",
     "library": "var_list.r",
     "varRefreshCmd": "cat(var_dic_list()) "
    }
   },
   "position": {
    "height": "446.5px",
    "left": "576px",
    "right": "20px",
    "top": "69px",
    "width": "622px"
   },
   "types_to_exclude": [
    "module",
    "function",
    "builtin_function_or_method",
    "instance",
    "_Feature"
   ],
   "window_display": false
  }
 },
 "nbformat": 4,
 "nbformat_minor": 5
}
