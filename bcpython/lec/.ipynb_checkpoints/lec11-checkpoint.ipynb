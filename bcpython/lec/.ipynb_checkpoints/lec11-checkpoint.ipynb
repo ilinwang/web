{
 "cells": [
  {
   "cell_type": "markdown",
   "metadata": {
    "slideshow": {
     "slide_type": "subslide"
    }
   },
   "source": [
    "### 檔案的寫入\n",
    "<br>\n",
    "  \n",
    "* 根據題目要求決定所需要的資料 $\\Longrightarrow$ 合併成一行 $\\Longrightarrow$ 加上分行符號 $\\Longrightarrow$ 一行一行寫入\n",
    "* 假設我們想把下面串列中的每個數都除以 $\\rm{3.14}$ 之後，寫入一個叫 $\\rm{num.txt}$ 的檔案\n",
    "  \n",
    "        t = [21, 12, 72, 55, 20, 53, 26, 45, 1, 36]\n",
    "  \n",
    "* 要求的檔案內容格式為\n",
    "  \n",
    "        Round 1: xxx  \n",
    "        Round 2: xxx  \n",
    "        ...\n",
    "  \n",
    "* 可先回想用 $\\rm{print()}$ 輸出於螢幕上的寫法，再做適當更動"
   ]
  },
  {
   "cell_type": "code",
   "execution_count": 1,
   "metadata": {
    "ExecuteTime": {
     "end_time": "2021-06-01T06:22:17.932148Z",
     "start_time": "2021-06-01T06:22:17.913177Z"
    },
    "slideshow": {
     "slide_type": "fragment"
    }
   },
   "outputs": [],
   "source": [
    "t = [21, 12, 72, 55, 20, 53, 26, 45, 1, 36]\n",
    "with open('num.txt', 'w') as fw:\n",
    "    for i in range(len(t)):\n",
    "        fw.write('Round ' + str(i + 1) + ': ' + str(t[i] / 3.14) + '\\n')"
   ]
  },
  {
   "cell_type": "markdown",
   "metadata": {
    "slideshow": {
     "slide_type": "subslide"
    }
   },
   "source": [
    "建立一個含有 $\\rm{25}$ 個介於 $\\rm{1\\sim1000}$ 之間的亂數的串列。然後，把串列中的五個元素為一列，逐列寫入一個叫 $\\rm{rnd\\_num.txt}$ 的檔案中"
   ]
  },
  {
   "cell_type": "code",
   "execution_count": 7,
   "metadata": {
    "ExecuteTime": {
     "end_time": "2021-06-01T06:43:53.297694Z",
     "start_time": "2021-06-01T06:43:53.285724Z"
    },
    "slideshow": {
     "slide_type": "fragment"
    }
   },
   "outputs": [],
   "source": [
    "import random\n",
    "\n",
    "t = random.choices(range(1, 1001), k=25)\n",
    "s = ''\n",
    "count = 0\n",
    "with open('rnd_num.txt', 'w') as fw:\n",
    "    for num in t:\n",
    "        s += str(num) + ' '\n",
    "        count += 1\n",
    "        if count % 5 == 0:\n",
    "            fw.write(s + '\\n')\n",
    "            s = ''"
   ]
  },
  {
   "cell_type": "markdown",
   "metadata": {
    "slideshow": {
     "slide_type": "subslide"
    }
   },
   "source": [
    "### 觀察檔案\n",
    "<br>\n",
    "  \n",
    "* 並非所有資料檔都以空格隔開；用文字編輯器打開檔案觀察，是動手寫程式之前一定要做的事\n",
    "* $\\rm{names.txt}$ 是某種典型的資料檔格式，假設我們現在想要輸出所有人的 $\\rm{email}$\n",
    "* 第一列我們稱為標頭 $\\rm{(header)}$ 列，用來告訴我們每一欄所儲存的資料所代表的意義\n",
    "* 輸出的時候不想要標頭列，該怎麼做？"
   ]
  },
  {
   "cell_type": "code",
   "execution_count": 2,
   "metadata": {
    "ExecuteTime": {
     "end_time": "2021-06-01T06:52:21.874041Z",
     "start_time": "2021-06-01T06:52:21.863070Z"
    },
    "slideshow": {
     "slide_type": "fragment"
    }
   },
   "outputs": [
    {
     "name": "stdout",
     "output_type": "stream",
     "text": [
      "john-doe@bogusemail.com\n",
      "maryjacobs@bogusemail.com\n",
      "davesmith@bogusemail.com\n",
      "janestuart@bogusemail.com\n",
      "tomwright@bogusemail.com\n",
      "steverobinson@bogusemail.com\n",
      "nicolejacobs@bogusemail.com\n",
      "janewright@bogusemail.com\n",
      "janedoe@bogusemail.com\n",
      "kurtwright@bogusemail.com\n",
      "kurtrobinson@bogusemail.com\n",
      "janejenkins@bogusemail.com\n",
      "neilrobinson@bogusemail.com\n",
      "tompatterson@bogusemail.com\n",
      "samjenkins@bogusemail.com\n",
      "stevestuart@bogusemail.com\n",
      "maggiepatterson@bogusemail.com\n",
      "maggiestuart@bogusemail.com\n",
      "janedoe@bogusemail.com\n",
      "stevepatterson@bogusemail.com\n",
      "davesmith@bogusemail.com\n",
      "samwilks@bogusemail.com\n",
      "kurtjefferson@bogusemail.com\n",
      "samstuart@bogusemail.com\n",
      "janestuart@bogusemail.com\n",
      "davedavis@bogusemail.com\n",
      "sampatterson@bogusemail.com\n",
      "tomjefferson@bogusemail.com\n",
      "janestuart@bogusemail.com\n",
      "maggiejefferson@bogusemail.com\n",
      "marywilks@bogusemail.com\n",
      "neilpatterson@bogusemail.com\n",
      "coreydavis@bogusemail.com\n",
      "stevejacobs@bogusemail.com\n",
      "janejenkins@bogusemail.com\n",
      "johnjacobs@bogusemail.com\n",
      "neilsmith@bogusemail.com\n",
      "coreywilks@bogusemail.com\n",
      "coreysmith@bogusemail.com\n",
      "marypatterson@bogusemail.com\n",
      "janestuart@bogusemail.com\n",
      "travisarnold@bogusemail.com\n",
      "johnrobinson@bogusemail.com\n",
      "travisarnold@bogusemail.com\n"
     ]
    }
   ],
   "source": [
    "with open('names.txt', 'r') as fh:\n",
    "    next(fh)\n",
    "    for line in fh:\n",
    "        data = line.strip().split(',')\n",
    "        print(data[2])"
   ]
  },
  {
   "cell_type": "markdown",
   "metadata": {
    "slideshow": {
     "slide_type": "subslide"
    }
   },
   "source": [
    "* 輸出所有姓 $\\rm{Patterson}$ 的人名 (不含逗號) 和他們的 $\\rm{email}$\n",
    "* 輸出所有名字以 $\\rm{M}$ 為開頭的人"
   ]
  },
  {
   "cell_type": "code",
   "execution_count": 16,
   "metadata": {
    "ExecuteTime": {
     "end_time": "2021-06-01T06:58:45.644758Z",
     "start_time": "2021-06-01T06:58:45.626808Z"
    },
    "slideshow": {
     "slide_type": "fragment"
    }
   },
   "outputs": [
    {
     "name": "stdout",
     "output_type": "stream",
     "text": [
      "Mary Smith-Robinson\n",
      "Maggie Patterson\n",
      "Maggie Stuart\n",
      "Maggie Jefferson\n",
      "Mary Wilks\n",
      "Mary Patterson\n"
     ]
    }
   ],
   "source": [
    "with open('names.txt', 'r') as fh:\n",
    "    for line in fh:\n",
    "        data = line.strip().split(',')\n",
    "        if data[0][0] == 'M':\n",
    "            print(data[0], data[1])"
   ]
  },
  {
   "cell_type": "markdown",
   "metadata": {
    "slideshow": {
     "slide_type": "subslide"
    }
   },
   "source": [
    "### 逗號分隔值 (Comma-separated Values, CSV)\n",
    "<br>\n",
    "  \n",
    "* 如果整份檔案中，同列資料的不同欄位均以逗號分開，它就符合了 $\\rm{CSV}$ 的格式規範\n",
    "* $\\rm{CSV}$ 是一種標準化的資料格式；幾乎所有的資料庫和程式語言都支援它的操作\n",
    "* 其最大的優勢在於，它同時是電子試算表 (也就是 $\\rm{excel}$ 檔案) 的通用格式\n",
    "* 我們可以讓符合 $\\rm{CSV}$ 規範的純文字檔，透過更改副檔名的方式直接以 $\\rm{excel}$ 開啟"
   ]
  },
  {
   "cell_type": "markdown",
   "metadata": {
    "slideshow": {
     "slide_type": "subslide"
    }
   },
   "source": [
    "* $\\rm{CA.txt}$ 是 $\\rm{1910-2020}$ 年間，加州男女新生兒姓名的統計資料\n",
    "* 該怎麼找出 $\\rm{2001}$ 與 $\\rm{2002}$ 年間，男女孩最熱門的名字?"
   ]
  },
  {
   "cell_type": "code",
   "execution_count": 19,
   "metadata": {
    "ExecuteTime": {
     "end_time": "2021-06-01T07:41:49.658679Z",
     "start_time": "2021-06-01T07:41:49.532635Z"
    },
    "slideshow": {
     "slide_type": "fragment"
    }
   },
   "outputs": [
    {
     "name": "stdout",
     "output_type": "stream",
     "text": [
      "Emily 3020\n"
     ]
    }
   ],
   "source": [
    "with open('CA.txt', 'r') as fh:\n",
    "    yr_now = '1910'\n",
    "    for line in fh:\n",
    "        data = line.strip().split(',')\n",
    "        if data[2] == yr_now:\n",
    "            continue\n",
    "        elif data[2] != yr_now and data[2] != '2002':\n",
    "            yr_now = data[2]\n",
    "        else:\n",
    "            print(data[3], data[4])\n",
    "            break"
   ]
  },
  {
   "cell_type": "markdown",
   "metadata": {
    "slideshow": {
     "slide_type": "subslide"
    }
   },
   "source": [
    "找出 $\\rm{2002}$ 年在加州出生的男孩中，第三熱門的名字，並求出  \n",
    "<br>\n",
    "* 該名字佔當年出生男孩的比例\n",
    "* 該名字佔當年所有新生兒的比例"
   ]
  },
  {
   "cell_type": "code",
   "execution_count": 24,
   "metadata": {
    "ExecuteTime": {
     "end_time": "2021-06-01T07:56:57.673886Z",
     "start_time": "2021-06-01T07:56:57.392633Z"
    },
    "slideshow": {
     "slide_type": "fragment"
    }
   },
   "outputs": [
    {
     "name": "stdout",
     "output_type": "stream",
     "text": [
      "Andrew 0.014513930271095403 0.007603245705000054\n"
     ]
    }
   ],
   "source": [
    "with open('CA.txt', 'r') as fh:\n",
    "    male_name = []\n",
    "    male_num = []\n",
    "    total_num = []\n",
    "    for line in fh:\n",
    "        data = line.strip().split(',')\n",
    "        if data[2] == '2002':\n",
    "            total_num.append(int(data[4]))\n",
    "            if data[1] == 'M':\n",
    "                male_name.append(data[3])\n",
    "                male_num.append(int(data[4]))\n",
    "    print(male_name[2],\n",
    "          male_num[2]/sum(male_num),\n",
    "          male_num[2]/sum(total_num))"
   ]
  },
  {
   "cell_type": "markdown",
   "metadata": {
    "slideshow": {
     "slide_type": "subslide"
    }
   },
   "source": [
    "* 統計 $\\rm{2001-2020}$ 年加州新生兒中，每年叫做 $\\rm{Erica}$ 的女性新生兒數量與佔該年同性別新生兒的比例"
   ]
  },
  {
   "cell_type": "code",
   "execution_count": 3,
   "metadata": {
    "ExecuteTime": {
     "end_time": "2021-06-19T09:50:28.985196Z",
     "start_time": "2021-06-19T09:50:28.575207Z"
    },
    "lines_to_next_cell": 0,
    "slideshow": {
     "slide_type": "fragment"
    }
   },
   "outputs": [
    {
     "name": "stdout",
     "output_type": "stream",
     "text": [
      "[222243, 222689, 226609, 228753, 230344, 234687, 236172, 229229, 218201, 210871, 207494, 208926, 204939, 209416, 205093, 203360, 195352, 188919, 183644, 172003]\n",
      "[442, 375, 334, 329, 293, 268, 216, 186, 176, 140, 106, 102, 87, 80, 78, 79, 57, 45, 54, 42]\n"
     ]
    }
   ],
   "source": [
    "with open('CA.txt') as fh:\n",
    "    erika = []\n",
    "    female = []\n",
    "    this_yr = 2001\n",
    "    this_yr_count = 0\n",
    "    tmp_count = 0\n",
    "    for line in fh:\n",
    "        data = line.strip().split(',')\n",
    "        if data[1] != 'F': # 性別不符直接跳過\n",
    "            continue\n",
    "        elif int(data[2]) == this_yr: # 是女性且年份符合條件\n",
    "            this_yr_count += int(data[4])\n",
    "            if data[3] == 'Erika':\n",
    "                erika.append(int(data[4]))\n",
    "        # 是女性且年份也符合條件，但與 this_yr 不符，代表有年份的跨越\n",
    "        elif 2001 <= int(data[2]) <= 2020:\n",
    "            this_yr += 1\n",
    "            female.append(this_yr_count)\n",
    "            this_yr_count = int(data[4])\n",
    "    female.append(this_yr_count) # 不加這一行會少算 2020 年的女性總數\n",
    "    print(female)\n",
    "    print(erika)"
   ]
  },
  {
   "cell_type": "code",
   "execution_count": null,
   "metadata": {
    "lines_to_next_cell": 2
   },
   "outputs": [],
   "source": []
  }
 ],
 "metadata": {
  "jupytext": {
   "encoding": "# -*- coding: utf-8 -*-",
   "formats": "ipynb,py:light"
  },
  "kernelspec": {
   "display_name": "Python 3 (ipykernel)",
   "language": "python",
   "name": "python3"
  },
  "language_info": {
   "codemirror_mode": {
    "name": "ipython",
    "version": 3
   },
   "file_extension": ".py",
   "mimetype": "text/x-python",
   "name": "python",
   "nbconvert_exporter": "python",
   "pygments_lexer": "ipython3",
   "version": "3.9.12"
  },
  "toc": {
   "base_numbering": 1,
   "nav_menu": {},
   "number_sections": true,
   "sideBar": true,
   "skip_h1_title": false,
   "title_cell": "Table of Contents",
   "title_sidebar": "Contents",
   "toc_cell": false,
   "toc_position": {},
   "toc_section_display": true,
   "toc_window_display": false
  },
  "varInspector": {
   "cols": {
    "lenName": 16,
    "lenType": 16,
    "lenVar": 40
   },
   "kernels_config": {
    "python": {
     "delete_cmd_postfix": "",
     "delete_cmd_prefix": "del ",
     "library": "var_list.py",
     "varRefreshCmd": "print(var_dic_list())"
    },
    "r": {
     "delete_cmd_postfix": ") ",
     "delete_cmd_prefix": "rm(",
     "library": "var_list.r",
     "varRefreshCmd": "cat(var_dic_list()) "
    }
   },
   "types_to_exclude": [
    "module",
    "function",
    "builtin_function_or_method",
    "instance",
    "_Feature"
   ],
   "window_display": false
  }
 },
 "nbformat": 4,
 "nbformat_minor": 4
}
