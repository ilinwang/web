{
 "cells": [
  {
   "cell_type": "markdown",
   "metadata": {
    "slideshow": {
     "slide_type": "slide"
    }
   },
   "source": [
    "# INEN 203 應用程式設計\n",
    "<br>\n",
    "\n",
    "### 參考書目\n",
    "* 洪錦魁 (2020). *Python入門邁向高手之路王者歸來*. 深石.\n",
    "* Al Sweigart (2016). H&C 譯. *Python 自動化的樂趣 - 搞定重複瑣碎&單調無聊的工作*. 碁峰.\n",
    "* Zelle, J. M. (2016). *Python Programming: An Introduction to Computer Science*. Portland, OR: Franklin, Beedle & Associates Inc.\n",
    "* Guttag, J. V. (2017). *Introduction to Computation and Programming Using Python*. Cambridge, MA: The MIT Press\n",
    "<br><br>"
   ]
  },
  {
   "cell_type": "markdown",
   "metadata": {
    "slideshow": {
     "slide_type": "slide"
    }
   },
   "source": [
    "### 期末分數計算方式\n",
    "* 平時成績: $\\rm{10}\\%$\n",
    "* 實作: $\\rm{20}\\%$\n",
    "* 期中考: $\\rm{20}\\%$ (乙) 3/21 (甲) 3/22\n",
    "* 期中考: $\\rm{20}\\%$ (乙) 5/02 (甲) 5/03\n",
    "* 期末考: $\\rm{30}\\%$ (乙) 6/13 (甲) 6/14"
   ]
  },
  {
   "cell_type": "markdown",
   "metadata": {
    "slideshow": {
     "slide_type": "slide"
    }
   },
   "source": [
    "## 變數與型態\n",
    "<br>\n",
    "\n",
    "### 什麼是變數?\n",
    "* 是一個獨特的名字，每個名字只能對應一個值\n",
    "* 每個名字具有唯一性，不能重複\n",
    "* 關於變數命名的原則，可參閱 [這裡](https://is.gd/XtB1qq)\n",
    "* 名字與大小寫有關。大小寫不同會視為不同名字\n",
    "* 透過呼叫名字來取得它目前對應的值"
   ]
  },
  {
   "cell_type": "markdown",
   "metadata": {
    "slideshow": {
     "slide_type": "slide"
    }
   },
   "source": [
    "### 賦值運算子\n",
    "* 在任何程式語言中，等號「=」代表的意思不是數學上的等於，而是代表賦值\n",
    "* 並且，一定是把右邊的值賦予給左邊\n",
    "* 前面提過，變數的名字具有唯一性，因此若分次將不同的值一直賦予給同一變數，則每次賦值時均會覆蓋掉上次的值"
   ]
  },
  {
   "cell_type": "markdown",
   "metadata": {
    "slideshow": {
     "slide_type": "slide"
    }
   },
   "source": [
    "## Python 與 Java 的幾個主要差別\n",
    "<br>\n",
    "\n",
    "### 語言的類型\n",
    "* Python 是直譯式 (interpreted) 語言，而 Java 是編譯式 (compiled) 語言\n",
    "* Python 的語法比 Java 更簡潔；同時，Python 亦可在終端機 (terminal) 直接執行\n",
    "* 例如，我們可直接在終端機上執行 *Python* $2 + 3$，就可得到 $5$\n",
    "* 在 Java 中，則必須先寫出類似\n",
    "  \n",
    "> public class Print5 {  \n",
    "> \n",
    "> public static void main(String[] args) {  \n",
    "> System.out.println(\"3+2=\" + (Integer.toString(3+2)));  \n",
    "> }  \n",
    "> }  \n",
    "  \n",
    "* 之後再執行 *Java Print5*，才能得到相同的結果"
   ]
  },
  {
   "cell_type": "markdown",
   "metadata": {
    "slideshow": {
     "slide_type": "slide"
    }
   },
   "source": [
    "## Python 與 Java 的幾個主要差別\n",
    "<br>\n",
    "\n",
    "### 變數的使用\n",
    "* Python 中的變數是動態的，會在執行 (runtime) 時才做變數型態的檢查\n",
    "* Java 中的變數是靜態的，會在編譯階段就做變數型態檢查\n",
    "* 簡單來說，在 Python 中，我們不需要在撰寫程式時給定變數的型態"
   ]
  },
  {
   "cell_type": "code",
   "execution_count": null,
   "metadata": {
    "slideshow": {
     "slide_type": "slide"
    }
   },
   "outputs": [],
   "source": [
    "height = 1.85\n",
    "weight = 77.6\n",
    "\n",
    "print(height)"
   ]
  },
  {
   "cell_type": "markdown",
   "metadata": {
    "slideshow": {
     "slide_type": "slide"
    }
   },
   "source": [
    "### 為什麼要使用變數?\n",
    "假設我們需要計算 BMI，公式為體重除以身高平方。其中體重單位為公斤，而身高單位為公尺"
   ]
  },
  {
   "cell_type": "code",
   "execution_count": null,
   "metadata": {
    "slideshow": {
     "slide_type": "slide"
    }
   },
   "outputs": [],
   "source": [
    "height = 1.85\n",
    "weight = 77.6\n",
    "\n",
    "print(77.6 / 1.85 ** 2)\n",
    "# print(weight / height ** 2)\n",
    "\n",
    "# bmi = weight / height ** 2\n",
    "# print(bmi)"
   ]
  },
  {
   "cell_type": "markdown",
   "metadata": {
    "slideshow": {
     "slide_type": "slide"
    }
   },
   "source": [
    "### 再現性 (Reproducibility)\n",
    "當我們只需要更改龐大計算式中的一個值時，透過更改變數的方式便可以在不做大幅更動的情況下就給出想要的結果"
   ]
  },
  {
   "cell_type": "code",
   "execution_count": null,
   "metadata": {
    "slideshow": {
     "slide_type": "slide"
    }
   },
   "outputs": [],
   "source": [
    "height = 1.85\n",
    "weight = 77.6\n",
    "bmi = weight / height ** 2\n",
    "print(bmi)\n",
    "print('Your BMI is', bmi)"
   ]
  },
  {
   "cell_type": "markdown",
   "metadata": {
    "slideshow": {
     "slide_type": "slide"
    }
   },
   "source": [
    "### 基本變數型態"
   ]
  },
  {
   "cell_type": "code",
   "execution_count": null,
   "metadata": {
    "slideshow": {
     "slide_type": "slide"
    }
   },
   "outputs": [],
   "source": [
    "print(type(bmi))\n",
    "\n",
    "this_year = 2020\n",
    "print(type(this_year))\n",
    "\n",
    "# 關於一些 Python 的寫作風格，可以參考 Google 的寫作指引\n",
    "# https://github.com/google/styleguide/blob/gh-pages/pyguide.md\n",
    "sentence_1 = \"They both work.\"\n",
    "sentence_2 = 'Just make sure to be consistent.'\n",
    "print(type(sentence_1))\n",
    "print(type(sentence_2))\n",
    "\n",
    "is_failed = False\n",
    "print(type(is_failed))"
   ]
  },
  {
   "cell_type": "markdown",
   "metadata": {
    "slideshow": {
     "slide_type": "slide"
    }
   },
   "source": [
    "### 不需要事先定義變數型態，因此做運算時要小心"
   ]
  },
  {
   "cell_type": "code",
   "execution_count": null,
   "metadata": {
    "slideshow": {
     "slide_type": "slide"
    }
   },
   "outputs": [],
   "source": [
    "x = 3\n",
    "y = 5\n",
    "print(x + y)\n",
    "\n",
    "x = 'abcd'\n",
    "y = 'wxyz'\n",
    "print(x + y)"
   ]
  }
 ],
 "metadata": {
  "kernelspec": {
   "display_name": "Python 3 (ipykernel)",
   "language": "python",
   "name": "python3"
  },
  "language_info": {
   "codemirror_mode": {
    "name": "ipython",
    "version": 3
   },
   "file_extension": ".py",
   "mimetype": "text/x-python",
   "name": "python",
   "nbconvert_exporter": "python",
   "pygments_lexer": "ipython3",
   "version": "3.9.12"
  },
  "toc": {
   "base_numbering": 1,
   "nav_menu": {},
   "number_sections": true,
   "sideBar": true,
   "skip_h1_title": false,
   "title_cell": "Table of Contents",
   "title_sidebar": "Contents",
   "toc_cell": false,
   "toc_position": {
    "height": "calc(100% - 180px)",
    "left": "10px",
    "top": "150px",
    "width": "307.2px"
   },
   "toc_section_display": true,
   "toc_window_display": false
  },
  "varInspector": {
   "cols": {
    "lenName": 16,
    "lenType": 16,
    "lenVar": 40
   },
   "kernels_config": {
    "python": {
     "delete_cmd_postfix": "",
     "delete_cmd_prefix": "del ",
     "library": "var_list.py",
     "varRefreshCmd": "print(var_dic_list())"
    },
    "r": {
     "delete_cmd_postfix": ") ",
     "delete_cmd_prefix": "rm(",
     "library": "var_list.r",
     "varRefreshCmd": "cat(var_dic_list()) "
    }
   },
   "types_to_exclude": [
    "module",
    "function",
    "builtin_function_or_method",
    "instance",
    "_Feature"
   ],
   "window_display": false
  }
 },
 "nbformat": 4,
 "nbformat_minor": 2
}
