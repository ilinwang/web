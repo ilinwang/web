{
 "cells": [
  {
   "cell_type": "markdown",
   "metadata": {
    "heading_collapsed": true,
    "slideshow": {
     "slide_type": "subslide"
    }
   },
   "source": [
    "### Jupyter Notebook 基礎操作說明\n",
    "<br>\n",
    "\n",
    "0. 每一個格子叫做一個 $\\rm{cell}$\n",
    "1. $\\rm\\color{orange}{shift+enter}$：執行目前的 $\\rm{cell}$\n",
    "2. $\\rm\\color{orange}{ctrl+/}$：為該行加上(或去除)註解\n",
    "    * 做簡單註解時，直接打 「$\\color{orange}{\\#}$」 就可以了\n",
    "3. 按下 $\\rm\\color{orange}{esc}$ 可在命令模式與編輯模式間相互切換\n",
    "    * 命令模式：撰寫程式使用的模式\n",
    "    * 編輯模式：可做一般性的文字編輯與其他 $\\rm{cell}$ 操作\n",
    "4. 在編輯模式下\n",
    "    * 按 $\\rm\\color{orange}{a}$ 可在該 $\\rm{cell}$ 上方 ($\\rm\\color{orange}{above}$) 新增一個 $\\rm{cell}$\n",
    "    * 按 $\\rm\\color{orange}{b}$ 可在該 $\\rm{cell}$ 下方 ($\\rm\\color{orange}{below}$) 新增一個 $\\rm{cell}$\n",
    "    * 按 $\\rm\\color{orange}{d}$、$\\rm\\color{orange}{d}$ 可刪除該 $\\rm{cell}$\n",
    "    * 按 $\\rm\\color{orange}{h}$ 可顯示出含有所有指令的說明文件"
   ]
  },
  {
   "cell_type": "markdown",
   "metadata": {
    "slideshow": {
     "slide_type": "subslide"
    }
   },
   "source": [
    "### 讓使用者輸入資訊\n",
    "<br>\n",
    "\n",
    "* 我們可利用 $\\rm\\color{orange}{input()}$ 來讓使用者自由輸入資訊\n",
    "* 若在 $\\rm\\color{orange}{input()}$ 的小括號中放進字串，則會變成螢幕上提示使用者的訊息"
   ]
  },
  {
   "cell_type": "code",
   "execution_count": null,
   "metadata": {
    "slideshow": {
     "slide_type": "fragment"
    }
   },
   "outputs": [],
   "source": [
    "input()\n",
    "input('Enter your age: ')"
   ]
  },
  {
   "cell_type": "markdown",
   "metadata": {
    "slideshow": {
     "slide_type": "subslide"
    }
   },
   "source": [
    "### 把使用者的資訊留下來\n",
    "<br>\n",
    "\n",
    "* 不難發現，$\\rm\\color{orange}{input()}$ 並沒有把使用者輸入的資訊留下來，而只是顯示在螢幕上\n",
    "* 因此，當該行程式碼被執行完之後，使用者輸入的資訊也就消失了\n",
    "* 這個時候，我們可以為外部進來的資訊取一個名字，然後把它們綁定在一起\n",
    "    * 有時候會聽到別人這麼形容這件事：「用一個變數去接住傳進來的值」\n",
    "* 傳進來的資訊有了名字之後，我們就可以一直重複使用它"
   ]
  },
  {
   "cell_type": "code",
   "execution_count": null,
   "metadata": {
    "slideshow": {
     "slide_type": "fragment"
    }
   },
   "outputs": [],
   "source": [
    "age = input('Enter your age: ')\n",
    "print(age)\n",
    "print('Your age is', age) # 兩個以上的項目要輸出，中間必須使用逗號隔開"
   ]
  },
  {
   "cell_type": "markdown",
   "metadata": {
    "slideshow": {
     "slide_type": "subslide"
    }
   },
   "source": [
    "### 使用 print() 來輸出資訊\n",
    "<br>\n",
    "\n",
    "* $\\rm\\color{orange}{print()}$ 可以用來輸出各種資訊到螢幕上\n",
    "* 輸出兩個以上的項目時，項目之間必須以逗號隔開；輸出時項目之間會有一個空格\n",
    "    * 不想要那個空格的話要怎麼辦？"
   ]
  },
  {
   "cell_type": "code",
   "execution_count": null,
   "metadata": {
    "slideshow": {
     "slide_type": "fragment"
    }
   },
   "outputs": [],
   "source": [
    "print('Your age is', age)\n",
    "print('Your age is ', age)"
   ]
  },
  {
   "cell_type": "markdown",
   "metadata": {
    "slideshow": {
     "slide_type": "subslide"
    }
   },
   "source": [
    "### input() 的特性\n",
    "<br>\n",
    "\n",
    "* $\\rm\\color{orange}{input()}$ 中放進去的東西只能是個字串\n",
    "* 這個字串會被輸出到螢幕上，提醒使用者該輸入何種資訊\n",
    "* 雖然是選用，但強烈建議一定要加上\n",
    "    * 為了美觀，可以考慮在結尾的地方多放一個空格\n",
    "* $\\rm\\color{orange}{使用\\space input()\\space得到的所有資料都是字串型態}$\n",
    "* 單純輸出不會有問題，但是拿來做運算就會出錯"
   ]
  },
  {
   "cell_type": "code",
   "execution_count": null,
   "metadata": {
    "slideshow": {
     "slide_type": "fragment"
    }
   },
   "outputs": [],
   "source": [
    "num = input('Enter a number: ')\n",
    "print('Good choice! I like', num, 'as well!')\n",
    "print(num, '+ 10 is', num + 10)"
   ]
  },
  {
   "cell_type": "markdown",
   "metadata": {
    "slideshow": {
     "slide_type": "subslide"
    }
   },
   "source": [
    "### 型態轉換\n",
    "<br>\n",
    "\n",
    "* 明知使用者輸入的是整數或小數，但是礙於 $\\rm\\color{orange}{input()}$，一定會得到字串，該怎麼做？\n",
    "* Python 提供內建的型態轉換功能。常用的有 $\\rm\\color{orange}{int()}$、$\\rm\\color{orange}{float()}$ 和 $\\rm\\color{orange}{str()}$\n",
    "* 光看螢幕輸出結果無法分辨一個數的型態，往後處理資料時務必要注意"
   ]
  },
  {
   "cell_type": "code",
   "execution_count": null,
   "metadata": {
    "slideshow": {
     "slide_type": "fragment"
    }
   },
   "outputs": [],
   "source": [
    "a = 12.7\n",
    "b = 5\n",
    "c = 'Kelly'\n",
    "d = '95'\n",
    "print(type(a), type(b), type(c), type(d))\n",
    "# print(int(a))\n",
    "# print(str(a))\n",
    "# print(b, str(b))\n",
    "# print(float(c))\n",
    "# print(float(d))"
   ]
  },
  {
   "cell_type": "markdown",
   "metadata": {
    "slideshow": {
     "slide_type": "subslide"
    }
   },
   "source": [
    "### 字串：把字元編上號碼\n",
    "<br>\n",
    "\n",
    "* 字串是字元的循序結構 ($\\rm\\color{orange}{sequence}$)\n",
    "* 在 $\\color{orange}{字串}$ ($\\rm{string}$) 中的每一個 $\\color{orange}{字元}$ ($\\rm{character}$) 的位置稱作其 $\\color{orange}{索引值}$ ($\\rm{index}$)\n",
    "    * 注意字元並不只是字母，它也包含數字、標點符號與特殊符號等\n",
    "    * 索引值是一個整數，因此也可以是綁定整數的變數\n",
    "* 在 Python 中，有兩種編號的方式\n",
    "    * 由左至右，從 $\\rm{0}$ 開始\n",
    "    * 由右至左，從 $\\rm{-1}$ 開始\n",
    "* 所以 $\\rm{Kelly}$ 的 $\\rm{K}$ 有 $\\rm{0}$ 與 $\\rm{-5}$ 兩個索引值\n",
    "* $\\rm{y}$ 則有 $\\rm{4}$ 與 $\\rm{-1}$ 兩個索引值"
   ]
  },
  {
   "cell_type": "markdown",
   "metadata": {
    "slideshow": {
     "slide_type": "subslide"
    }
   },
   "source": [
    "### 字串操作\n",
    "<br>\n",
    "\n",
    "1. 索引取值：$\\rm{string[index]}$"
   ]
  },
  {
   "cell_type": "code",
   "execution_count": null,
   "metadata": {
    "slideshow": {
     "slide_type": "fragment"
    }
   },
   "outputs": [],
   "source": [
    "name = 'blackboard'\n",
    "print(name[1])\n",
    "# print(name[-3])"
   ]
  },
  {
   "cell_type": "markdown",
   "metadata": {
    "slideshow": {
     "slide_type": "subslide"
    }
   },
   "source": [
    "2. 切片 (擷取子字串)：$\\rm{string[start:end]}$\n",
    "    * 注意$\\color{orange}{有頭無尾}$，因此實際上會擷取的是 $\\rm{start\\sim end-1}$ 這個範圍\n",
    "    * 省略 $\\rm{start}$ 代表從頭開始擷取；省略 $\\rm{end}$ 代表擷取至$\\color{orange}{最後一個}$字元"
   ]
  },
  {
   "cell_type": "code",
   "execution_count": null,
   "metadata": {
    "slideshow": {
     "slide_type": "fragment"
    }
   },
   "outputs": [],
   "source": [
    "name = 'blackboard'\n",
    "print(name[0:2])\n",
    "# print(name[1:-1])\n",
    "# print(name[:4])\n",
    "# print(name[1:])"
   ]
  },
  {
   "cell_type": "markdown",
   "metadata": {
    "slideshow": {
     "slide_type": "subslide"
    }
   },
   "source": [
    "3. 串接：$\\rm{string1+string2}$"
   ]
  },
  {
   "cell_type": "code",
   "execution_count": null,
   "metadata": {
    "slideshow": {
     "slide_type": "fragment"
    }
   },
   "outputs": [],
   "source": [
    "word = 'program'\n",
    "plural = word + 's'\n",
    "print(plural)"
   ]
  },
  {
   "cell_type": "markdown",
   "metadata": {
    "slideshow": {
     "slide_type": "subslide"
    }
   },
   "source": [
    "4. 複製：$\\rm{string*number\\space of\\space copies}$"
   ]
  },
  {
   "cell_type": "code",
   "execution_count": null,
   "metadata": {
    "slideshow": {
     "slide_type": "fragment"
    }
   },
   "outputs": [],
   "source": [
    "print('Ho!' * 3)"
   ]
  },
  {
   "cell_type": "markdown",
   "metadata": {
    "slideshow": {
     "slide_type": "subslide"
    }
   },
   "source": [
    "5. 獲取字串長度：$\\rm{len(string)}$"
   ]
  },
  {
   "cell_type": "code",
   "execution_count": null,
   "metadata": {
    "slideshow": {
     "slide_type": "fragment"
    }
   },
   "outputs": [],
   "source": [
    "name = 'Charlize'\n",
    "print(len(name))\n",
    "# print(len(''))"
   ]
  },
  {
   "cell_type": "markdown",
   "metadata": {
    "slideshow": {
     "slide_type": "subslide"
    }
   },
   "source": [
    "### 跳躍切片 (skip-slicing)\n",
    "<br>\n",
    "\n",
    "* 切片可以在最後多增加一個數字\n",
    "* $\\rm{string[start:end:stride]}$\n",
    "* 最後一個稱之為步伐長度"
   ]
  },
  {
   "cell_type": "code",
   "execution_count": null,
   "metadata": {
    "slideshow": {
     "slide_type": "fragment"
    }
   },
   "outputs": [],
   "source": [
    "s = 'Feng Chia University IESM'\n",
    "#    0123456789012345678901234\n",
    "#             10        20\n",
    "print(s[0:8:2])\n",
    "# print(s[5:0:-1])\n",
    "# print(s[10:23:4])\n",
    "# print(s[10::4])"
   ]
  },
  {
   "cell_type": "markdown",
   "metadata": {
    "slideshow": {
     "slide_type": "subslide"
    }
   },
   "source": [
    "### 串列 (List)\n",
    "<br>\n",
    "\n",
    "* 字串是字元的循序結構 ($\\rm{sequence}$)，而串列則是$\\color{orange}{任意值}$的循序結構\n",
    "    * 串列以中括號來形成\n",
    "    * 當中的每個值被稱為元素 ($\\rm{element}$)，兩兩之間以逗號隔開"
   ]
  },
  {
   "cell_type": "code",
   "execution_count": null,
   "metadata": {
    "slideshow": {
     "slide_type": "fragment"
    }
   },
   "outputs": [],
   "source": [
    "# 賦值運算子的左手是一個變數，右手邊是串列，代表串列應該被視為「一個」值\n",
    "num = [2, 4, 6, 8]\n",
    "subjects = ['English', 'Linear Programming', 'Statistics']\n",
    "print(num)\n",
    "print(subjects)"
   ]
  },
  {
   "cell_type": "markdown",
   "metadata": {
    "slideshow": {
     "slide_type": "subslide"
    }
   },
   "source": [
    "* 串列是任意值的循序結構，而如範例所示，串列本身也是一個值\n",
    "* 因此，串列中可以包含另一個串列，並沒有違反其定義"
   ]
  },
  {
   "cell_type": "code",
   "execution_count": null,
   "metadata": {
    "slideshow": {
     "slide_type": "fragment"
    }
   },
   "outputs": [],
   "source": [
    "game = ['Breath of the Wild', 2017, 'E10+', [97, 8.7]]\n",
    "print(game)"
   ]
  },
  {
   "cell_type": "markdown",
   "metadata": {
    "slideshow": {
     "slide_type": "subslide"
    }
   },
   "source": [
    "### 與字串操作幾乎相同的串列操作"
   ]
  },
  {
   "cell_type": "code",
   "execution_count": null,
   "metadata": {
    "slideshow": {
     "slide_type": "fragment"
    }
   },
   "outputs": [],
   "source": [
    "majors = ['Calculus', 'English', 'Applied Programming', 'Intro to CS']\n",
    "print(majors[2])\n",
    "# print(majors[1:3])\n",
    "# print(len(majors))\n",
    "\n",
    "# majors = majors + ['Engineering Graphics']\n",
    "# print(majors)\n",
    "# print(majors[::-2])"
   ]
  },
  {
   "cell_type": "markdown",
   "metadata": {
    "slideshow": {
     "slide_type": "subslide"
    }
   },
   "source": [
    "### 注意差別\n",
    "<br>\n",
    "\n",
    "* 在字串中，索引取值與切片所得到的結果都是字串"
   ]
  },
  {
   "cell_type": "code",
   "execution_count": null,
   "metadata": {
    "slideshow": {
     "slide_type": "fragment"
    }
   },
   "outputs": [],
   "source": [
    "s = 'Seminoles'\n",
    "print(s[1])\n",
    "print(s[1:2])"
   ]
  },
  {
   "cell_type": "markdown",
   "metadata": {
    "slideshow": {
     "slide_type": "subslide"
    }
   },
   "source": [
    "* 在串列中\n",
    "    * 切片一定會得到一個串列\n",
    "    * 索引取值可能得到一個值，也可能得到一個串列"
   ]
  },
  {
   "cell_type": "code",
   "execution_count": null,
   "metadata": {
    "slideshow": {
     "slide_type": "fragment"
    }
   },
   "outputs": [],
   "source": [
    "game = ['Breath of the Wild', 2017, 'E10+', [97, 8.7]]\n",
    "print(game[1:2])\n",
    "# print(game[1])\n",
    "# print(game[-1])\n",
    "# print(game[-1:])"
   ]
  },
  {
   "cell_type": "markdown",
   "metadata": {
    "slideshow": {
     "slide_type": "subslide"
    }
   },
   "source": [
    "        game = ['Breath of the Wild', 2017, 'E10+', [97, 8.7]]  \n",
    "\n",
    "* 如何取出 $97$?"
   ]
  },
  {
   "cell_type": "code",
   "execution_count": null,
   "metadata": {
    "slideshow": {
     "slide_type": "fragment"
    }
   },
   "outputs": [],
   "source": [
    "print(game[-1]) # 取出的值是什麼型態?"
   ]
  },
  {
   "cell_type": "code",
   "execution_count": null,
   "metadata": {
    "slideshow": {
     "slide_type": "fragment"
    }
   },
   "outputs": [],
   "source": [
    "print(game[0][-4])"
   ]
  },
  {
   "cell_type": "markdown",
   "metadata": {
    "slideshow": {
     "slide_type": "subslide"
    }
   },
   "source": [
    "### 串列是可變的 (mutable)，而字串是不可變的 (immutable)\n",
    "<br>\n",
    "\n",
    "* 在串列中，我們可以利用索引值來改變任意元素的內容"
   ]
  },
  {
   "cell_type": "code",
   "execution_count": null,
   "metadata": {
    "slideshow": {
     "slide_type": "fragment"
    }
   },
   "outputs": [],
   "source": [
    "subjects = ['English', 'Linear Programming', 'Statistics']\n",
    "print(subjects)\n",
    "subjects[0] = 'Physics'\n",
    "print(subjects)"
   ]
  },
  {
   "cell_type": "markdown",
   "metadata": {
    "slideshow": {
     "slide_type": "subslide"
    }
   },
   "source": [
    "* 在字串中，這樣的操作則會產生錯誤。請務必留意"
   ]
  },
  {
   "cell_type": "code",
   "execution_count": null,
   "metadata": {
    "slideshow": {
     "slide_type": "fragment"
    }
   },
   "outputs": [],
   "source": [
    "s = 'hello, world.'\n",
    "print(s)\n",
    "s[0] = 'j'\n",
    "print(s)"
   ]
  }
 ],
 "metadata": {
  "kernelspec": {
   "display_name": "Python 3 (ipykernel)",
   "language": "python",
   "name": "python3"
  },
  "language_info": {
   "codemirror_mode": {
    "name": "ipython",
    "version": 3
   },
   "file_extension": ".py",
   "mimetype": "text/x-python",
   "name": "python",
   "nbconvert_exporter": "python",
   "pygments_lexer": "ipython3",
   "version": "3.9.12"
  },
  "toc": {
   "base_numbering": 1,
   "nav_menu": {},
   "number_sections": true,
   "sideBar": true,
   "skip_h1_title": false,
   "title_cell": "Table of Contents",
   "title_sidebar": "Contents",
   "toc_cell": false,
   "toc_position": {},
   "toc_section_display": true,
   "toc_window_display": false
  },
  "varInspector": {
   "cols": {
    "lenName": 16,
    "lenType": 16,
    "lenVar": 40
   },
   "kernels_config": {
    "python": {
     "delete_cmd_postfix": "",
     "delete_cmd_prefix": "del ",
     "library": "var_list.py",
     "varRefreshCmd": "print(var_dic_list())"
    },
    "r": {
     "delete_cmd_postfix": ") ",
     "delete_cmd_prefix": "rm(",
     "library": "var_list.r",
     "varRefreshCmd": "cat(var_dic_list()) "
    }
   },
   "types_to_exclude": [
    "module",
    "function",
    "builtin_function_or_method",
    "instance",
    "_Feature"
   ],
   "window_display": false
  }
 },
 "nbformat": 4,
 "nbformat_minor": 2
}
