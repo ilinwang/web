{
 "cells": [
  {
   "cell_type": "markdown",
   "metadata": {
    "slideshow": {
     "slide_type": "subslide"
    }
   },
   "source": [
    "### 隨機取後不放回\n",
    "  \n",
    "* 語法為 ${\\rm random.sample(循序結構,\\space k=x)}$\n",
    "* 可以達到由循序結構中取出 $\\rm{x}$ 個不重複的元素組成的串列"
   ]
  },
  {
   "cell_type": "code",
   "execution_count": null,
   "metadata": {
    "ExecuteTime": {
     "end_time": "2020-05-04T03:00:57.954204Z",
     "start_time": "2020-05-04T03:00:57.951213Z"
    },
    "slideshow": {
     "slide_type": "fragment"
    }
   },
   "outputs": [],
   "source": [
    "import random\n",
    "\n",
    "print(random.sample('Pneumonoultramicroscopicsilicovolcanoconiosis', k=10))\n",
    "# print(random.sample(['red', 'blue', 'yellow', 'green', 'white', 'black'], k=3))\n",
    "# print(random.sample(range(10000000), k=60))"
   ]
  },
  {
   "cell_type": "markdown",
   "metadata": {
    "slideshow": {
     "slide_type": "subslide"
    }
   },
   "source": [
    "### 簡單樂透模擬\n",
    "<br>\n",
    "\n",
    "我們可以利用 $\\rm{random.sample()}$ 的性質來模擬樂透。假設樂透一張 ${50}$ 元，每期開獎 ${6}$ 個號碼，而我們想要知道購買 ${500}$ 張的盈虧情形：  \n",
    "1. 為求簡化，我們假設對中任 $3$ 碼，可得 $400$ 元；對中任 $4$ 碼，可得 $2000$ 元；對中任 $5$ 碼，可得 $200000$ 元；對中全部的 $6$ 碼，可得 $100000000$\n",
    "2. 先隨機由 $49$ 個數字中選取不重複的 $6$ 個，存到變數中作為開獎號碼\n",
    "3. 隨機抽取 $49$ 個數字中不重複的 $6$ 個，比對總共對中幾個號碼。可利用 $\\rm{for}$ 迴圈加上 $\\rm {in}$ 來達成這項功能\n",
    "4. 重複 $500$ 次 $2.$ 和 $3.$，用贏得的獎金總額扣掉付出的彩券總額，即為盈虧情形"
   ]
  },
  {
   "cell_type": "code",
   "execution_count": null,
   "metadata": {
    "slideshow": {
     "slide_type": "fragment"
    }
   },
   "outputs": [],
   "source": []
  },
  {
   "cell_type": "markdown",
   "metadata": {
    "slideshow": {
     "slide_type": "subslide"
    }
   },
   "source": [
    "### 字串方法\n",
    "<br>\n",
    "\n",
    "* 指的是字串這個$\\color{orange}{型態專屬}$的功能\n",
    "* 呼叫成其他型態的方法極有可能跳出錯誤；即便呼叫成功，功能也有很大機會不是原先預想的樣子\n",
    "* 呼叫方法的時候，直接把方法名稱加到變數名稱後面，中間用點「.」分開"
   ]
  },
  {
   "cell_type": "markdown",
   "metadata": {
    "slideshow": {
     "slide_type": "fragment"
    }
   },
   "source": [
    "### $\\rm{upper()}$ 與 $\\rm{lower()}$\n",
    "<br>\n",
    "\n",
    "* 顧名思義，將字串全部轉為大寫或小寫\n",
    "* 由於 Python 將同一字母的大小寫做嚴格認定，因此做字串解析時，經常是全部先轉為小寫再進行比對"
   ]
  },
  {
   "cell_type": "code",
   "execution_count": null,
   "metadata": {
    "ExecuteTime": {
     "end_time": "2020-05-22T04:09:36.554443Z",
     "start_time": "2020-05-22T04:09:36.548460Z"
    },
    "slideshow": {
     "slide_type": "fragment"
    }
   },
   "outputs": [],
   "source": [
    "word1 = 'banana'\n",
    "word2 = 'BANANA'\n",
    "print(word1 == word2)\n",
    "word2 = word2.lower()\n",
    "print(word1 == word2)\n",
    "# print(word1 == word2.lower()) # 上面兩行可合併為一行"
   ]
  },
  {
   "cell_type": "markdown",
   "metadata": {
    "slideshow": {
     "slide_type": "subslide"
    }
   },
   "source": [
    "### $\\rm{find()}$\n",
    "<br>\n",
    "\n",
    "* 用來找出字串中我們某字元或某字串的$\\color{orange}{索引值位置}$\n",
    "* 若字串中有一個以上符合搜尋條件的字元或字串，只會顯示索引值最小的那個；若完全沒有相符的搜尋結果，則會顯示 $\\color{orange}{-1}$\n",
    "* 此時，可以放進第二個參數，來指定尋找的起始位置"
   ]
  },
  {
   "cell_type": "code",
   "execution_count": 1,
   "metadata": {
    "ExecuteTime": {
     "end_time": "2022-05-24T05:23:14.419693Z",
     "start_time": "2022-05-24T05:23:14.405735Z"
    },
    "slideshow": {
     "slide_type": "fragment"
    }
   },
   "outputs": [
    {
     "name": "stdout",
     "output_type": "stream",
     "text": [
      "1\n",
      "2\n",
      "4\n"
     ]
    }
   ],
   "source": [
    "word = 'banana'\n",
    "index = word.find('a')\n",
    "print(index)\n",
    "print(word.find('na'))\n",
    "print(word.find('na', 3))"
   ]
  },
  {
   "cell_type": "markdown",
   "metadata": {
    "slideshow": {
     "slide_type": "subslide"
    }
   },
   "source": [
    "### $\\rm{count()}$\n",
    "<br>\n",
    "\n",
    "* 用來計算某字元或某字串在一個字串中出現的次數\n",
    "* 注意$\\color{orange}{重疊}$的子集合只會被計算一次"
   ]
  },
  {
   "cell_type": "code",
   "execution_count": 2,
   "metadata": {
    "ExecuteTime": {
     "end_time": "2022-05-31T05:59:05.719121Z",
     "start_time": "2022-05-31T05:59:05.706156Z"
    },
    "slideshow": {
     "slide_type": "fragment"
    }
   },
   "outputs": [
    {
     "name": "stdout",
     "output_type": "stream",
     "text": [
      "0\n"
     ]
    }
   ],
   "source": [
    "s = 'This is a banana. That is a banana. They are bananas.'\n",
    "banana_count = s.count('banana')\n",
    "print(banana_count)\n",
    "# print(s.count('an'))\n",
    "# print(s.count('ana'))"
   ]
  },
  {
   "cell_type": "markdown",
   "metadata": {
    "slideshow": {
     "slide_type": "subslide"
    }
   },
   "source": [
    "### $\\rm{startswith()}$ 與 $\\rm{endswith()}$\n",
    "<br>\n",
    "\n",
    "* 顧名思義，用來偵測某字串是否以某字元或字串開頭 (結尾)\n",
    "* 一樣需要注意，大小寫會被視為不同，因此最好先做大小寫轉換"
   ]
  },
  {
   "cell_type": "code",
   "execution_count": 2,
   "metadata": {
    "ExecuteTime": {
     "end_time": "2022-05-24T05:25:25.124175Z",
     "start_time": "2022-05-24T05:25:25.115199Z"
    },
    "slideshow": {
     "slide_type": "fragment"
    }
   },
   "outputs": [
    {
     "name": "stdout",
     "output_type": "stream",
     "text": [
      "True\n",
      "False\n"
     ]
    }
   ],
   "source": [
    "line = 'Have a nice day'\n",
    "print(line.startswith('Have'))\n",
    "print(line.startswith('h'))\n",
    "\n",
    "# line = line.lower()\n",
    "# print(line.startswith('h'))\n",
    "# print(line.lower().startswith('h')) # 上面兩行可合併為一行"
   ]
  },
  {
   "cell_type": "markdown",
   "metadata": {
    "slideshow": {
     "slide_type": "subslide"
    }
   },
   "source": [
    "### $\\rm{strip()}$\n",
    "<br>\n",
    "\n",
    "* 用來刪除字串的開頭之前和結尾之後的空格，$\\rm{tab}$ 或換行符號\n",
    "* 處理純文字檔案時極為常用的功能"
   ]
  },
  {
   "cell_type": "code",
   "execution_count": null,
   "metadata": {
    "ExecuteTime": {
     "end_time": "2020-05-04T03:49:14.885821Z",
     "start_time": "2020-05-04T03:49:14.882837Z"
    },
    "slideshow": {
     "slide_type": "fragment"
    }
   },
   "outputs": [],
   "source": [
    "line = '  Here we go  '\n",
    "print(line.strip())"
   ]
  },
  {
   "cell_type": "markdown",
   "metadata": {
    "slideshow": {
     "slide_type": "subslide"
    }
   },
   "source": [
    "### $\\rm{split()}$\n",
    "<br>\n",
    "\n",
    "* 將字串中的某字元 (預設值為空格) 當作分隔符號，拆開該字串，並儲存於$\\color{orange}{串列}$之中回傳\n",
    "* 經常搭配 $\\rm{strip()}$ 一起使用。可用來做為初級文字探勘問題的資料前處理手段"
   ]
  },
  {
   "cell_type": "code",
   "execution_count": null,
   "metadata": {
    "slideshow": {
     "slide_type": "fragment"
    }
   },
   "outputs": [],
   "source": [
    "s1 = 'I love you. You complete me.'\n",
    "s2 = 'Shut up. Just shut up. You had me at hello. You had me at hello.'\n",
    "s3 = 'name,sex,id_no,birth_place,residency'\n",
    "words1 = s1.split()\n",
    "print(words1)\n",
    "print(s2.split())\n",
    "print(s3.split(','))"
   ]
  },
  {
   "cell_type": "markdown",
   "metadata": {
    "slideshow": {
     "slide_type": "subslide"
    }
   },
   "source": [
    "### $\\rm{join()}$\n",
    "<br>\n",
    "\n",
    "* 將串列中的每個$\\color{orange}{字串元素}$，經由指定的分隔字元，來結合成一個新的$\\color{orange}{字串}$後回傳\n",
    "    * 也就是說，這個要被拿來結合成新字串的串列中的所有元素，都必須是字串型態\n",
    "* 與 $\\rm{split()}$ 是一體的兩面，是非常常用的字串方法\n",
    "* 語法為 $\\color{orange}{分隔字元}$.$\\rm{join(串列)}$"
   ]
  },
  {
   "cell_type": "code",
   "execution_count": null,
   "metadata": {
    "slideshow": {
     "slide_type": "fragment"
    }
   },
   "outputs": [],
   "source": [
    "s1 = 'I love you. You complete me.'\n",
    "words1 = s1.split()\n",
    "print(words1)\n",
    "s2 = ''.join(words1)\n",
    "print(s2)\n",
    "# k = ['11', '18', '99', '3']\n",
    "# s3 = ' '.join(k)\n",
    "# print(s3)"
   ]
  }
 ],
 "metadata": {
  "kernelspec": {
   "display_name": "Python 3 (ipykernel)",
   "language": "python",
   "name": "python3"
  },
  "language_info": {
   "codemirror_mode": {
    "name": "ipython",
    "version": 3
   },
   "file_extension": ".py",
   "mimetype": "text/x-python",
   "name": "python",
   "nbconvert_exporter": "python",
   "pygments_lexer": "ipython3",
   "version": "3.9.12"
  },
  "toc": {
   "base_numbering": 1,
   "nav_menu": {},
   "number_sections": true,
   "sideBar": true,
   "skip_h1_title": false,
   "title_cell": "Table of Contents",
   "title_sidebar": "Contents",
   "toc_cell": false,
   "toc_position": {},
   "toc_section_display": true,
   "toc_window_display": false
  },
  "varInspector": {
   "cols": {
    "lenName": 16,
    "lenType": 16,
    "lenVar": 40
   },
   "kernels_config": {
    "python": {
     "delete_cmd_postfix": "",
     "delete_cmd_prefix": "del ",
     "library": "var_list.py",
     "varRefreshCmd": "print(var_dic_list())"
    },
    "r": {
     "delete_cmd_postfix": ") ",
     "delete_cmd_prefix": "rm(",
     "library": "var_list.r",
     "varRefreshCmd": "cat(var_dic_list()) "
    }
   },
   "types_to_exclude": [
    "module",
    "function",
    "builtin_function_or_method",
    "instance",
    "_Feature"
   ],
   "window_display": false
  }
 },
 "nbformat": 4,
 "nbformat_minor": 2
}
