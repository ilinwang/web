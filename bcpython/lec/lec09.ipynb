{
 "cells": [
  {
   "cell_type": "markdown",
   "metadata": {
    "slideshow": {
     "slide_type": "subslide"
    }
   },
   "source": [
    "### 字數統計\n",
    "<br>\n",
    "\n",
    "* 如果想針對某份文件做字數統計，該怎麼利用已經學過的方法來實作？\n",
    "    1. 逐行讀取，每一列讀進來的字數總量，就是把該列資料切開之後的串列長度，然後逐行加總\n",
    "    2. 若檔案不大，可考慮一次讀取整份文件，直接切開計算"
   ]
  },
  {
   "cell_type": "code",
   "execution_count": 3,
   "metadata": {
    "ExecuteTime": {
     "end_time": "2022-05-31T05:40:39.216335Z",
     "start_time": "2022-05-31T05:40:39.120339Z"
    },
    "slideshow": {
     "slide_type": "fragment"
    }
   },
   "outputs": [
    {
     "name": "stdout",
     "output_type": "stream",
     "text": [
      "547789\n"
     ]
    }
   ],
   "source": [
    "# word_count = 0\n",
    "# with open('mlist.txt', 'r') as file:\n",
    "#     for line in file:\n",
    "#         words = line.strip().split()\n",
    "# #         print(words)\n",
    "#         word_count += len(words)\n",
    "#     print(word_count)\n",
    "with open('mlist.txt', 'r') as f:\n",
    "    article = f.read()\n",
    "    words = article.split()\n",
    "    print(len(words))"
   ]
  },
  {
   "cell_type": "markdown",
   "metadata": {
    "slideshow": {
     "slide_type": "subslide"
    }
   },
   "source": [
    "* 計算 $\\rm{letter\\_freq.txt}$ 當中，各個字母出現的頻率總和"
   ]
  },
  {
   "cell_type": "code",
   "execution_count": 5,
   "metadata": {
    "ExecuteTime": {
     "end_time": "2022-05-31T05:48:03.274508Z",
     "start_time": "2022-05-31T05:48:03.267517Z"
    },
    "slideshow": {
     "slide_type": "fragment"
    }
   },
   "outputs": [
    {
     "name": "stdout",
     "output_type": "stream",
     "text": [
      "99.999\n"
     ]
    }
   ],
   "source": [
    "total = 0\n",
    "with open('letter_freq.txt', 'r') as file:\n",
    "    for line in file:\n",
    "        data = line.strip().split()\n",
    "#         print(data)\n",
    "        total += float(data[1])\n",
    "    print(total)"
   ]
  },
  {
   "cell_type": "markdown",
   "metadata": {
    "slideshow": {
     "slide_type": "subslide"
    }
   },
   "source": [
    "### 簡單字數計算\n",
    "<br>\n",
    "\n",
    "* 如何得知愛麗絲夢遊仙境的文本 $\\rm{(alice.txt)}$ 當中，$\\rm{Alice}$ 與 $\\rm{time}$ 這兩個詞出現的次數？\n",
    "* 如何能確保得到正確的計數？"
   ]
  },
  {
   "cell_type": "code",
   "execution_count": 7,
   "metadata": {
    "ExecuteTime": {
     "end_time": "2022-05-31T06:20:23.285905Z",
     "start_time": "2022-05-31T06:20:23.264993Z"
    },
    "slideshow": {
     "slide_type": "fragment"
    }
   },
   "outputs": [
    {
     "name": "stdout",
     "output_type": "stream",
     "text": [
      "Alice: 399\n",
      "time: 82\n"
     ]
    }
   ],
   "source": [
    "alice_count = 0\n",
    "time_count = 0\n",
    "with open('alice.txt', 'r') as file:\n",
    "    article = file.read().lower()\n",
    "    alice_count = article.count('alice')\n",
    "    time_count = article.count('time')\n",
    "    print(f'Alice: {alice_count}')\n",
    "    print(f'time: {time_count}') # 是否有遺漏的數量?"
   ]
  },
  {
   "cell_type": "markdown",
   "metadata": {
    "slideshow": {
     "slide_type": "subslide"
    }
   },
   "source": [
    "* 計算綠野仙蹤文本 $\\rm{oz.txt}$ 中，$\\rm{Scarecrow}$、$\\rm{Woodman}$ 與 $\\rm{Lion}$ 等三個詞出現的次數"
   ]
  },
  {
   "cell_type": "code",
   "execution_count": 16,
   "metadata": {
    "ExecuteTime": {
     "end_time": "2022-05-31T06:40:33.842104Z",
     "start_time": "2022-05-31T06:40:33.831131Z"
    },
    "scrolled": true,
    "slideshow": {
     "slide_type": "fragment"
    }
   },
   "outputs": [
    {
     "name": "stdout",
     "output_type": "stream",
     "text": [
      "Scarecrow: 226\n",
      "Woodman: 182\n",
      "Lion: 181\n"
     ]
    }
   ],
   "source": [
    "with open('oz.txt', 'r', encoding='UTF-8') as file:\n",
    "    article = file.read().lower()\n",
    "    print(f'Scarecrow: {article.count(\"scarecrow\")}')\n",
    "    print(f'Woodman: {article.count(\"woodman\")}')\n",
    "    print(f'Lion: {article.count(\"lion\")}')"
   ]
  },
  {
   "cell_type": "markdown",
   "metadata": {
    "slideshow": {
     "slide_type": "fragment"
    }
   },
   "source": [
    "* 開啟檔案時，很常會遇到 $\\rm{UnicodeDecodeError:\\space 'cp950'\\space codec\\space can't\\space encode\\space character\\space ...}$ 的錯誤\n",
    "    * 這個錯誤代表編碼的轉換出現問題\n",
    "    * 通常這不是 $\\rm{Python}$ 的問題，而是作業系統的問題。因此在程式需要跨平台使用時要注意\n",
    "    * 一勞永逸的解決方式就是在開啟檔案時直接指定編碼 ($\\rm\\color{orange}{encoding}$) 為 $\\rm\\color{orange}{UTF-8}$\n",
    "<br><br>\n",
    "* 字串 (包括 $\\rm{f}$-字串) 在需要使用兩次引號時，要特別留意"
   ]
  },
  {
   "cell_type": "markdown",
   "metadata": {
    "slideshow": {
     "slide_type": "subslide"
    }
   },
   "source": [
    "### 純文字檔的寫入\n",
    "<br>\n",
    "  \n",
    "#### 開啟檔案所要求的權限\n",
    "  \n",
    "        with open('完整檔名', 'w') as 代碼(別名):\n",
    "  \n",
    "* 與讀取時的語法一樣，只是此時對系統要求的權限為「$\\rm{w}$」\n",
    "* 若檔名不存在，系統會自動建立；若已存在，會$\\color{orange}{被覆寫}$\n",
    "---\n",
    "#### 寫入純文字檔的語法\n",
    "\n",
    "* 寫入的語法有兩種：$\\rm\\color{orange}{write()}$ 以及 $\\rm\\color{orange}{writelines()}$\n",
    "* $\\rm{write()}$ 的語法如下：\n",
    "  \n",
    "        別名.write('欲寫入的內容')\n",
    "  \n",
    "* 注意\n",
    "    1. 寫入的內容必須是$\\color{orange}{字串}$\n",
    "    2. 程式不會幫我們分行，所以在連續寫入時，會緊接在上次結束的位置之後\n",
    "    3. 因此，若希望每次的寫入都是獨立的一行，要記得在結尾加上 $\\rm\\color{orange}{\\backslash n}$\n",
    "<br><br>\n",
    "* 本學期課程與考試以 $\\rm{write()}$ 為主；$\\rm{writelines()}$ 留待有合適的實務資料檔時再一併練習實作"
   ]
  },
  {
   "cell_type": "code",
   "execution_count": 17,
   "metadata": {
    "ExecuteTime": {
     "end_time": "2022-05-31T06:57:22.845754Z",
     "start_time": "2022-05-31T06:57:05.807477Z"
    },
    "scrolled": true,
    "slideshow": {
     "slide_type": "subslide"
    }
   },
   "outputs": [
    {
     "name": "stdout",
     "output_type": "stream",
     "text": [
      "Add a new line of data to the file, Q/q to quit: jdfwieourik\n",
      "Add a new line of data to the file, Q/q to quit: 273343824\n",
      "Add a new line of data to the file, Q/q to quit: 0983864dfhdf\n",
      "Add a new line of data to the file, Q/q to quit: hahaha\n",
      "Add a new line of data to the file, Q/q to quit: q\n"
     ]
    }
   ],
   "source": [
    "with open('my_file.txt', 'w', encoding='UTF-8') as file:\n",
    "    while True:\n",
    "        line = input('Add a new line of data to the file, Q/q to quit: ')\n",
    "        if line == 'Q' or line == 'q':\n",
    "            break\n",
    "        file.write(line + '\\n')"
   ]
  },
  {
   "cell_type": "code",
   "execution_count": 18,
   "metadata": {
    "ExecuteTime": {
     "end_time": "2022-05-31T07:15:45.292582Z",
     "start_time": "2022-05-31T07:15:45.270654Z"
    },
    "slideshow": {
     "slide_type": "fragment"
    }
   },
   "outputs": [],
   "source": [
    "data = ['第一行', '第二行', '第三行']\n",
    "with open('my_file.txt', 'w') as file:\n",
    "    for line in data:\n",
    "        file.write(line + '\\n')"
   ]
  },
  {
   "cell_type": "markdown",
   "metadata": {
    "slideshow": {
     "slide_type": "subslide"
    }
   },
   "source": [
    "### 讀取檔案，獲取所需資訊之後，寫入另一檔案\n",
    "<br>\n",
    "\n",
    "* 比方說，我們想要執行如下的處理：\n",
    "    1. 把 $\\rm{mlist.txt}$ 中含有 $\\rm{umich.edu}$ 的資料列都擷取出來\n",
    "    2. 計算總行數\n",
    "    3. 把 $1.$ 和 $2.$ 的內容寫入一個叫 $\\rm{mlist\\_umich.txt}$ 的檔案裡\n",
    "* 此時，我們可利用如下語法，一次開啟兩個檔案：\n",
    "  \n",
    "        with open(檔案1, 權限1) as 別名1, open(檔案2, 權限2) as 別名2:\n",
    "  "
   ]
  },
  {
   "cell_type": "code",
   "execution_count": 19,
   "metadata": {
    "ExecuteTime": {
     "end_time": "2022-05-31T07:25:58.220939Z",
     "start_time": "2022-05-31T07:25:58.134733Z"
    },
    "slideshow": {
     "slide_type": "fragment"
    }
   },
   "outputs": [],
   "source": [
    "line_count = 0\n",
    "with open('mlist.txt', 'r') as fin, open('mlist_umich.txt', 'w') as fout:\n",
    "    for line in fin:\n",
    "        if 'umich.edu' in line:\n",
    "            line_count += 1\n",
    "            fout.write(line)\n",
    "    fout.write('\\nTotal line counts: ' + str(line_count))"
   ]
  },
  {
   "cell_type": "markdown",
   "metadata": {
    "slideshow": {
     "slide_type": "subslide"
    }
   },
   "source": [
    "* 計算 $\\rm{there}$、$\\rm{you}$ 和 $\\rm{then}$ 在愛麗絲夢遊仙境文本中出現的次數，並把結果分行寫入 $\\rm{alice\\_freq.txt}$，格式如下：\n",
    "  \n",
    "        there: xxx  \n",
    "        you: xxx  \n",
    "        then: xxx"
   ]
  },
  {
   "cell_type": "code",
   "execution_count": 20,
   "metadata": {
    "ExecuteTime": {
     "end_time": "2022-05-31T07:30:49.866489Z",
     "start_time": "2022-05-31T07:30:49.853530Z"
    },
    "slideshow": {
     "slide_type": "fragment"
    }
   },
   "outputs": [],
   "source": [
    "with open('alice.txt', 'r') as fin, open('alice_freq.txt', 'w') as fout:\n",
    "    article = fin.read().lower()\n",
    "    fout.write('there: ' + str(article.count('there')) + '\\n')\n",
    "    fout.write('you: ' + str(article.count('you')) + '\\n')\n",
    "    fout.write('then: ' + str(article.count('then')) + '\\n')"
   ]
  },
  {
   "cell_type": "markdown",
   "metadata": {
    "slideshow": {
     "slide_type": "subslide"
    }
   },
   "source": [
    "* 計算 $\\rm{alice.txt}$ 檔案中的$\\color{orange}{總列數}$、$\\color{orange}{總字數}$與$\\color{orange}{總空格數}$，然後分行寫入一個叫 $\\rm{alice\\_stat.txt}$ 的檔案中"
   ]
  },
  {
   "cell_type": "code",
   "execution_count": 21,
   "metadata": {
    "ExecuteTime": {
     "end_time": "2022-05-31T07:40:25.994295Z",
     "start_time": "2022-05-31T07:40:25.978378Z"
    },
    "slideshow": {
     "slide_type": "fragment"
    }
   },
   "outputs": [],
   "source": [
    "line_count = 0\n",
    "space_count = 0\n",
    "word_count = 0\n",
    "with open('alice.txt', 'r') as fin, open('alice_stat.txt', 'w') as fout:\n",
    "    for line in fin:\n",
    "        line_count += 1\n",
    "        space_count += line.strip().count(' ')\n",
    "        word_count += len(line.strip().split())\n",
    "    fout.write('line: ' + str(line_count) + '\\n')\n",
    "    fout.write('word: ' + str(word_count) + '\\n')\n",
    "    fout.write('space: ' + str(space_count) + '\\n')"
   ]
  },
  {
   "cell_type": "markdown",
   "metadata": {
    "slideshow": {
     "slide_type": "subslide"
    }
   },
   "source": [
    "### 串列方法\n",
    "<br>\n",
    "\n",
    "* 最常用的功能：新增、刪除、排序\n",
    "* 在之前已經學過利用非串列方法來新增和刪除元素"
   ]
  },
  {
   "cell_type": "code",
   "execution_count": 24,
   "metadata": {
    "ExecuteTime": {
     "end_time": "2022-05-31T07:44:24.432041Z",
     "start_time": "2022-05-31T07:44:24.414089Z"
    },
    "slideshow": {
     "slide_type": "fragment"
    }
   },
   "outputs": [
    {
     "name": "stdout",
     "output_type": "stream",
     "text": [
      "['apple', 'banana', 'orange']\n",
      "['apple', 'banana', 'orange', 'watermelon']\n",
      "['apple', 'banana', 'orange', 'watermelon', 'kiwi', 'grape']\n",
      "\n",
      "['apple', 'banana', 'watermelon', 'kiwi', 'grape']\n",
      "['apple', 'banana', 'grape']\n"
     ]
    }
   ],
   "source": [
    "# 非串列方法新增元素\n",
    "k = ['apple', 'banana', 'orange']\n",
    "print(k)\n",
    "k += ['watermelon'] # 注意串列只能與串列相加\n",
    "print(k)\n",
    "k += ['kiwi', 'grape'] # 可一次新增一個以上的元素\n",
    "print(k)\n",
    "print()\n",
    "\n",
    "# 非串列方法刪除元素\n",
    "del k[2]\n",
    "print(k)\n",
    "del k[2:4]\n",
    "print(k)\n"
   ]
  },
  {
   "cell_type": "markdown",
   "metadata": {
    "slideshow": {
     "slide_type": "subslide"
    }
   },
   "source": [
    "* 使用 $\\rm{append()/remove()}$ 來新增/移除$\\color{orange}{一個}$串列元素\n",
    "  \n",
    "        串列名稱.append(欲新增的元素)\n",
    "  \n",
    "* 使用 $\\rm{extend()}$ 來新增一個串列中的所有元素\n",
    "  \n",
    "        串列名稱.extend(將欲新增的一個以上元素置於串列中)"
   ]
  },
  {
   "cell_type": "code",
   "execution_count": 28,
   "metadata": {
    "ExecuteTime": {
     "end_time": "2022-05-31T07:49:23.467634Z",
     "start_time": "2022-05-31T07:49:23.450678Z"
    },
    "slideshow": {
     "slide_type": "fragment"
    }
   },
   "outputs": [
    {
     "name": "stdout",
     "output_type": "stream",
     "text": [
      "['apple', 'banana', 'orange']\n",
      "['apple', 'banana', 'orange', 'watermelon']\n",
      "['apple', 'banana', 'orange', 'watermelon', 'kiwi', 'grape']\n",
      "\n"
     ]
    }
   ],
   "source": [
    "k = ['apple', 'banana', 'orange']\n",
    "print(k)\n",
    "k.append('watermelon')\n",
    "print(k)\n",
    "# k.append('kiwi', 'grape') # append() 中只能放一個元素\n",
    "# k.append(['kiwi', 'grape']) # 注意差別\n",
    "# print(k)\n",
    "s = ['kiwi', 'grape']\n",
    "k.extend(s)\n",
    "print(k)\n",
    "print()\n",
    "\n",
    "# k.remove('grape') # remove() 中放的是值，而使用 del 刪除則要使用索引值\n",
    "# print(k)\n",
    "# k.remove('kiwi')\n",
    "# k.remove('orange')\n",
    "# print(k)"
   ]
  },
  {
   "cell_type": "markdown",
   "metadata": {
    "slideshow": {
     "slide_type": "subslide"
    }
   },
   "source": [
    "* 使用 $\\rm{sort()}$ 則可將一個串列做排序\n",
    "  \n",
    "        串列名稱.sort()\n",
    "  \n",
    "* 可在當中利用參數 $\\rm\\color{orange}{reverse}$ 來控制排序的方向。預設值為 $\\rm{False}$，代表由小到大，改為 $\\rm{True}$ 則為由大到小"
   ]
  },
  {
   "cell_type": "code",
   "execution_count": 32,
   "metadata": {
    "ExecuteTime": {
     "end_time": "2022-05-31T07:53:16.884711Z",
     "start_time": "2022-05-31T07:53:16.864760Z"
    },
    "slideshow": {
     "slide_type": "fragment"
    }
   },
   "outputs": [
    {
     "name": "stdout",
     "output_type": "stream",
     "text": [
      "[35, 11, 8, 26, 13, -9]\n",
      "[-9, 8, 11, 13, 26, 35]\n",
      "[35, 26, 13, 11, 8, -9]\n",
      "84 35 -9 14.0\n"
     ]
    }
   ],
   "source": [
    "n = [35, 11, 8, 26, 13, -9]\n",
    "print(n)\n",
    "n.sort()\n",
    "print(n)\n",
    "n.sort(reverse=True)\n",
    "print(n)\n",
    "\n",
    "# 可用內建函式來取總和、最大值與最小值\n",
    "a = sum(n)\n",
    "b = max(n)\n",
    "c = min(n)\n",
    "print(a, b, c, sum(n)/len(n))"
   ]
  },
  {
   "cell_type": "markdown",
   "metadata": {
    "slideshow": {
     "slide_type": "subslide"
    }
   },
   "source": [
    "* $\\rm{scene\\_recog.txt}$ 是 [MIT SUN Database](https://groups.csail.mit.edu/vision/SUN/hierarchy.html) 中的部分圖片資料，請利用目前所學，找出此份純文字檔中含有幾個圖片類別"
   ]
  },
  {
   "cell_type": "code",
   "execution_count": 36,
   "metadata": {
    "ExecuteTime": {
     "end_time": "2022-05-31T08:06:35.156837Z",
     "start_time": "2022-05-31T08:06:35.078045Z"
    },
    "slideshow": {
     "slide_type": "fragment"
    }
   },
   "outputs": [
    {
     "name": "stdout",
     "output_type": "stream",
     "text": [
      "Total categories: 362\n"
     ]
    }
   ],
   "source": [
    "category = []\n",
    "with open('scene_recog.txt', 'r') as file:\n",
    "    for line in file:\n",
    "        data = line.strip().split('/')\n",
    "#         print(data)\n",
    "        if data[2] not in category:\n",
    "            category.append(data[2])\n",
    "#     print(category)\n",
    "    print(f'Total categories: {len(category)}')"
   ]
  },
  {
   "cell_type": "code",
   "execution_count": null,
   "metadata": {},
   "outputs": [],
   "source": []
  }
 ],
 "metadata": {
  "kernelspec": {
   "display_name": "Python 3 (ipykernel)",
   "language": "python",
   "name": "python3"
  },
  "language_info": {
   "codemirror_mode": {
    "name": "ipython",
    "version": 3
   },
   "file_extension": ".py",
   "mimetype": "text/x-python",
   "name": "python",
   "nbconvert_exporter": "python",
   "pygments_lexer": "ipython3",
   "version": "3.9.12"
  },
  "toc": {
   "base_numbering": 1,
   "nav_menu": {},
   "number_sections": true,
   "sideBar": true,
   "skip_h1_title": false,
   "title_cell": "Table of Contents",
   "title_sidebar": "Contents",
   "toc_cell": false,
   "toc_position": {},
   "toc_section_display": true,
   "toc_window_display": false
  },
  "varInspector": {
   "cols": {
    "lenName": 16,
    "lenType": 16,
    "lenVar": 40
   },
   "kernels_config": {
    "python": {
     "delete_cmd_postfix": "",
     "delete_cmd_prefix": "del ",
     "library": "var_list.py",
     "varRefreshCmd": "print(var_dic_list())"
    },
    "r": {
     "delete_cmd_postfix": ") ",
     "delete_cmd_prefix": "rm(",
     "library": "var_list.r",
     "varRefreshCmd": "cat(var_dic_list()) "
    }
   },
   "types_to_exclude": [
    "module",
    "function",
    "builtin_function_or_method",
    "instance",
    "_Feature"
   ],
   "window_display": false
  }
 },
 "nbformat": 4,
 "nbformat_minor": 4
}
