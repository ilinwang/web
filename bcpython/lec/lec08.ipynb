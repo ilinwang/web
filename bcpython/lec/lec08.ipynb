{
 "cells": [
  {
   "cell_type": "markdown",
   "metadata": {
    "slideshow": {
     "slide_type": "subslide"
    }
   },
   "source": [
    "### 簡單字串處理\n",
    "<br>\n",
    "  \n",
    "* 在某些資料處理的場合，我們會希望在未經整理的字串中找出有資訊價值的子字串\n",
    "* 例如，現在有大量如下格式的字串需要處理\n",
    "  \n",
    "> From stephen.marquard@uct.ac.za Sat Jan  5 09:14:16 2008  \n",
    "  \n",
    "* 假設現在我們只對 $\\rm{email}$ 後半段 ($\\rm{uct.ac.za}$) 的寄件人網域感興趣，該怎麼做?"
   ]
  },
  {
   "cell_type": "code",
   "execution_count": null,
   "metadata": {
    "slideshow": {
     "slide_type": "fragment"
    }
   },
   "outputs": [],
   "source": [
    "# 利用 find() 與切片\n",
    "data = 'From stephen.marquard@uct.ac.za Sat Jan  5 09:14:16 2008'\n",
    "at_pos = data.find('@')\n",
    "print(at_pos)\n",
    "space_pos = data.find(' ', at_pos)\n",
    "print(space_pos)\n",
    "host = data[at_pos+1:space_pos]\n",
    "print(host)"
   ]
  },
  {
   "cell_type": "code",
   "execution_count": null,
   "metadata": {
    "slideshow": {
     "slide_type": "fragment"
    }
   },
   "outputs": [],
   "source": [
    "# 利用 split()\n",
    "data = 'From stephen.marquard@uct.ac.za Sat Jan  5 09:14:16 2008'\n",
    "words = data.split()\n",
    "print(words)\n",
    "email = words[1].split('@')\n",
    "print(email)\n",
    "domain = email[1]\n",
    "print(domain)"
   ]
  },
  {
   "cell_type": "markdown",
   "metadata": {
    "slideshow": {
     "slide_type": "subslide"
    }
   },
   "source": [
    "### 開啟檔案\n",
    "<br>\n",
    "  \n",
    "* 無論想要讀取或寫入檔案，首先都必須$\\color{orange}{開啟}$檔案\n",
    "* 打開檔案是一個與作業系統溝通的過程，因為系統知道每個檔案的資料存放的位置\n",
    "* 當我們打開檔案時，實際上我們是在要求作業系統\n",
    "    * 用檔案名稱尋找檔案\n",
    "    * 確認檔案是否存在\n",
    "* 在下面的例子裡，我們打開 $\\rm{mlist\\_ short.txt}$ 這個檔案\n",
    "    * 先確認它和 $\\rm{lec08}$ 放在同一個目錄下"
   ]
  },
  {
   "cell_type": "code",
   "execution_count": null,
   "metadata": {
    "slideshow": {
     "slide_type": "subslide"
    }
   },
   "outputs": [],
   "source": [
    "with open('mlist_short.txt', 'r') as file:"
   ]
  },
  {
   "cell_type": "markdown",
   "metadata": {
    "slideshow": {
     "slide_type": "subslide"
    }
   },
   "source": [
    "* 開啟檔案的語法為 $\\rm\\color{orange}{with\\space open(檔名,\\space 模式)\\space as\\space 代碼(別名):}$ (注意冒號！)\n",
    "    1. 注意$\\color{orange}{檔名}$和$\\color{orange}{模式}$都是$\\color{orange}{字串}$格式\n",
    "    2. 若不在同一目錄，需要將檔名部分改為完整路徑；同一目錄下只需輸入檔名即可。本學期課程不會學到不同路徑下的檔案處理\n",
    "    3. 檔名必須包含$\\color{orange}{副檔名}$\n",
    "    4. 模式的部分，常用的有三種：「$\\rm{r}$」讀取、「$\\rm{w}$」寫入、「$\\rm{a}$」附加。若省略則會使用預設值「$\\rm{r}$」\n",
    "    <br><br>\n",
    "\n",
    "* 上面程式碼中的 $\\rm{file}$ 稱為檔案代碼 ($\\rm{file\\space handle}$)。正規的解釋有一點抽象，所以先把它當成是我們給被開啟的那個檔案的別名\n",
    "    * 開啟之後到結束處理之前，都必須使用這個別名來稱呼這個檔案，並藉此進行處理"
   ]
  },
  {
   "cell_type": "markdown",
   "metadata": {
    "slideshow": {
     "slide_type": "subslide"
    }
   },
   "source": [
    "### 讀取純文字檔案\n",
    "<br>\n",
    "\n",
    "* 一般而言有下列 $3$ 種常用的方法\n",
    "    1. $\\rm\\color{orange}{read()}$: 一次讀取整份文字檔。用在檔案不大，且我們想對整份文件做處理的時候。處理巨大文字檔時要考慮一下電腦記憶體的大小\n",
    "    2. $\\rm\\color{orange}{readlines()}$: 一次讀取整份文字檔，並把每一行文字存成獨立的字串，最後把這些字串放入一個串列中回傳\n",
    "    3. 如果只是想要逐行讀取，那麼對檔案代碼使用$\\color{orange}{迴圈}$即可\n",
    "        * 在使用迴圈逐行讀取檔案時，程式會偵測換行字元「$\\rm{\\backslash n}$」的位置，並且把它當作每一行的最後一個字元\n",
    "        * 「$\\rm{\\backslash n}$」的下一個字則是下一行的第一個字，一直到又遇到下一個換行字元\n",
    "        * 因為每次只讀一行，所以在讀取檔案的時候不會受到檔案大小的影響\n",
    "        * 又因為每次只有「讀取一行、捨棄目前這行之後讀取新的一行」兩個簡單的動作，所以執行的速度非常快"
   ]
  },
  {
   "cell_type": "code",
   "execution_count": null,
   "metadata": {
    "slideshow": {
     "slide_type": "fragment"
    }
   },
   "outputs": [],
   "source": [
    "with open('mlist_short.txt', 'r') as file:\n",
    "#     print(file.read())\n",
    "#     print(file.readlines())\n",
    "    for line in file:\n",
    "        line = line.strip()\n",
    "        print(line)"
   ]
  },
  {
   "cell_type": "markdown",
   "metadata": {
    "slideshow": {
     "slide_type": "subslide"
    }
   },
   "source": [
    "* 利用逐行讀取的方式，可以輕鬆得到文字檔的總行數"
   ]
  },
  {
   "cell_type": "code",
   "execution_count": null,
   "metadata": {
    "slideshow": {
     "slide_type": "fragment"
    }
   },
   "outputs": [],
   "source": [
    "line_count = 0\n",
    "with open('mlist_short.txt', 'r') as file:\n",
    "    for line in file:\n",
    "        line_count += 1\n",
    "    print(line_count)"
   ]
  },
  {
   "cell_type": "markdown",
   "metadata": {
    "slideshow": {
     "slide_type": "subslide"
    }
   },
   "source": [
    "### 搜尋並篩選檔案內容\n",
    "<br>\n",
    "  \n",
    "* 搜尋檔案中的資料時，程式會逐行讀取並進行比對，然後只處理滿足特定條件的行\n",
    "* 我們可以將檔案讀取與字串方法結合起來，構建簡單的搜尋機制\n",
    "* 比方說，我們只想要印出檔案中以「$\\rm{From:}$」作為開頭的行\n",
    "* 那麼，可以使用前面學過的字串方法 $\\rm{startswith()}$ 來篩選這些資料"
   ]
  },
  {
   "cell_type": "code",
   "execution_count": null,
   "metadata": {
    "slideshow": {
     "slide_type": "fragment"
    }
   },
   "outputs": [],
   "source": [
    "with open('mlist_short.txt', 'r') as file:\n",
    "    for line in file:\n",
    "#         line = line.strip()\n",
    "        if line.startswith('From:'):\n",
    "            print(line)"
   ]
  },
  {
   "cell_type": "markdown",
   "metadata": {
    "slideshow": {
     "slide_type": "subslide"
    }
   },
   "source": [
    "* 輸出結果很不錯，但為什麼行與行之間多了一個空行？\n",
    "* 這是因為：\n",
    "    1. 每一行的結尾都有一個隱形的換行字元$\\rm\\color{orange}{「\\backslash n」}$\n",
    "    2. $\\rm{print()}$ 本身也帶一個$\\rm\\color{orange}{「\\backslash n」}$\n",
    "* 因此，相當於印完一行資料之後按了兩次 $\\rm{enter}$ 鍵\n",
    "* 怎麼把這些隱形的東西都清除掉？"
   ]
  },
  {
   "cell_type": "code",
   "execution_count": null,
   "metadata": {
    "slideshow": {
     "slide_type": "fragment"
    }
   },
   "outputs": [],
   "source": [
    "with open('mlist_short.txt', 'r') as file:\n",
    "    for line in file:\n",
    "        line = line.strip()\n",
    "        if line.startswith('From:'):\n",
    "            print(line)"
   ]
  },
  {
   "cell_type": "markdown",
   "metadata": {
    "slideshow": {
     "slide_type": "subslide"
    }
   },
   "source": [
    "* 上面的寫法也可改以 $\\rm{continue}$ 來建構\n",
    "* 執行搜尋功能時其實還滿常用到 $\\rm{continue}$ 的"
   ]
  },
  {
   "cell_type": "code",
   "execution_count": null,
   "metadata": {
    "slideshow": {
     "slide_type": "fragment"
    }
   },
   "outputs": [],
   "source": [
    "with open('mlist_short.txt', 'r') as file:\n",
    "    for line in file:\n",
    "        line = line.strip()\n",
    "        if not line.startswith('From:'):\n",
    "            continue\n",
    "        print(line)"
   ]
  },
  {
   "cell_type": "markdown",
   "metadata": {
    "slideshow": {
     "slide_type": "subslide"
    }
   },
   "source": [
    "* 對於有興趣的關鍵字不在開始或結尾的情況，可以利用 $\\rm{find()}$\n",
    "* 例如，我們希望找出 $\\rm{mlist\\_short.txt}$ 中含有 $\\rm{@uct.ac.za}$ 這個 $\\rm{email}$ 網域的該行資料\n",
    "* 使用 $\\rm{find()}$ 和 $\\rm{in}$ 的效果是一樣的。下面的範例也可使用 $\\rm{in}$ 來改寫"
   ]
  },
  {
   "cell_type": "code",
   "execution_count": null,
   "metadata": {
    "slideshow": {
     "slide_type": "fragment"
    }
   },
   "outputs": [],
   "source": [
    "with open('mlist_short.txt', 'r') as file:\n",
    "    for line in file:\n",
    "        line = line.strip()\n",
    "#         if line.find('@uct.ac.za') != -1:\n",
    "#             print(line)\n",
    "        if '@uct.ac.za' in line:\n",
    "            print(line)"
   ]
  },
  {
   "cell_type": "markdown",
   "metadata": {
    "slideshow": {
     "slide_type": "subslide"
    }
   },
   "source": [
    "* 找出 $\\rm{mlist\\_ short.txt}$ 中所有以「$\\rm{Received:}$」開頭的資料行，並將它們全部轉成大寫之後輸出"
   ]
  },
  {
   "cell_type": "code",
   "execution_count": null,
   "metadata": {
    "scrolled": true,
    "slideshow": {
     "slide_type": "fragment"
    }
   },
   "outputs": [],
   "source": [
    "with open('mlist_short.txt', 'r') as file:\n",
    "    for line in file:\n",
    "        line = line.strip()\n",
    "        if line.startswith('Received:'):\n",
    "            print(line.upper())"
   ]
  },
  {
   "cell_type": "markdown",
   "metadata": {
    "slideshow": {
     "slide_type": "subslide"
    }
   },
   "source": [
    "* 找出 $\\rm{mlist\\_ short.txt}$ 中，含有「umich.edu」的總行數"
   ]
  },
  {
   "cell_type": "code",
   "execution_count": 25,
   "metadata": {
    "ExecuteTime": {
     "end_time": "2022-05-24T07:45:23.804489Z",
     "start_time": "2022-05-24T07:45:23.792521Z"
    },
    "slideshow": {
     "slide_type": "fragment"
    }
   },
   "outputs": [
    {
     "name": "stdout",
     "output_type": "stream",
     "text": [
      "191\n"
     ]
    }
   ],
   "source": [
    "line_count = 0\n",
    "with open('mlist_short.txt', 'r') as file:\n",
    "    for line in file:\n",
    "#         line = line.strip()\n",
    "        if 'umich.edu' in line:\n",
    "            line_count += 1\n",
    "    print(line_count)"
   ]
  },
  {
   "cell_type": "markdown",
   "metadata": {
    "slideshow": {
     "slide_type": "subslide"
    }
   },
   "source": [
    "1. 寫出一個程式，讓使用者輸入\n",
    "    1. 想要開啟的檔案名稱\n",
    "    2. 想要在該檔案中尋找的字串\n",
    "<br><br>\n",
    "2. 然後\n",
    "    1. 印出每一行含有該字串的資料\n",
    "    2. 並且在最後輸出含有該資料的總行數\n",
    "<br><br>\n",
    "3. 完成之後，請尋找並印出 $\\rm{vt.edu}$ 在 $\\rm{mlist.txt}$ 中出現的總行數"
   ]
  },
  {
   "cell_type": "code",
   "execution_count": null,
   "metadata": {
    "slideshow": {
     "slide_type": "fragment"
    }
   },
   "outputs": [],
   "source": []
  },
  {
   "cell_type": "markdown",
   "metadata": {
    "slideshow": {
     "slide_type": "subslide"
    }
   },
   "source": [
    "### 利用 $\\rm{split()}$ 做簡單資料處理\n",
    "<br>\n",
    "\n",
    "\n",
    "* $\\rm{letter\\_freq.txt}$ 儲存了每個英文字母出現的頻率 (${\\%}$)。想要知道 $\\rm{k}$ 出現的頻率，該怎麼做?"
   ]
  },
  {
   "cell_type": "code",
   "execution_count": 29,
   "metadata": {
    "ExecuteTime": {
     "end_time": "2022-05-24T07:57:50.542755Z",
     "start_time": "2022-05-24T07:57:50.530776Z"
    },
    "slideshow": {
     "slide_type": "fragment"
    }
   },
   "outputs": [
    {
     "name": "stdout",
     "output_type": "stream",
     "text": [
      "0.772\n"
     ]
    }
   ],
   "source": [
    "with open('letter_freq.txt', 'r') as file:\n",
    "    for line in file:\n",
    "        words = line.strip().split()\n",
    "        if words[0] == 'k':\n",
    "            print(words[1])"
   ]
  },
  {
   "cell_type": "markdown",
   "metadata": {
    "slideshow": {
     "slide_type": "subslide"
    }
   },
   "source": [
    "### 字數統計\n",
    "<br>\n",
    "\n",
    "* 如果想針對某份文件做字數統計，該怎麼利用已經學過的方法來實作？\n",
    "* 我們固然可以計算逐行的字數後加總，但一口氣讀進來之後再利用 $\\rm{split()}$ 切開計數，可能會是比較俐落的方式"
   ]
  },
  {
   "cell_type": "code",
   "execution_count": null,
   "metadata": {
    "slideshow": {
     "slide_type": "fragment"
    }
   },
   "outputs": [],
   "source": []
  }
 ],
 "metadata": {
  "kernelspec": {
   "display_name": "Python 3 (ipykernel)",
   "language": "python",
   "name": "python3"
  },
  "language_info": {
   "codemirror_mode": {
    "name": "ipython",
    "version": 3
   },
   "file_extension": ".py",
   "mimetype": "text/x-python",
   "name": "python",
   "nbconvert_exporter": "python",
   "pygments_lexer": "ipython3",
   "version": "3.9.12"
  },
  "toc": {
   "base_numbering": 1,
   "nav_menu": {},
   "number_sections": true,
   "sideBar": true,
   "skip_h1_title": false,
   "title_cell": "Table of Contents",
   "title_sidebar": "Contents",
   "toc_cell": false,
   "toc_position": {},
   "toc_section_display": true,
   "toc_window_display": false
  },
  "varInspector": {
   "cols": {
    "lenName": 16,
    "lenType": 16,
    "lenVar": 40
   },
   "kernels_config": {
    "python": {
     "delete_cmd_postfix": "",
     "delete_cmd_prefix": "del ",
     "library": "var_list.py",
     "varRefreshCmd": "print(var_dic_list())"
    },
    "r": {
     "delete_cmd_postfix": ") ",
     "delete_cmd_prefix": "rm(",
     "library": "var_list.r",
     "varRefreshCmd": "cat(var_dic_list()) "
    }
   },
   "types_to_exclude": [
    "module",
    "function",
    "builtin_function_or_method",
    "instance",
    "_Feature"
   ],
   "window_display": false
  }
 },
 "nbformat": 4,
 "nbformat_minor": 2
}
