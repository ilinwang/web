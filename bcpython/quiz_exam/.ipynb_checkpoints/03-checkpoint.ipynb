{
 "cells": [
  {
   "cell_type": "markdown",
   "metadata": {},
   "source": [
    "### $\\pi$ 的近似值\n",
    "<br>\n",
    "\n",
    "關於 $\\pi$ 的近似方法，大約有 $5$ 種。這裡我們選用其中一種級數來計算：\n",
    "<br><br>\n",
    "  \n",
    "$\\pi=3+\\frac{4}{2\\times3\\times4}-\\frac{4}{4\\times5\\times6}+\\frac{4}{6\\times7\\times8}-\\frac{4}{8\\times9\\times10}+\\cdot\\cdot\\cdot$\n",
    "\n",
    "<br><br>\n",
    "當這個級數成長得越大，所計算出的 $\\pi$ 值就越準。請觀察上面的級數規律，利用 $\\rm{for}$ 迴圈實作出 $\\pi$ 的近似值。請至少把級數拓展至第 $50000$ 項。\n",
    "<br><br>\n",
    "提示：可以先把最前面的 $3$ 忽略，將迴圈內容專注在後面有規律的項次，待迴圈執行完畢後再把它加回去。"
   ]
  },
  {
   "cell_type": "code",
   "execution_count": null,
   "metadata": {},
   "outputs": [],
   "source": []
  },
  {
   "cell_type": "markdown",
   "metadata": {},
   "source": [
    "### 基因的產生與比對\n",
    "$\\rm{DNA}$ 的序列由四種不同的鹼基組成，分別可簡寫為 $\\rm{A、T、C、G}$。而所謂基因，指的是 $\\rm{DNA}$ 中的一個片段。  \n",
    "  \n",
    "(1)  \n",
    "讓使用者自由輸入想要產生的數量與長度，隨機生成基因並使用 $\\rm{f}$ 字串方式輸出。格式如下:  \n",
    "  \n",
    "> 輸入基因個數: $8$  \n",
    "> 輸入基因中的鹼基數量: $12$  \n",
    ">  \n",
    "> 基因 $0$: $\\rm{GGGGAAGCTTCA}$  \n",
    "> 基因 $1$: $\\rm{CAGGTCATTAGC}$  \n",
    "> 基因 $2$: $\\rm{CTGTAGCAGAGT}$  \n",
    "> 基因 $3$: $\\rm{TATTCCTATTGT}$  \n",
    "> 基因 $4$: $\\rm{AACCTCACTGCT}$  \n",
    "> 基因 $5$: $\\rm{GTCCCACTAAGA}$  \n",
    "> 基因 $6$: $\\rm{ACGACAGATAAT}$  \n",
    "> 基因 $7$: $\\rm{AAGAAGTTTAGT}$  \n",
    "  "
   ]
  },
  {
   "cell_type": "code",
   "execution_count": null,
   "metadata": {},
   "outputs": [],
   "source": []
  },
  {
   "cell_type": "markdown",
   "metadata": {},
   "source": [
    "(2)  \n",
    "現在，讓我們執行遺傳學中非常常見的程序: 比對兩個基因序列。我們現在想要比對人類 ($\\rm{human}$) 和黑猩猩 ($\\rm{chimpanzee}$) 的其中一段基因，如下所示:  \n",
    "  \n",
    "> $\\rm{human}$ = '$\\rm{ATA?CAAGACCTCGTTATTAATACGGCGCCATGTGAGTAATCCTATC?GA}$'  \n",
    "> $\\rm{chimp}$ = '$\\rm{ATAACAAGAGCTAGTTATTA?TACTGCGCCATGTGAGAAATCCTATAGGA}$'  \n",
    "  \n",
    "我們想要知道這兩組基因序列中，有多少個位置具有相同與不同的鹼基，以及總共在多少個位置有未知的 (以「?」表示) 鹼基。請直接複製 ($\\rm{ctrl+c}$) 上面兩段基因到程式碼中，並使用 $\\rm{f}$ 字串輸出如下的結果:  \n",
    "  \n",
    "> 在 $42$ 個位置發現相同的鹼基   \n",
    "> 在 $5$ 個位置發現不同的鹼基  \n",
    "> 在 $3$ 個位置發現未知的鹼基  \n",
    "  \n",
    "<br>\n",
    "註：只要在任一基因中的任一位置出現「?」，不論另一基因相對位置為何，都代表含有未知的鹼基，且$\\color{orange}{出現未知的鹼基時，不會計入不同的鹼基數量中}$。"
   ]
  },
  {
   "cell_type": "code",
   "execution_count": null,
   "metadata": {},
   "outputs": [],
   "source": []
  },
  {
   "cell_type": "markdown",
   "metadata": {},
   "source": [
    "### 星座分析\n",
    "<br>\n",
    "\n",
    "首先，要求使用者分別輸入生日的年、月、日與性別，判斷其星座與象位，並根據其象位給出對應的評語。接者，計算其生命靈數。最後，詢問使用者是否需要再次輸入資料，若使用者的回答為「Y」或「y」則繼續，否則結束程式。\n",
    "<br><br>\n",
    "\n",
    "各象位的評語如下：  \n",
    "* 風象：憑感覺做事，很有自己的想法，感情中喜歡自由自在的相處關係\n",
    "* 土象：想法較傳統，做事按部就班，感情中渴望穩定的關係\n",
    "* 火象：想法樂觀，個性直率、真誠，討厭猜忌，感情喜歡主動出擊\n",
    "* 水象：多愁善感，重情重義，感情中渴望能帶來安全感的關係\n",
    "<br><br>\n",
    "\n",
    "生命靈數指的是西元年月日的各個「位數」加總起來的和，而這個和只會介於 $0-9$。若超過 $9$，則需要再將它拆解為分別的兩個位數相加。例如，某人生日為 $1990$ 年 $11$ 月 $21$ 日，則他的生命靈數為 $1+9+9+0+1+1+2+1=24\\Longrightarrow2+4=6$。\n",
    "<br><br>\n",
    "星座與象位的對應日期如下: \n",
    "<br>\n",
    "![probabilities](03-01.jpg)\n",
    "<br>\n",
    "\n",
    "以下是一個輸出的範例:\n",
    "> 請輸入出生年分: $1990$  \n",
    "> 請輸入出生月分: $11$  \n",
    "> 請輸入出生日期: $21$  \n",
    "> 請輸入性別：男\n",
    ">   \n",
    "> 哈囉$!$ 生命靈數為 $6$ 的水象天蠍男。你多愁善感，重情重義，感情中渴望能帶來安全感的關係。  \n",
    "  \n",
    "注意，顯示資訊時必須使用 $\\rm{f}$ 字串做為輸出的手法。"
   ]
  },
  {
   "cell_type": "code",
   "execution_count": null,
   "metadata": {},
   "outputs": [],
   "source": []
  }
 ],
 "metadata": {
  "kernelspec": {
   "display_name": "Python 3 (ipykernel)",
   "language": "python",
   "name": "python3"
  },
  "language_info": {
   "codemirror_mode": {
    "name": "ipython",
    "version": 3
   },
   "file_extension": ".py",
   "mimetype": "text/x-python",
   "name": "python",
   "nbconvert_exporter": "python",
   "pygments_lexer": "ipython3",
   "version": "3.9.12"
  },
  "toc": {
   "base_numbering": 1,
   "nav_menu": {},
   "number_sections": true,
   "sideBar": true,
   "skip_h1_title": false,
   "title_cell": "Table of Contents",
   "title_sidebar": "Contents",
   "toc_cell": false,
   "toc_position": {},
   "toc_section_display": true,
   "toc_window_display": false
  }
 },
 "nbformat": 4,
 "nbformat_minor": 4
}
