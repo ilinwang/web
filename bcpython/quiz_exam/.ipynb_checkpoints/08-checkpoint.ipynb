{
 "cells": [
  {
   "cell_type": "markdown",
   "id": "c350093f",
   "metadata": {},
   "source": [
    "### $\\Bbb{Q1.}$\n",
    "<br>\n",
    "  \n",
    "模擬 $\\rm\\color{orange}{10}$ 輪三人猜拳 $\\rm\\color{orange}{1000}$ 次的情況 (亦即，每輪都猜 $\\rm{1000}$ 次，共猜 $\\rm{10} 輪$)。三人出拳的偏好如下：\n",
    "<br>\n",
    "![pref_all](08-01.jpg)\n",
    "<br>\n",
    "但是，每當猜拳次數為 $\\rm\\color{orange}{3、5、7}$ 的倍數時，$\\rm{A、B、C}$ 的出拳機率各會變成如下的情況 (注意$\\rm\\color{orange}{公倍數}$)：\n",
    "<br>\n",
    "![pref_A](08-02.jpg)\n",
    "<br>\n",
    "![pref_B](08-03.jpg)\n",
    "<br>\n",
    "![pref_C](08-04.jpg)\n",
    "<br>\n",
    "舉例來說，在第 $\\rm\\color{orange}{3、6、9 ...}$ 次猜拳時，$\\rm{A}$ 不會出布；第 $\\rm\\color{orange}{15}$ 次猜拳時，$\\rm{A}$ 不會出布，$\\rm{B}$ 不會出剪刀；第 $\\rm\\color{orange}{35}$ 次猜拳時，$\\rm{B}$ 不會出剪刀，$\\rm{C}$ 不會出石頭；第 $\\rm\\color{orange}{105}$ 次猜拳時，除了$\\rm{A}$ 不會出布，$\\rm{B}$ 不會出剪刀，$\\rm{C}$ 也不會出石頭$\\cdot\\cdot\\cdot$ 餘此類推。  \n",
    "<br>\n",
    "請將每一輪每一個人的勝率 (不需要獨贏，只要有贏就算贏) 寫入 $\\rm{winning\\_pct.txt}$ 的檔案中。下圖是一個輸出格式範例：\n",
    "  \n",
    "![pref_C](08-05.jpg)"
   ]
  },
  {
   "cell_type": "code",
   "execution_count": null,
   "id": "c96c574d",
   "metadata": {
    "ExecuteTime": {
     "end_time": "2021-06-25T16:46:05.531983Z",
     "start_time": "2021-06-25T16:46:05.405513Z"
    }
   },
   "outputs": [],
   "source": []
  },
  {
   "cell_type": "markdown",
   "id": "fcbac0c8",
   "metadata": {},
   "source": [
    "### $\\Bbb{Q2.}$\n",
    "#### $\\cal{(a)}$\n",
    "在 $\\rm{mlist.txt}$ 中，會有以「X-DSPAM-Confidence:」開頭的資料列，例如：\n",
    "\n",
    "    X-DSPAM-Confidence: 0.8475\n",
    "    \n",
    "取出並累加所有資料列後面的浮點數，然後計算其平均 (浮點數總和$\\div$總列數) 並輸出於螢幕上。  "
   ]
  },
  {
   "cell_type": "code",
   "execution_count": null,
   "id": "f9f9e68b",
   "metadata": {
    "ExecuteTime": {
     "end_time": "2021-06-25T16:53:39.548436Z",
     "start_time": "2021-06-25T16:53:39.447653Z"
    }
   },
   "outputs": [],
   "source": []
  },
  {
   "cell_type": "markdown",
   "id": "3960f3f7",
   "metadata": {},
   "source": [
    "#### $\\cal{(b)}$\n",
    "$\\rm{CA-NY.txt}$ 為美國加州與紐約州在 $\\rm{1910-2020}$ 年間，每年新生兒被命名的名字與其數量，請使用 $\\rm\\color{orange}{pandas}$ 完成下列要求：\n",
    "1. 為檔案加上適當的欄位名稱\n",
    "2. 找出 $2003$ 年加州男性新生兒前十熱門的名字\n",
    "3. 找出 $2004$ 年紐約州女性新生兒前十熱門的名字"
   ]
  },
  {
   "cell_type": "code",
   "execution_count": null,
   "id": "a6f8feeb",
   "metadata": {
    "ExecuteTime": {
     "end_time": "2021-06-25T16:58:26.408565Z",
     "start_time": "2021-06-25T16:58:26.249413Z"
    }
   },
   "outputs": [],
   "source": []
  },
  {
   "cell_type": "markdown",
   "id": "e3005837",
   "metadata": {},
   "source": [
    "#### $\\cal{(c)}$\n",
    "$\\rm\\color{orange}{totals\\_2021.csv}$ 包含了 $2021-2022$ 球季所有美國國家籃球協會 ($\\rm{NBA}$) 球員的各項表現數據資料。請利用 $\\rm\\color{orange}{pandas}$ 完成下列要求：\n",
    "1. 求出金州勇士隊 ($\\rm\\color{orange}{GSW}$，隊伍欄位名為 $\\rm\\color{orange}{Tm}$) 整個球季的助攻失誤比。亦即，將球隊中所有人的總助攻 ($\\rm\\color{orange}{AST}$) 數除以總失誤 ($\\rm\\color{orange}{TOV}$) 數\n",
    "2. 新增「助攻-失誤比」欄位，其內容為「助攻數 / 失誤數」，並將欄位命名為 $\\rm\\color{orange}{ATT}$\n",
    "3. 找出場上位置 $\\rm\\color{orange}{Pos}$ 為控球後衛 ($\\rm\\color{orange}{PG}$)，且整季出賽時間 ($\\rm\\color{orange}{MP}$) 超過 $1000$ 分鐘的所有球員中，助攻-失誤比數據最高的前 $10$ 名球員"
   ]
  },
  {
   "cell_type": "code",
   "execution_count": null,
   "id": "e15ebfde",
   "metadata": {
    "ExecuteTime": {
     "end_time": "2021-06-25T16:59:49.914606Z",
     "start_time": "2021-06-25T16:59:49.440185Z"
    }
   },
   "outputs": [],
   "source": []
  },
  {
   "cell_type": "markdown",
   "id": "5e58cccc",
   "metadata": {},
   "source": [
    "### $\\Bbb{Q3.}$\n",
    "利用 $\\rm\\color{orange}{with\\space open...\\space as...}$ 的方式開啟 $\\rm{peter.txt}$，計算 $\\rm\\color{orange}{tink}$、$\\rm\\color{orange}{darling}$ 和 $\\rm\\color{orange}{the}$ 等 $3$ 個單字出現的次數，並將結果$\\color{orange}{分行}$寫入 $\\rm{peter\\_freq.txt}$ 這個檔案中。"
   ]
  },
  {
   "cell_type": "code",
   "execution_count": null,
   "id": "fc20d7b9",
   "metadata": {},
   "outputs": [],
   "source": []
  }
 ],
 "metadata": {
  "kernelspec": {
   "display_name": "Python 3 (ipykernel)",
   "language": "python",
   "name": "python3"
  },
  "language_info": {
   "codemirror_mode": {
    "name": "ipython",
    "version": 3
   },
   "file_extension": ".py",
   "mimetype": "text/x-python",
   "name": "python",
   "nbconvert_exporter": "python",
   "pygments_lexer": "ipython3",
   "version": "3.9.12"
  },
  "toc": {
   "base_numbering": 1,
   "nav_menu": {},
   "number_sections": true,
   "sideBar": true,
   "skip_h1_title": false,
   "title_cell": "Table of Contents",
   "title_sidebar": "Contents",
   "toc_cell": false,
   "toc_position": {},
   "toc_section_display": true,
   "toc_window_display": false
  },
  "varInspector": {
   "cols": {
    "lenName": 16,
    "lenType": 16,
    "lenVar": 40
   },
   "kernels_config": {
    "python": {
     "delete_cmd_postfix": "",
     "delete_cmd_prefix": "del ",
     "library": "var_list.py",
     "varRefreshCmd": "print(var_dic_list())"
    },
    "r": {
     "delete_cmd_postfix": ") ",
     "delete_cmd_prefix": "rm(",
     "library": "var_list.r",
     "varRefreshCmd": "cat(var_dic_list()) "
    }
   },
   "types_to_exclude": [
    "module",
    "function",
    "builtin_function_or_method",
    "instance",
    "_Feature"
   ],
   "window_display": false
  }
 },
 "nbformat": 4,
 "nbformat_minor": 5
}
