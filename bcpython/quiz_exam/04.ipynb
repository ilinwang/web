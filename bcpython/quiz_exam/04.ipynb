{
 "cells": [
  {
   "cell_type": "markdown",
   "metadata": {},
   "source": [
    "### 考拉茲猜想\n",
    "<br>\n",
    "\n",
    "考拉茲猜想是一個數學上未解的問題，它的敘述本身十分直觀：對所有自然數，如果它是奇數，則對它乘以 $3$ 再加 $1$；如果它是偶數，則對它除以 $2$，如此循環，最終都能夠得到 $1$。這個猜想尚未被證明，但是目前已知在足夠大的範圍之內，它都是成立的。\n",
    "<br><br>\n",
    "\n",
    "比方說，根據這個猜想，對 $17$ 進行處理，則我們會經過 $12$ 個步驟依序得到 $52,26,13,40,20,10,5,16,8,4,2,1$，當中最大的數是 $52$；而取 $26$ 時，則會經過 $10$ 個步驟，依序得到 $13,40,20,10,5,16,8,4,2,1$，當中最大的數是 $40$。\n",
    "<br><br>\n",
    "\n",
    "請實作出考拉茲猜想，它必須具備下列功能  \n",
    "1. 使用者可以輸入任意 $\\rm{\\le 500}$ 的正整數，如果不在此範圍，則在螢幕顯示一個錯誤訊息，並讓使用者不斷重新輸入，直到符合範圍為止\n",
    "2. 輸出每一個步驟的結果，並請改寫 $\\rm{print()}$，讓它不要每次輸出後都在新的一行開始\n",
    "3. 輸出所經歷的總步驟數與整個過程中最大的數"
   ]
  },
  {
   "cell_type": "code",
   "execution_count": null,
   "metadata": {},
   "outputs": [],
   "source": []
  },
  {
   "cell_type": "markdown",
   "metadata": {},
   "source": [
    "### 計算 $e$ 的近似值\n",
    "<br>\n",
    "\n",
    "自然對數的底 $e$ 的定義如下：\n",
    "<br><br>\n",
    "  \n",
    "$e=\\sum_{k=0}^{\\infty} \\frac{1}{k!}=\\frac{1}{0!}+\\frac{1}{1!}+\\frac{1}{2!}+\\cdot\\cdot\\cdot$\n",
    "  \n",
    "<br><br>\n",
    "當這個級數成長得越大，所估算出的 $\\rm {e}$ 值就越準。請觀察上面的級數規律，利用迴圈實作出 $\\rm {e}$ 的近似值。請至少把級數拓展至第 $\\rm\\color{orange}{500}$ 項。\n",
    "<br><br>\n",
    "提示：\n",
    "1. 應該會使用到巢狀迴圈\n",
    "2. $\\frac{1}{0!}$ 有點格格不入，我們可以先把這一項排除在迴圈之外\n",
    "3. 觀察剩下的項目，分母顯然是階乘，上課有學過利用迴圈實作階乘的方法，把每次的結果都變成倒數。然後，使用一個變數來把它們累加起來\n",
    "4. 最後，把 $\\rm{2.}$ 的結果加到 $\\rm{3.}$。如果一切順利，答案應該會很接近 $\\rm{2.71828\\cdot\\cdot\\cdot}$"
   ]
  },
  {
   "cell_type": "code",
   "execution_count": null,
   "metadata": {},
   "outputs": [],
   "source": []
  },
  {
   "cell_type": "markdown",
   "metadata": {},
   "source": [
    "### 三人猜拳\n",
    "<br>\n",
    "\n",
    "$\\rm{A、B、C}$ 三人猜拳，其各自出拳偏好如下圖所示。請模擬此三人猜拳 $10000$ 次，然後輸出 $\\rm{A}$ 和 $\\rm{C}$ 的勝率。請使用 $\\rm{f}$ 字串輸出「$A$ 的勝率為 $\\rm{0.xxx}$，$C$ 的勝率為 $\\rm{0.xxx}$」\n",
    "<br><br>\n",
    "\n",
    "![probabilities](04-01.jpg)"
   ]
  },
  {
   "cell_type": "code",
   "execution_count": null,
   "metadata": {},
   "outputs": [],
   "source": []
  }
 ],
 "metadata": {
  "kernelspec": {
   "display_name": "Python 3 (ipykernel)",
   "language": "python",
   "name": "python3"
  },
  "language_info": {
   "codemirror_mode": {
    "name": "ipython",
    "version": 3
   },
   "file_extension": ".py",
   "mimetype": "text/x-python",
   "name": "python",
   "nbconvert_exporter": "python",
   "pygments_lexer": "ipython3",
   "version": "3.9.12"
  },
  "toc": {
   "base_numbering": 1,
   "nav_menu": {},
   "number_sections": true,
   "sideBar": true,
   "skip_h1_title": false,
   "title_cell": "Table of Contents",
   "title_sidebar": "Contents",
   "toc_cell": false,
   "toc_position": {},
   "toc_section_display": true,
   "toc_window_display": false
  }
 },
 "nbformat": 4,
 "nbformat_minor": 4
}
