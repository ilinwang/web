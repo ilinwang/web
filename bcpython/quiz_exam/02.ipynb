{
 "cells": [
  {
   "cell_type": "markdown",
   "metadata": {},
   "source": [
    "#### 計算 $\\rm{e}$ 的近似值\n",
    "<br>\n",
    "\n",
    "自然對數的底 $\\rm{e}$ 的定義如下：\n",
    "<br><br>\n",
    "  \n",
    "$e=\\sum_{k=0}^{\\infty} \\frac{1}{k!}=\\frac{1}{0!}+\\frac{1}{1!}+\\frac{1}{2!}+\\cdot\\cdot\\cdot$\n",
    "  \n",
    "<br><br>\n",
    "當這個級數成長得越大，所估算出的 $\\rm{e}$ 值就越準。本題需要實做出以下兩件事：\n",
    "1. 寫出一個叫 $\\rm{fac()}$ 的函式，這個函式會接收一個參數 $\\rm{n}$，然後回傳 $\\rm{n}$ 階乘的值\n",
    "2. 觀察上面的級數規律，利用 $\\rm{for}$ 迴圈實作出 $\\rm{e}$ 的近似值。請至少把級數拓展至第 $500$ 項"
   ]
  },
  {
   "cell_type": "code",
   "execution_count": null,
   "metadata": {
    "ExecuteTime": {
     "end_time": "2020-04-15T03:00:03.687469Z",
     "start_time": "2020-04-15T03:00:03.664545Z"
    }
   },
   "outputs": [],
   "source": []
  },
  {
   "cell_type": "markdown",
   "metadata": {},
   "source": [
    "#### 階梯式移動\n",
    "<br>\n",
    "\n",
    "假設我們在第一象限做階梯式的移動。也就是說，不走斜角，只會上下左右動。我們每次都會隨機兩個數 $(x,y)$ 來代表走路的步數。比方說，$(3,6)$ 代表往右走 $3$，再往上走 $6$；而 $(-2,-1)$ 則代表往左走 $2$，再往下走 $1$。請寫出一個由原點開始，走到最接近而不超過 $(500,500)$ 的程式。\n",
    "<br><br><br>\n",
    "\n",
    "這個程式必須做到：  \n",
    "1. 每次步伐長度介於 $-5\\sim10$ 之間\n",
    "2. 無論是 $x$ 或 $y$，當加上這次的步數超過 $500$ 時，便會停止，並輸出在這之前最接近終點的位置與總步數\n",
    "3. 重複同樣的移動規則做 $100$ 次，輸出總步數最少那一次的結果"
   ]
  },
  {
   "cell_type": "code",
   "execution_count": null,
   "metadata": {},
   "outputs": [],
   "source": []
  }
 ],
 "metadata": {
  "kernelspec": {
   "display_name": "Python 3 (ipykernel)",
   "language": "python",
   "name": "python3"
  },
  "language_info": {
   "codemirror_mode": {
    "name": "ipython",
    "version": 3
   },
   "file_extension": ".py",
   "mimetype": "text/x-python",
   "name": "python",
   "nbconvert_exporter": "python",
   "pygments_lexer": "ipython3",
   "version": "3.9.12"
  },
  "toc": {
   "base_numbering": 1,
   "nav_menu": {},
   "number_sections": true,
   "sideBar": true,
   "skip_h1_title": false,
   "title_cell": "Table of Contents",
   "title_sidebar": "Contents",
   "toc_cell": false,
   "toc_position": {},
   "toc_section_display": true,
   "toc_window_display": false
  }
 },
 "nbformat": 4,
 "nbformat_minor": 2
}
