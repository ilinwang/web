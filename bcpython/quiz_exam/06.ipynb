{
 "cells": [
  {
   "cell_type": "markdown",
   "metadata": {},
   "source": [
    "(1)  \n",
    "寫出一個函式 weave(s1, s2)。這個函式將兩個字串 s1 和 s2 作為參數，並且回傳 (return) 一個新的字串。這個被回傳的新字串是利用一個迴圈把 s1 和 s2 中的字元「編織」在一起而形成: s1 中的第一個字元，後面跟著 s2 中的第一個字元，然後是 s1 中的第二個字元，s2 中的第二個字元... 等等。假設一個字串比另一個字串長，那麼它的額外字元應該緊跟在新字串之後。舉例來說，  \n",
    "  \n",
    "> weave( 'aaaaaa' , 'bbbbbb' )  \n",
    "> 'abababababab'  \n",
    ">   \n",
    "> weave( 'abcde' , 'VWXYZ' )  \n",
    "> 'aVbWcXdYeZ'  \n",
    ">   \n",
    "> weave( 'aaaaaa' , 'bb' ) # 四個多出來的 'a' 被放到最後  \n",
    "> 'ababaaaa'  \n",
    ">   \n",
    "> weave( 'aaaa' , 'bbbbbb' ) # 四個多出來的 'b' 被放到最後  \n",
    "> 'ababababbb'  \n",
    ">   \n",
    "> weave( 'aaaa' , '' ) # 所有的 'a' 都是多餘的  \n",
    "> 'aaaa'  \n",
    ">   \n",
    "> weave( '' , 'bbbb' ) # 所有的 'b' 都是多餘的  \n",
    "> 'bbbb'  \n",
    ">   \n",
    "> weave( '' , '' )  \n",
    "> ''"
   ]
  },
  {
   "cell_type": "code",
   "execution_count": null,
   "metadata": {},
   "outputs": [],
   "source": []
  },
  {
   "cell_type": "markdown",
   "metadata": {},
   "source": [
    "(2)  \n",
    "寫出一個函式 index(elem, seq)。它將元素 elem 和序列 seq 作為參數，並使用迴圈尋找且回傳 seq 中<font color='red'>第一次</font>出現 elem 的索引值。 序列 seq 可以是列表或字串: 如果 seq 是一個字串，elem 就會是一個字元。不要忘記序列中第一個元素的索引是0。  \n",
    "  \n",
    "注意，本題須滿足下列要求:  \n",
    "1. 如果 elem 不是 seq 的元素，則該函式應回傳 -1\n",
    "2. <font color='red'>不能</font>在此函式中使用 in 來測試 seq 中是否存在 elem\n",
    "3. <font color='red'>不能</font>使用任何專屬方法 (即字串或列表的 find() 或 index() 等)。 但是，可以使用 len 和 range 等內建函式\n",
    "    \n",
    "> index(5, [4, 10, 8, 5, 3, 5])  \n",
    "> 3  \n",
    ">   \n",
    "> index('hi', ['well', 'hi', 'there'])  \n",
    "> 1  \n",
    ">   \n",
    "> index('b', 'banana')  \n",
    "> 0  \n",
    ">   \n",
    "> index('a', 'banana')  \n",
    "> 1  \n",
    ">   \n",
    "> print(index('n', 'banana'))  \n",
    "> 2  \n",
    ">   \n",
    "> index('i', 'team')  \n",
    "> -1  \n",
    ">   \n",
    "> index(8, [4, 10, 5, 3])  \n",
    "> -1"
   ]
  },
  {
   "cell_type": "code",
   "execution_count": null,
   "metadata": {},
   "outputs": [],
   "source": []
  },
  {
   "cell_type": "markdown",
   "metadata": {},
   "source": [
    "(3)  \n",
    "寫出一個函式 count_ignore_case(s, sub)。它接收一個字串 s 和一個子字串 sub，並且使用一個或多個字串方法計算並回傳 s 中 sub 的出現次數，但忽略了其所涉及字母的情況。例如:  \n",
    "  \n",
    "> count_ignore_case('Yes, yes, YES!', 'yes')  \n",
    "> 3  \n",
    ">  \n",
    "> count_ignore_case('Yes, yes, YES!', 'YES')  \n",
    "> 3  \n",
    ">   \n",
    "> count_ignore_case('Yes, yes, YES!', 'yEs')  \n",
    "> 3  \n",
    ">   \n",
    "> count_ignore_case('Yes, yes, YES!', 'no')  \n",
    "> 0  \n",
    "  \n",
    "注意，本題須滿足下列要求:  \n",
    "1. 計算數量時，s 和 sub 中字母的大小寫無關緊要\n",
    "2. 必須使用一個以上的字串方法\n",
    "3. 不需要使用迴圈\n",
    "4. 確保函式回傳適當的整數"
   ]
  },
  {
   "cell_type": "code",
   "execution_count": null,
   "metadata": {},
   "outputs": [],
   "source": []
  },
  {
   "cell_type": "markdown",
   "metadata": {},
   "source": [
    "(4)  \n",
    "寫出一個函式 middle_name(fullname)。它接收一個字串 fullname 表示一個人的全名，並使用一個以上的字串方法計算並回傳表示該人的中間名的字符串。例如:  \n",
    "  \n",
    "> middle_name('Martin Luther King')  \n",
    "> 'Luther'  \n",
    "> middle_name('Sarah Jessica Parker')  \n",
    "> 'Jessica'  \n",
    "  \n",
    "如果全名具有三個或以上的部分，則應回傳第二個。即使有三個以上的部分也要這樣做。例如:  \n",
    "  \n",
    "> middle_name('Jose Antonio Dominguez Banderas')  \n",
    "> 'Antonio'  \n",
    "  \n",
    "如果全名少於三個部分，則應回傳一個空字串。例如:  \n",
    "  \n",
    "> middle_name('Abraham Lincoln')  \n",
    "> ''  \n",
    "> middle_name('Madonna')  \n",
    "> ''  \n",
    "  \n",
    "注意，本題須滿足下列要求:  \n",
    "1. 函式必須使用一個以上的字串方法來確定中間名。不應該使用迴圈\n",
    "2. 確保函數回傳相應的字串，而不是直接輸出它"
   ]
  },
  {
   "cell_type": "code",
   "execution_count": null,
   "metadata": {},
   "outputs": [],
   "source": []
  }
 ],
 "metadata": {
  "kernelspec": {
   "display_name": "Python 3 (ipykernel)",
   "language": "python",
   "name": "python3"
  },
  "language_info": {
   "codemirror_mode": {
    "name": "ipython",
    "version": 3
   },
   "file_extension": ".py",
   "mimetype": "text/x-python",
   "name": "python",
   "nbconvert_exporter": "python",
   "pygments_lexer": "ipython3",
   "version": "3.9.12"
  }
 },
 "nbformat": 4,
 "nbformat_minor": 2
}
