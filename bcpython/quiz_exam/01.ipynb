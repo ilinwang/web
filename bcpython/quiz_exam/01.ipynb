{
 "cells": [
  {
   "cell_type": "markdown",
   "id": "3a0d5666",
   "metadata": {},
   "source": [
    "### 關燈遊戲\n",
    "<br>\n",
    "\n",
    "開始答題之前，先執行一次程式，觀察矩陣初始的型態。\n",
    "下面是一個 $5\\times 5$ 的二軸列表 $\\rm{ary}$，其中，「$1$」代表燈亮，「$0$」代表燈暗。請滿足下列要求，完成此關燈遊戲。\n",
    "1. 讓使用者先後輸入 $\\rm{row}$ 與 $\\rm{col}$ 兩個介於 $1-3$ 之間的整數\n",
    "2. 若使用者輸入的值格式不符，或不在 $1.$ 的區間內，則跳出提示讓使用者重新輸入\n",
    "3. 開燈與關燈的規則：\n",
    "    * 若 $\\rm{ary[row][col]}$ 這個位置的燈是亮的，則它會被關上\n",
    "    * 若 $\\rm{ary[row][col]}$ 這個位置的燈是暗的，則它會被打開\n",
    "    * 位於 $\\rm{ary[row][col]}$ 上下左右的燈同樣遵守此一規則。若是亮的，會被關上；若是暗的，則會被打開\n",
    "2. 使用者每輸入一次位置，就以不帶任何中括號，且元素之間有一個空格的排版方式來輸出新的燈光變化\n",
    "3. 若使用者在任何時間點輸入「$\\rm{Q}$」或「$\\rm{q}$」，或整個矩陣範圍已經全暗，則遊戲會立即停止"
   ]
  },
  {
   "cell_type": "code",
   "execution_count": null,
   "id": "c5cc8602",
   "metadata": {},
   "outputs": [],
   "source": [
    "ary = [[0 for j in range(5)] for i in range(5)]\n",
    "ary[0][2] = 1\n",
    "ary[1][1] = 1\n",
    "ary[1][3] = 1\n",
    "ary[2][0] = 1\n",
    "ary[2][2] = 1\n",
    "ary[2][4] = 1\n",
    "ary[3][1] = 1\n",
    "ary[3][3] = 1\n",
    "ary[4][2] = 1\n",
    "print('Initial state:')\n",
    "for i in range(5):\n",
    "    for j in range(5):\n",
    "        print(ary[i][j], end=' ')\n",
    "    print()\n",
    "# --------------- 由此分隔線以下開始作答 ---------------\n"
   ]
  }
 ],
 "metadata": {
  "kernelspec": {
   "display_name": "Python 3 (ipykernel)",
   "language": "python",
   "name": "python3"
  },
  "language_info": {
   "codemirror_mode": {
    "name": "ipython",
    "version": 3
   },
   "file_extension": ".py",
   "mimetype": "text/x-python",
   "name": "python",
   "nbconvert_exporter": "python",
   "pygments_lexer": "ipython3",
   "version": "3.9.12"
  },
  "toc": {
   "base_numbering": 1,
   "nav_menu": {},
   "number_sections": true,
   "sideBar": true,
   "skip_h1_title": false,
   "title_cell": "Table of Contents",
   "title_sidebar": "Contents",
   "toc_cell": false,
   "toc_position": {},
   "toc_section_display": true,
   "toc_window_display": false
  }
 },
 "nbformat": 4,
 "nbformat_minor": 5
}
