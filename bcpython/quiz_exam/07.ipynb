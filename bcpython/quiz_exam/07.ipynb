{
 "cells": [
  {
   "cell_type": "markdown",
   "metadata": {},
   "source": [
    "### $\\Bbb{Q1.}$\n",
    "假設大樂透每月開八期，每期由 $\\color{orange}{1\\sim49}$ 號中抽出 $\\color{orange}{7}$ 個$\\color{orange}{不重複}$的號碼，其中最後一個數字固定為特別號，且中獎方式與獎金如下圖所示：\n",
    "  \n",
    "![lottery](finalA_01.jpg)\n",
    "  \n",
    "若某人每期固定購買 $\\color{orange}{20}$ 張大樂透 (每張 $\\color{orange}{50}$ 元，每張上有 $\\color{orange}{6}$ 個號碼)，請模擬其一年的損益，並將結果分月輸出至 $\\rm\\color{orange}{net\\_profit.txt}$ 檔案中。下圖是一個輸出格式範例：\n",
    "  \n",
    "![format](finalA_02.jpg)\n",
    "  "
   ]
  },
  {
   "cell_type": "code",
   "execution_count": null,
   "metadata": {},
   "outputs": [],
   "source": []
  },
  {
   "cell_type": "markdown",
   "metadata": {},
   "source": [
    "### $\\Bbb{Q2.}$\n",
    "#### $\\cal{(a)}$\n",
    "「$180$ 俱樂部」是指美國國家籃球協會 ($\\rm{NBA}$) 球員在整季的投籃命中率 ($\\rm\\color{orange}{FG\\%}$) 至少為 $50\\%$，三分命中率 ($\\rm\\color{orange}{3P%\\%}$) 至少為 $40\\%$，以及罰球命中率 ($\\rm\\color{orange}{FT\\%}$) 至少為 $90\\%$ ($50+40+90=180$)。同時，球員整季需要$\\color{orange}{命中}$至少 $300$ 次投籃 ($\\rm\\color{orange}{FG}$)，$82$ 次三分球 ($\\rm\\color{orange}{3P}$)，以及 $125$ 次罰球 ($\\rm\\color{orange}{FT}$)。  \n",
    "\n",
    "$\\rm\\color{orange}{totals\\_2021.csv}$ 包含了 $2021-2022$ 球季所有球員的各項表現數據資料，請根據上述條件，利用 $\\rm\\color{orange}{pandas}$ 找出所有符合條件的球員。"
   ]
  },
  {
   "cell_type": "code",
   "execution_count": null,
   "metadata": {},
   "outputs": [],
   "source": []
  },
  {
   "cell_type": "markdown",
   "metadata": {},
   "source": [
    "#### $\\cal{(b)}$\n",
    "一樣利用 $\\rm\\color{orange}{pandas}$ 與同一份檔案，找出 $\\rm{2021-2022}$ 球季的籃板王和得分王。為了達成此目標，必須先新增以下兩個欄位：\n",
    "1. $\\rm\\color{orange}{RPG}$ (rebounds per game, 每場平均籃板)：計算方式為整季的籃板數  ($\\rm\\color{orange}{TRB}$) 除以整季出賽數 ($\\rm\\color{orange}{G}$)，且整季出賽數必須不低於 $58$ 場\n",
    "2. $\\rm\\color{orange}{PPG}$ (points per game, 每場平均得分)：計算方式為整季的得分數  ($\\rm\\color{orange}{PTS}$) 除以整季出賽數 ($\\rm\\color{orange}{G}$)，且整季出賽數必須不低於 $58$ 場\n",
    "<br>  \n",
    "  \n",
    "完成之後，分別針對這兩個新增欄位進行由大到小的排序，然後取出第一筆資料即可。"
   ]
  },
  {
   "cell_type": "code",
   "execution_count": null,
   "metadata": {},
   "outputs": [],
   "source": []
  },
  {
   "cell_type": "markdown",
   "metadata": {},
   "source": [
    "### $\\Bbb{Q3.}$\n",
    "$\\rm{FL.txt}$ 為美國佛羅里達州在 $1910-2020$ 年間，每年新生兒被命名的名字與其數量。請利用 $\\rm\\color{orange}{pandas}$ 實作下列事項：\n",
    "1. 為檔案加上適當的欄位名稱\n",
    "2. 找出 $1910、1920、1930、\\cdot\\cdot\\cdot、2020$ 等整數年份中，被命名超過 $\\color{orange}{500}$ 次的所有女性新生兒名字"
   ]
  },
  {
   "cell_type": "code",
   "execution_count": null,
   "metadata": {},
   "outputs": [],
   "source": []
  },
  {
   "cell_type": "markdown",
   "metadata": {},
   "source": [
    "### $\\Bbb{Q4.}$\n",
    "利用 $\\rm\\color{orange}{with\\space open...\\space as...}$ 的方式開啟 $\\rm{peter.txt}$，計算$\\rm\\color{orange}{總行數}$與$\\rm\\color{orange}{總逗號數}$，並將結果$\\color{orange}{分行}$寫入 $\\rm{peter\\_stat.txt}$ 這個檔案中。"
   ]
  },
  {
   "cell_type": "code",
   "execution_count": null,
   "metadata": {},
   "outputs": [],
   "source": []
  }
 ],
 "metadata": {
  "kernelspec": {
   "display_name": "Python 3 (ipykernel)",
   "language": "python",
   "name": "python3"
  },
  "language_info": {
   "codemirror_mode": {
    "name": "ipython",
    "version": 3
   },
   "file_extension": ".py",
   "mimetype": "text/x-python",
   "name": "python",
   "nbconvert_exporter": "python",
   "pygments_lexer": "ipython3",
   "version": "3.9.12"
  },
  "toc": {
   "base_numbering": 1,
   "nav_menu": {},
   "number_sections": true,
   "sideBar": true,
   "skip_h1_title": false,
   "title_cell": "Table of Contents",
   "title_sidebar": "Contents",
   "toc_cell": false,
   "toc_position": {},
   "toc_section_display": true,
   "toc_window_display": false
  }
 },
 "nbformat": 4,
 "nbformat_minor": 4
}
